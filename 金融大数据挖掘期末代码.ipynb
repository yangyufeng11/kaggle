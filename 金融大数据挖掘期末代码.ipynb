{
 "cells": [
  {
   "cell_type": "markdown",
   "metadata": {
    "papermill": {
     "duration": 0.021612,
     "end_time": "2020-08-23T07:28:09.640790",
     "exception": false,
     "start_time": "2020-08-23T07:28:09.619178",
     "status": "completed"
    },
    "tags": []
   },
   "source": [
    "文件描述:\n",
    "* sales_train.csv--2013年1月至2015年10月的每日历史数据.\n",
    "* test.csv--测试集。您需要预测这些商店和产品在2015年11月的销售情况。\n",
    "* sample_submission.csv--正确格式的示例提交文件。\n",
    "* items.csv--关于项目/产品的补充信息。\n",
    "* item_categories.csv--关于项目类别的补充信息。\n",
    "* shops.csv--关于商店的csv补充信息。"
   ]
  },
  {
   "cell_type": "markdown",
   "metadata": {
    "papermill": {
     "duration": 0.018995,
     "end_time": "2020-08-23T07:28:09.679299",
     "exception": false,
     "start_time": "2020-08-23T07:28:09.660304",
     "status": "completed"
    },
    "tags": []
   },
   "source": [
    "数据字段：\n",
    "* ID--表示测试集中的元组(商店、项目)的ID\n",
    "* shop_id--商店的唯一标识符\n",
    "* item_id--产品的唯一标识符\n",
    "* item_category_id--项目类别的唯一标识符\n",
    "* item_cnt_day--售出的产品数量。你是在预测这个衡量中的每月数量\n",
    "* item_price--项目的当前价格\n",
    "* date--日期的格式为 dd/mm/yyyy\n",
    "* date_block_num--连续的月份号，为了方便使用。2013年1月是0,2013年2月是1,...,2015年10月是33\n",
    "* item_name--项目的名称\n",
    "* shop_name--商店名称\n",
    "* item_category_name--项目类别的名称"
   ]
  },
  {
   "cell_type": "markdown",
   "metadata": {
    "papermill": {
     "duration": 0.018865,
     "end_time": "2020-08-23T07:28:09.718278",
     "exception": false,
     "start_time": "2020-08-23T07:28:09.699413",
     "status": "completed"
    },
    "tags": []
   },
   "source": [
    "问题描述:\n",
    "* 我们获得了每日的历史销售数据（时间序列）。\n",
    "* 任务目标是预测测试集的每个商店的产品月销售总量。\n",
    "* 需要注意的是，商店和产品的列表每个月都有轻微的变化。因此创建一个能够处理这种情况的健壮模型是挑战中的一部分。"
   ]
  },
  {
   "cell_type": "markdown",
   "metadata": {
    "papermill": {
     "duration": 0.018929,
     "end_time": "2020-08-23T07:28:09.756391",
     "exception": false,
     "start_time": "2020-08-23T07:28:09.737462",
     "status": "completed"
    },
    "tags": []
   },
   "source": [
    "#### 导入分析需要的库模块"
   ]
  },
  {
   "cell_type": "code",
   "execution_count": 1,
   "metadata": {
    "execution": {
     "iopub.execute_input": "2020-08-23T07:28:09.802052Z",
     "iopub.status.busy": "2020-08-23T07:28:09.801346Z",
     "iopub.status.idle": "2020-08-23T07:28:10.823113Z",
     "shell.execute_reply": "2020-08-23T07:28:10.822379Z"
    },
    "papermill": {
     "duration": 1.047643,
     "end_time": "2020-08-23T07:28:10.823275",
     "exception": false,
     "start_time": "2020-08-23T07:28:09.775632",
     "status": "completed"
    },
    "tags": []
   },
   "outputs": [],
   "source": [
    "import numpy as np \n",
    "import pandas as pd \n",
    "import matplotlib\n",
    "import matplotlib.pyplot as plt\n",
    "import seaborn as sns \n",
    "\n",
    "sns.set() # 使用初始网格状绘图纸\n",
    "myfont = matplotlib.font_manager.FontProperties(fname=\"../input/fontssimhei/simhei.ttf\")\n",
    "plt.rcParams['font.family'] = ['Times New Roman']"
   ]
  },
  {
   "cell_type": "markdown",
   "metadata": {
    "papermill": {
     "duration": 0.019505,
     "end_time": "2020-08-23T07:28:10.863402",
     "exception": false,
     "start_time": "2020-08-23T07:28:10.843897",
     "status": "completed"
    },
    "tags": []
   },
   "source": [
    "#### 数据加载"
   ]
  },
  {
   "cell_type": "code",
   "execution_count": null,
   "metadata": {
    "execution": {
     "iopub.execute_input": "2020-08-23T07:28:10.914473Z",
     "iopub.status.busy": "2020-08-23T07:28:10.913382Z",
     "iopub.status.idle": "2020-08-23T07:28:13.095288Z",
     "shell.execute_reply": "2020-08-23T07:28:13.094485Z"
    },
    "papermill": {
     "duration": 2.212411,
     "end_time": "2020-08-23T07:28:13.095457",
     "exception": false,
     "start_time": "2020-08-23T07:28:10.883046",
     "status": "completed"
    },
    "tags": []
   },
   "outputs": [],
   "source": [
    "sales_train = pd.read_csv('C:/Users/Lenovo/Desktop/金融大数据挖掘期末/sales_train.csv')\n",
    "items = pd.read_csv('C:/Users/Lenovo/Desktop/金融大数据挖掘期末/items.csv')\n",
    "item_cats = pd.read_csv('C:/Users/Lenovo/Desktop/金融大数据挖掘期末/item_categories.csv')\n",
    "shops = pd.read_csv('C:/Users/Lenovo/Desktop/金融大数据挖掘期末/shops.csv')\n",
    "test = pd.read_csv('C:/Users/Lenovo/Desktop/金融大数据挖掘期末/test.csv')\n",
    "submission = pd.read_csv('C:/Users/Lenovo/Desktop/金融大数据挖掘期末/sample_submission.csv')"
   ]
  },
  {
   "cell_type": "code",
   "execution_count": null,
   "metadata": {
    "execution": {
     "iopub.execute_input": "2020-08-23T07:28:13.153794Z",
     "iopub.status.busy": "2020-08-23T07:28:13.153064Z",
     "iopub.status.idle": "2020-08-23T07:28:13.163611Z",
     "shell.execute_reply": "2020-08-23T07:28:13.162968Z"
    },
    "papermill": {
     "duration": 0.048441,
     "end_time": "2020-08-23T07:28:13.163743",
     "exception": false,
     "start_time": "2020-08-23T07:28:13.115302",
     "status": "completed"
    },
    "tags": []
   },
   "outputs": [
    {
     "data": {
      "text/html": [
       "<div>\n",
       "<style scoped>\n",
       "    .dataframe tbody tr th:only-of-type {\n",
       "        vertical-align: middle;\n",
       "    }\n",
       "\n",
       "    .dataframe tbody tr th {\n",
       "        vertical-align: top;\n",
       "    }\n",
       "\n",
       "    .dataframe thead th {\n",
       "        text-align: right;\n",
       "    }\n",
       "</style>\n",
       "<table border=\"1\" class=\"dataframe\">\n",
       "  <thead>\n",
       "    <tr style=\"text-align: right;\">\n",
       "      <th></th>\n",
       "      <th>date</th>\n",
       "      <th>date_block_num</th>\n",
       "      <th>shop_id</th>\n",
       "      <th>item_id</th>\n",
       "      <th>item_price</th>\n",
       "      <th>item_cnt_day</th>\n",
       "    </tr>\n",
       "  </thead>\n",
       "  <tbody>\n",
       "    <tr>\n",
       "      <th>0</th>\n",
       "      <td>02.01.2013</td>\n",
       "      <td>0</td>\n",
       "      <td>59</td>\n",
       "      <td>22154</td>\n",
       "      <td>999.00</td>\n",
       "      <td>1.0</td>\n",
       "    </tr>\n",
       "    <tr>\n",
       "      <th>1</th>\n",
       "      <td>03.01.2013</td>\n",
       "      <td>0</td>\n",
       "      <td>25</td>\n",
       "      <td>2552</td>\n",
       "      <td>899.00</td>\n",
       "      <td>1.0</td>\n",
       "    </tr>\n",
       "    <tr>\n",
       "      <th>2</th>\n",
       "      <td>05.01.2013</td>\n",
       "      <td>0</td>\n",
       "      <td>25</td>\n",
       "      <td>2552</td>\n",
       "      <td>899.00</td>\n",
       "      <td>-1.0</td>\n",
       "    </tr>\n",
       "    <tr>\n",
       "      <th>3</th>\n",
       "      <td>06.01.2013</td>\n",
       "      <td>0</td>\n",
       "      <td>25</td>\n",
       "      <td>2554</td>\n",
       "      <td>1709.05</td>\n",
       "      <td>1.0</td>\n",
       "    </tr>\n",
       "    <tr>\n",
       "      <th>4</th>\n",
       "      <td>15.01.2013</td>\n",
       "      <td>0</td>\n",
       "      <td>25</td>\n",
       "      <td>2555</td>\n",
       "      <td>1099.00</td>\n",
       "      <td>1.0</td>\n",
       "    </tr>\n",
       "    <tr>\n",
       "      <th>2935844</th>\n",
       "      <td>10.10.2015</td>\n",
       "      <td>33</td>\n",
       "      <td>25</td>\n",
       "      <td>7409</td>\n",
       "      <td>299.00</td>\n",
       "      <td>1.0</td>\n",
       "    </tr>\n",
       "    <tr>\n",
       "      <th>2935845</th>\n",
       "      <td>09.10.2015</td>\n",
       "      <td>33</td>\n",
       "      <td>25</td>\n",
       "      <td>7460</td>\n",
       "      <td>299.00</td>\n",
       "      <td>1.0</td>\n",
       "    </tr>\n",
       "    <tr>\n",
       "      <th>2935846</th>\n",
       "      <td>14.10.2015</td>\n",
       "      <td>33</td>\n",
       "      <td>25</td>\n",
       "      <td>7459</td>\n",
       "      <td>349.00</td>\n",
       "      <td>1.0</td>\n",
       "    </tr>\n",
       "    <tr>\n",
       "      <th>2935847</th>\n",
       "      <td>22.10.2015</td>\n",
       "      <td>33</td>\n",
       "      <td>25</td>\n",
       "      <td>7440</td>\n",
       "      <td>299.00</td>\n",
       "      <td>1.0</td>\n",
       "    </tr>\n",
       "    <tr>\n",
       "      <th>2935848</th>\n",
       "      <td>03.10.2015</td>\n",
       "      <td>33</td>\n",
       "      <td>25</td>\n",
       "      <td>7460</td>\n",
       "      <td>299.00</td>\n",
       "      <td>1.0</td>\n",
       "    </tr>\n",
       "  </tbody>\n",
       "</table>\n",
       "</div>"
      ],
      "text/plain": [
       "               date  date_block_num  shop_id  item_id  item_price  \\\n",
       "0        02.01.2013               0       59    22154      999.00   \n",
       "1        03.01.2013               0       25     2552      899.00   \n",
       "2        05.01.2013               0       25     2552      899.00   \n",
       "3        06.01.2013               0       25     2554     1709.05   \n",
       "4        15.01.2013               0       25     2555     1099.00   \n",
       "2935844  10.10.2015              33       25     7409      299.00   \n",
       "2935845  09.10.2015              33       25     7460      299.00   \n",
       "2935846  14.10.2015              33       25     7459      349.00   \n",
       "2935847  22.10.2015              33       25     7440      299.00   \n",
       "2935848  03.10.2015              33       25     7460      299.00   \n",
       "\n",
       "         item_cnt_day  \n",
       "0                 1.0  \n",
       "1                 1.0  \n",
       "2                -1.0  \n",
       "3                 1.0  \n",
       "4                 1.0  \n",
       "2935844           1.0  \n",
       "2935845           1.0  \n",
       "2935846           1.0  \n",
       "2935847           1.0  \n",
       "2935848           1.0  "
      ]
     },
     "execution_count": 3,
     "metadata": {},
     "output_type": "execute_result"
    }
   ],
   "source": [
    "#查看训练集销售量的前5个和后5个样本\n",
    "result = pd.concat([sales_train.head(5), sales_train.tail(5)])\n",
    "print(result)"
   ]
  },
  {
   "cell_type": "code",
   "execution_count": 4,
   "metadata": {
    "execution": {
     "iopub.execute_input": "2020-08-23T07:28:13.209056Z",
     "iopub.status.busy": "2020-08-23T07:28:13.208098Z",
     "iopub.status.idle": "2020-08-23T07:28:13.212022Z",
     "shell.execute_reply": "2020-08-23T07:28:13.211418Z"
    },
    "papermill": {
     "duration": 0.028467,
     "end_time": "2020-08-23T07:28:13.212136",
     "exception": false,
     "start_time": "2020-08-23T07:28:13.183669",
     "status": "completed"
    },
    "tags": []
   },
   "outputs": [
    {
     "name": "stdout",
     "output_type": "stream",
     "text": [
      "(2935849, 6)\n"
     ]
    }
   ],
   "source": [
    "#训练集数据形状\n",
    "print(sales_train.shape)"
   ]
  },
  {
   "cell_type": "code",
   "execution_count": null,
   "metadata": {
    "execution": {
     "iopub.execute_input": "2020-08-23T07:28:13.263468Z",
     "iopub.status.busy": "2020-08-23T07:28:13.262466Z",
     "iopub.status.idle": "2020-08-23T07:28:13.266923Z",
     "shell.execute_reply": "2020-08-23T07:28:13.266373Z"
    },
    "papermill": {
     "duration": 0.034561,
     "end_time": "2020-08-23T07:28:13.267040",
     "exception": false,
     "start_time": "2020-08-23T07:28:13.232479",
     "status": "completed"
    },
    "tags": []
   },
   "outputs": [
    {
     "data": {
      "text/html": [
       "<div>\n",
       "<style scoped>\n",
       "    .dataframe tbody tr th:only-of-type {\n",
       "        vertical-align: middle;\n",
       "    }\n",
       "\n",
       "    .dataframe tbody tr th {\n",
       "        vertical-align: top;\n",
       "    }\n",
       "\n",
       "    .dataframe thead th {\n",
       "        text-align: right;\n",
       "    }\n",
       "</style>\n",
       "<table border=\"1\" class=\"dataframe\">\n",
       "  <thead>\n",
       "    <tr style=\"text-align: right;\">\n",
       "      <th></th>\n",
       "      <th>ID</th>\n",
       "      <th>shop_id</th>\n",
       "      <th>item_id</th>\n",
       "    </tr>\n",
       "  </thead>\n",
       "  <tbody>\n",
       "    <tr>\n",
       "      <th>0</th>\n",
       "      <td>0</td>\n",
       "      <td>5</td>\n",
       "      <td>5037</td>\n",
       "    </tr>\n",
       "    <tr>\n",
       "      <th>1</th>\n",
       "      <td>1</td>\n",
       "      <td>5</td>\n",
       "      <td>5320</td>\n",
       "    </tr>\n",
       "    <tr>\n",
       "      <th>2</th>\n",
       "      <td>2</td>\n",
       "      <td>5</td>\n",
       "      <td>5233</td>\n",
       "    </tr>\n",
       "    <tr>\n",
       "      <th>3</th>\n",
       "      <td>3</td>\n",
       "      <td>5</td>\n",
       "      <td>5232</td>\n",
       "    </tr>\n",
       "    <tr>\n",
       "      <th>4</th>\n",
       "      <td>4</td>\n",
       "      <td>5</td>\n",
       "      <td>5268</td>\n",
       "    </tr>\n",
       "    <tr>\n",
       "      <th>214195</th>\n",
       "      <td>214195</td>\n",
       "      <td>45</td>\n",
       "      <td>18454</td>\n",
       "    </tr>\n",
       "    <tr>\n",
       "      <th>214196</th>\n",
       "      <td>214196</td>\n",
       "      <td>45</td>\n",
       "      <td>16188</td>\n",
       "    </tr>\n",
       "    <tr>\n",
       "      <th>214197</th>\n",
       "      <td>214197</td>\n",
       "      <td>45</td>\n",
       "      <td>15757</td>\n",
       "    </tr>\n",
       "    <tr>\n",
       "      <th>214198</th>\n",
       "      <td>214198</td>\n",
       "      <td>45</td>\n",
       "      <td>19648</td>\n",
       "    </tr>\n",
       "    <tr>\n",
       "      <th>214199</th>\n",
       "      <td>214199</td>\n",
       "      <td>45</td>\n",
       "      <td>969</td>\n",
       "    </tr>\n",
       "  </tbody>\n",
       "</table>\n",
       "</div>"
      ],
      "text/plain": [
       "            ID  shop_id  item_id\n",
       "0            0        5     5037\n",
       "1            1        5     5320\n",
       "2            2        5     5233\n",
       "3            3        5     5232\n",
       "4            4        5     5268\n",
       "214195  214195       45    18454\n",
       "214196  214196       45    16188\n",
       "214197  214197       45    15757\n",
       "214198  214198       45    19648\n",
       "214199  214199       45      969"
      ]
     },
     "execution_count": 5,
     "metadata": {},
     "output_type": "execute_result"
    }
   ],
   "source": [
    "import pandas as pd\n",
    "\n",
    "# 测试集数据（待预测）查看\n",
    "result = pd.concat([test.head(5), test.tail(5)])\n",
    "print(result)"
   ]
  },
  {
   "cell_type": "markdown",
   "metadata": {
    "papermill": {
     "duration": 0.019782,
     "end_time": "2020-08-23T07:28:13.306797",
     "exception": false,
     "start_time": "2020-08-23T07:28:13.287015",
     "status": "completed"
    },
    "tags": []
   },
   "source": [
    "我们需要预测不同ID对应商品（不同种类，存在于不同商店）下个月的销售量大小"
   ]
  },
  {
   "cell_type": "markdown",
   "metadata": {
    "papermill": {
     "duration": 0.020156,
     "end_time": "2020-08-23T07:28:13.347267",
     "exception": false,
     "start_time": "2020-08-23T07:28:13.327111",
     "status": "completed"
    },
    "tags": []
   },
   "source": [
    "### 对数据进行探索性分析"
   ]
  },
  {
   "cell_type": "markdown",
   "metadata": {
    "papermill": {
     "duration": 0.020003,
     "end_time": "2020-08-23T07:28:13.387350",
     "exception": false,
     "start_time": "2020-08-23T07:28:13.367347",
     "status": "completed"
    },
    "tags": []
   },
   "source": [
    "#### 查看销售数据的数据分布情况"
   ]
  },
  {
   "cell_type": "code",
   "execution_count": null,
   "metadata": {
    "execution": {
     "iopub.execute_input": "2020-08-23T07:28:13.449769Z",
     "iopub.status.busy": "2020-08-23T07:28:13.448981Z",
     "iopub.status.idle": "2020-08-23T07:28:17.357937Z",
     "shell.execute_reply": "2020-08-23T07:28:17.358474Z"
    },
    "papermill": {
     "duration": 3.95038,
     "end_time": "2020-08-23T07:28:17.358631",
     "exception": false,
     "start_time": "2020-08-23T07:28:13.408251",
     "status": "completed"
    },
    "tags": []
   },
   "outputs": [
    {
     "data": {
      "image/png": "[encoded data removed]",
      "text/plain": [
       "<Figure size 1440x720 with 5 Axes>"
      ]
     },
     "metadata": {},
     "output_type": "display_data"
    }
   ],
   "source": [
    "import matplotlib.pyplot as plt\n",
    "from matplotlib.font_manager import FontProperties\n",
    "\n",
    "# 设置字体为系统中的 SimHei（黑体）\n",
    "myfont = FontProperties(family='SimHei', size=12)\n",
    "\n",
    "fig = plt.figure(figsize=(20, 10))  # 画布大小设置\n",
    "plt.subplots_adjust(hspace=.4)  # 调整子图的位置距离，hspace（垂直间距）= 0.4\n",
    "\n",
    "# 查看 shop_id 的分布\n",
    "plt.subplot2grid((3, 3), (0, 0), rowspan=1, colspan=3)\n",
    "sales_train['shop_id'].value_counts(normalize=True).plot(kind='bar', color='orangered')\n",
    "plt.title('商店ID的分布状态（图1）', fontproperties=myfont)\n",
    "plt.xlabel('商店ID', fontproperties=myfont)\n",
    "plt.ylabel('标准化出现次数', fontproperties=myfont)\n",
    "\n",
    "# 查看 item_id 的分布\n",
    "plt.subplot2grid((3, 3), (1, 0), rowspan=1, colspan=1)\n",
    "sales_train['item_id'].plot(kind='hist', color='deepskyblue')\n",
    "plt.title('产品ID的分布状态（图2）', fontproperties=myfont)\n",
    "plt.xlabel('产品ID', fontproperties=myfont)\n",
    "plt.ylabel('出现次数', fontproperties=myfont)\n",
    "\n",
    "# 查看 item_price 的分布\n",
    "plt.subplot2grid((3, 3), (1, 1), rowspan=1, colspan=1)\n",
    "sales_train['item_price'].plot(kind='hist', color='darkorange')\n",
    "plt.title('产品价格的分布状态（图3）', fontproperties=myfont)\n",
    "plt.xlabel('产品价格', fontproperties=myfont)\n",
    "plt.ylabel('出现次数', fontproperties=myfont)\n",
    "\n",
    "# 查看 item_cnt_day 的分布\n",
    "plt.subplot2grid((3, 3), (1, 2), rowspan=1, colspan=1)\n",
    "sales_train['item_cnt_day'].plot(kind='hist', color='cornflowerblue')\n",
    "plt.title('产品销售量的分布状态（图4）', fontproperties=myfont)\n",
    "plt.xlabel('产品销售量', fontproperties=myfont)\n",
    "plt.ylabel('出现次数', fontproperties=myfont)\n",
    "\n",
    "# 查看 date_block_num 的分布\n",
    "plt.subplot2grid((3, 3), (2, 0), rowspan=1, colspan=3)\n",
    "sales_train['date_block_num'].value_counts(normalize=True).plot(kind='bar', color='darkseagreen')\n",
    "plt.title('月份数与销售记录的分布状态（图5）', fontproperties=myfont)\n",
    "plt.xlabel('月份数', fontproperties=myfont)\n",
    "plt.ylabel('标准化销售记录的出现次数', fontproperties=myfont)\n",
    "\n",
    "plt.show()"
   ]
  },
  {
   "cell_type": "markdown",
   "metadata": {
    "papermill": {
     "duration": 0.021429,
     "end_time": "2020-08-23T07:28:17.401559",
     "exception": false,
     "start_time": "2020-08-23T07:28:17.380130",
     "status": "completed"
    },
    "tags": []
   },
   "source": [
    "从图像分析可知：\n",
    "* 图1：我们约有60个商店ID，但是在数据集中它们的分布不太均匀。最多的4个ID占据了整个ID里的25%左右，即31、25、54、28号商店。\n",
    "\n",
    "* 图2：商品的ID在频率上有些许变化，某些ID的出现次数更多，同一个箱内的商品ID可能代表由相似的产品。\n",
    "\n",
    "* 图3/图4：从产品价格和产品销量的直方图分布中可见巨大的空白区域，这说明在二者分布中存在着极端的异常值 (如产品价格极大值为30多万，而普遍却在2.5万以内），这些异常值肯定需要处理。\n",
    "\n",
    "* 图5：这是从2013年1月到2015年10月的月份值数据，可以发现num=11时（2013年12月）有最多的销售记录，且num=23时（2014年12月）有第二多的销售记录，可以推断最多销售发生于每年的年末，这对我们预测2015年11月的数据有一定参考价值。"
   ]
  },
  {
   "cell_type": "markdown",
   "metadata": {
    "papermill": {
     "duration": 0.022502,
     "end_time": "2020-08-23T07:28:17.445138",
     "exception": false,
     "start_time": "2020-08-23T07:28:17.422636",
     "status": "completed"
    },
    "tags": []
   },
   "source": [
    "#### 对于异常值的分析和处理"
   ]
  },
  {
   "cell_type": "markdown",
   "metadata": {
    "papermill": {
     "duration": 0.020915,
     "end_time": "2020-08-23T07:28:17.487385",
     "exception": false,
     "start_time": "2020-08-23T07:28:17.466470",
     "status": "completed"
    },
    "tags": []
   },
   "source": [
    "（1）处理商品的销售价格"
   ]
  },
  {
   "cell_type": "code",
   "execution_count": 7,
   "metadata": {
    "execution": {
     "iopub.execute_input": "2020-08-23T07:28:17.587441Z",
     "iopub.status.busy": "2020-08-23T07:28:17.586686Z",
     "iopub.status.idle": "2020-08-23T07:28:17.981206Z",
     "shell.execute_reply": "2020-08-23T07:28:17.980565Z"
    },
    "papermill": {
     "duration": 0.472498,
     "end_time": "2020-08-23T07:28:17.981329",
     "exception": false,
     "start_time": "2020-08-23T07:28:17.508831",
     "status": "completed"
    },
    "tags": []
   },
   "outputs": [
    {
     "data": {
      "text/plain": [
       "1163158    307980.0\n",
       "885138      59200.0\n",
       "1488135     50999.0\n",
       "2327159     49782.0\n",
       "2910156     42990.0\n",
       "Name: item_price, dtype: float64"
      ]
     },
     "execution_count": 7,
     "metadata": {},
     "output_type": "execute_result"
    }
   ],
   "source": [
    "#查看排序最大的前五个商品价格\n",
    "sales_train['item_price'].sort_values(ascending=False)[:5]"
   ]
  },
  {
   "cell_type": "code",
   "execution_count": 8,
   "metadata": {
    "execution": {
     "iopub.execute_input": "2020-08-23T07:28:18.030746Z",
     "iopub.status.busy": "2020-08-23T07:28:18.029703Z",
     "iopub.status.idle": "2020-08-23T07:28:18.049382Z",
     "shell.execute_reply": "2020-08-23T07:28:18.048738Z"
    },
    "papermill": {
     "duration": 0.046975,
     "end_time": "2020-08-23T07:28:18.049508",
     "exception": false,
     "start_time": "2020-08-23T07:28:18.002533",
     "status": "completed"
    },
    "tags": []
   },
   "outputs": [
    {
     "data": {
      "text/html": [
       "<div>\n",
       "<style scoped>\n",
       "    .dataframe tbody tr th:only-of-type {\n",
       "        vertical-align: middle;\n",
       "    }\n",
       "\n",
       "    .dataframe tbody tr th {\n",
       "        vertical-align: top;\n",
       "    }\n",
       "\n",
       "    .dataframe thead th {\n",
       "        text-align: right;\n",
       "    }\n",
       "</style>\n",
       "<table border=\"1\" class=\"dataframe\">\n",
       "  <thead>\n",
       "    <tr style=\"text-align: right;\">\n",
       "      <th></th>\n",
       "      <th>date</th>\n",
       "      <th>date_block_num</th>\n",
       "      <th>shop_id</th>\n",
       "      <th>item_id</th>\n",
       "      <th>item_price</th>\n",
       "      <th>item_cnt_day</th>\n",
       "    </tr>\n",
       "  </thead>\n",
       "  <tbody>\n",
       "    <tr>\n",
       "      <th>1163158</th>\n",
       "      <td>13.12.2013</td>\n",
       "      <td>11</td>\n",
       "      <td>12</td>\n",
       "      <td>6066</td>\n",
       "      <td>307980.0</td>\n",
       "      <td>1.0</td>\n",
       "    </tr>\n",
       "  </tbody>\n",
       "</table>\n",
       "</div>"
      ],
      "text/plain": [
       "               date  date_block_num  shop_id  item_id  item_price  \\\n",
       "1163158  13.12.2013              11       12     6066    307980.0   \n",
       "\n",
       "         item_cnt_day  \n",
       "1163158           1.0  "
      ]
     },
     "execution_count": 8,
     "metadata": {},
     "output_type": "execute_result"
    }
   ],
   "source": [
    "#进一步检查该三十多万的售价商品\n",
    "#在数据中找到对应整体信息\n",
    "sales_train[sales_train['item_price'] == 307980]"
   ]
  },
  {
   "cell_type": "code",
   "execution_count": 9,
   "metadata": {
    "execution": {
     "iopub.execute_input": "2020-08-23T07:28:18.102964Z",
     "iopub.status.busy": "2020-08-23T07:28:18.102299Z",
     "iopub.status.idle": "2020-08-23T07:28:18.115038Z",
     "shell.execute_reply": "2020-08-23T07:28:18.114110Z"
    },
    "papermill": {
     "duration": 0.044437,
     "end_time": "2020-08-23T07:28:18.115244",
     "exception": false,
     "start_time": "2020-08-23T07:28:18.070807",
     "status": "completed"
    },
    "tags": []
   },
   "outputs": [
    {
     "data": {
      "text/html": [
       "<div>\n",
       "<style scoped>\n",
       "    .dataframe tbody tr th:only-of-type {\n",
       "        vertical-align: middle;\n",
       "    }\n",
       "\n",
       "    .dataframe tbody tr th {\n",
       "        vertical-align: top;\n",
       "    }\n",
       "\n",
       "    .dataframe thead th {\n",
       "        text-align: right;\n",
       "    }\n",
       "</style>\n",
       "<table border=\"1\" class=\"dataframe\">\n",
       "  <thead>\n",
       "    <tr style=\"text-align: right;\">\n",
       "      <th></th>\n",
       "      <th>item_name</th>\n",
       "      <th>item_id</th>\n",
       "      <th>item_category_id</th>\n",
       "    </tr>\n",
       "  </thead>\n",
       "  <tbody>\n",
       "    <tr>\n",
       "      <th>6066</th>\n",
       "      <td>Radmin 3  - 522 лиц.</td>\n",
       "      <td>6066</td>\n",
       "      <td>75</td>\n",
       "    </tr>\n",
       "  </tbody>\n",
       "</table>\n",
       "</div>"
      ],
      "text/plain": [
       "                 item_name  item_id  item_category_id\n",
       "6066  Radmin 3  - 522 лиц.     6066                75"
      ]
     },
     "execution_count": 9,
     "metadata": {},
     "output_type": "execute_result"
    }
   ],
   "source": [
    "#在商品介绍中找到对应信息\n",
    "items[items['item_id'] == 6066]"
   ]
  },
  {
   "cell_type": "code",
   "execution_count": 10,
   "metadata": {
    "execution": {
     "iopub.execute_input": "2020-08-23T07:28:18.187696Z",
     "iopub.status.busy": "2020-08-23T07:28:18.186620Z",
     "iopub.status.idle": "2020-08-23T07:28:18.202886Z",
     "shell.execute_reply": "2020-08-23T07:28:18.203592Z"
    },
    "papermill": {
     "duration": 0.055563,
     "end_time": "2020-08-23T07:28:18.203808",
     "exception": false,
     "start_time": "2020-08-23T07:28:18.148245",
     "status": "completed"
    },
    "tags": []
   },
   "outputs": [
    {
     "data": {
      "text/html": [
       "<div>\n",
       "<style scoped>\n",
       "    .dataframe tbody tr th:only-of-type {\n",
       "        vertical-align: middle;\n",
       "    }\n",
       "\n",
       "    .dataframe tbody tr th {\n",
       "        vertical-align: top;\n",
       "    }\n",
       "\n",
       "    .dataframe thead th {\n",
       "        text-align: right;\n",
       "    }\n",
       "</style>\n",
       "<table border=\"1\" class=\"dataframe\">\n",
       "  <thead>\n",
       "    <tr style=\"text-align: right;\">\n",
       "      <th></th>\n",
       "      <th>date</th>\n",
       "      <th>date_block_num</th>\n",
       "      <th>shop_id</th>\n",
       "      <th>item_id</th>\n",
       "      <th>item_price</th>\n",
       "      <th>item_cnt_day</th>\n",
       "    </tr>\n",
       "  </thead>\n",
       "  <tbody>\n",
       "    <tr>\n",
       "      <th>1163158</th>\n",
       "      <td>13.12.2013</td>\n",
       "      <td>11</td>\n",
       "      <td>12</td>\n",
       "      <td>6066</td>\n",
       "      <td>307980.0</td>\n",
       "      <td>1.0</td>\n",
       "    </tr>\n",
       "  </tbody>\n",
       "</table>\n",
       "</div>"
      ],
      "text/plain": [
       "               date  date_block_num  shop_id  item_id  item_price  \\\n",
       "1163158  13.12.2013              11       12     6066    307980.0   \n",
       "\n",
       "         item_cnt_day  \n",
       "1163158           1.0  "
      ]
     },
     "execution_count": 10,
     "metadata": {},
     "output_type": "execute_result"
    }
   ],
   "source": [
    "#这是一种俄罗斯的防病毒产品，销售给了522人。我们需要进一步查看数据集中还有无关于此商品的记录\n",
    "sales_train[sales_train['item_id'] == 6066]"
   ]
  },
  {
   "cell_type": "code",
   "execution_count": 11,
   "metadata": {
    "execution": {
     "iopub.execute_input": "2020-08-23T07:28:18.279255Z",
     "iopub.status.busy": "2020-08-23T07:28:18.278047Z",
     "iopub.status.idle": "2020-08-23T07:28:18.498807Z",
     "shell.execute_reply": "2020-08-23T07:28:18.498227Z"
    },
    "papermill": {
     "duration": 0.261855,
     "end_time": "2020-08-23T07:28:18.498926",
     "exception": false,
     "start_time": "2020-08-23T07:28:18.237071",
     "status": "completed"
    },
    "tags": []
   },
   "outputs": [],
   "source": [
    "#显然，只有一条记录是关于此商品名的，故可以当作一个异常值删除\n",
    "sales_train = sales_train[sales_train['item_price'] < 300000]"
   ]
  },
  {
   "cell_type": "code",
   "execution_count": 12,
   "metadata": {
    "execution": {
     "iopub.execute_input": "2020-08-23T07:28:18.547534Z",
     "iopub.status.busy": "2020-08-23T07:28:18.546788Z",
     "iopub.status.idle": "2020-08-23T07:28:18.999988Z",
     "shell.execute_reply": "2020-08-23T07:28:18.999326Z"
    },
    "papermill": {
     "duration": 0.479584,
     "end_time": "2020-08-23T07:28:19.000113",
     "exception": false,
     "start_time": "2020-08-23T07:28:18.520529",
     "status": "completed"
    },
    "tags": []
   },
   "outputs": [
    {
     "data": {
      "text/plain": [
       "484683   -1.0000\n",
       "608763    0.0700\n",
       "579766    0.0700\n",
       "611400    0.0875\n",
       "673155    0.0900\n",
       "Name: item_price, dtype: float64"
      ]
     },
     "execution_count": 12,
     "metadata": {},
     "output_type": "execute_result"
    }
   ],
   "source": [
    "#检查极小值端的异常情况\n",
    "sales_train['item_price'].sort_values(ascending=True)[:5]"
   ]
  },
  {
   "cell_type": "code",
   "execution_count": 13,
   "metadata": {
    "execution": {
     "iopub.execute_input": "2020-08-23T07:28:19.052731Z",
     "iopub.status.busy": "2020-08-23T07:28:19.051715Z",
     "iopub.status.idle": "2020-08-23T07:28:19.064351Z",
     "shell.execute_reply": "2020-08-23T07:28:19.063683Z"
    },
    "papermill": {
     "duration": 0.042015,
     "end_time": "2020-08-23T07:28:19.064472",
     "exception": false,
     "start_time": "2020-08-23T07:28:19.022457",
     "status": "completed"
    },
    "tags": []
   },
   "outputs": [
    {
     "data": {
      "text/html": [
       "<div>\n",
       "<style scoped>\n",
       "    .dataframe tbody tr th:only-of-type {\n",
       "        vertical-align: middle;\n",
       "    }\n",
       "\n",
       "    .dataframe tbody tr th {\n",
       "        vertical-align: top;\n",
       "    }\n",
       "\n",
       "    .dataframe thead th {\n",
       "        text-align: right;\n",
       "    }\n",
       "</style>\n",
       "<table border=\"1\" class=\"dataframe\">\n",
       "  <thead>\n",
       "    <tr style=\"text-align: right;\">\n",
       "      <th></th>\n",
       "      <th>date</th>\n",
       "      <th>date_block_num</th>\n",
       "      <th>shop_id</th>\n",
       "      <th>item_id</th>\n",
       "      <th>item_price</th>\n",
       "      <th>item_cnt_day</th>\n",
       "    </tr>\n",
       "  </thead>\n",
       "  <tbody>\n",
       "    <tr>\n",
       "      <th>484683</th>\n",
       "      <td>15.05.2013</td>\n",
       "      <td>4</td>\n",
       "      <td>32</td>\n",
       "      <td>2973</td>\n",
       "      <td>-1.0</td>\n",
       "      <td>1.0</td>\n",
       "    </tr>\n",
       "  </tbody>\n",
       "</table>\n",
       "</div>"
      ],
      "text/plain": [
       "              date  date_block_num  shop_id  item_id  item_price  item_cnt_day\n",
       "484683  15.05.2013               4       32     2973        -1.0           1.0"
      ]
     },
     "execution_count": 13,
     "metadata": {},
     "output_type": "execute_result"
    }
   ],
   "source": [
    "#极小端存在销售价为负的情况，在数据集中进一步检查\n",
    "sales_train[sales_train['item_price'] == -1]"
   ]
  },
  {
   "cell_type": "code",
   "execution_count": 14,
   "metadata": {
    "execution": {
     "iopub.execute_input": "2020-08-23T07:28:19.114875Z",
     "iopub.status.busy": "2020-08-23T07:28:19.114137Z",
     "iopub.status.idle": "2020-08-23T07:28:19.222113Z",
     "shell.execute_reply": "2020-08-23T07:28:19.221536Z"
    },
    "papermill": {
     "duration": 0.135775,
     "end_time": "2020-08-23T07:28:19.222254",
     "exception": false,
     "start_time": "2020-08-23T07:28:19.086479",
     "status": "completed"
    },
    "scrolled": true,
    "tags": []
   },
   "outputs": [
    {
     "data": {
      "text/html": [
       "<div>\n",
       "<style scoped>\n",
       "    .dataframe tbody tr th:only-of-type {\n",
       "        vertical-align: middle;\n",
       "    }\n",
       "\n",
       "    .dataframe tbody tr th {\n",
       "        vertical-align: top;\n",
       "    }\n",
       "\n",
       "    .dataframe thead th {\n",
       "        text-align: right;\n",
       "    }\n",
       "</style>\n",
       "<table border=\"1\" class=\"dataframe\">\n",
       "  <thead>\n",
       "    <tr style=\"text-align: right;\">\n",
       "      <th></th>\n",
       "      <th>date</th>\n",
       "      <th>date_block_num</th>\n",
       "      <th>shop_id</th>\n",
       "      <th>item_id</th>\n",
       "      <th>item_price</th>\n",
       "      <th>item_cnt_day</th>\n",
       "    </tr>\n",
       "  </thead>\n",
       "  <tbody>\n",
       "    <tr>\n",
       "      <th>352</th>\n",
       "      <td>15.01.2013</td>\n",
       "      <td>0</td>\n",
       "      <td>25</td>\n",
       "      <td>2973</td>\n",
       "      <td>2499.00</td>\n",
       "      <td>13.0</td>\n",
       "    </tr>\n",
       "    <tr>\n",
       "      <th>353</th>\n",
       "      <td>16.01.2013</td>\n",
       "      <td>0</td>\n",
       "      <td>25</td>\n",
       "      <td>2973</td>\n",
       "      <td>2499.00</td>\n",
       "      <td>5.0</td>\n",
       "    </tr>\n",
       "    <tr>\n",
       "      <th>354</th>\n",
       "      <td>17.01.2013</td>\n",
       "      <td>0</td>\n",
       "      <td>25</td>\n",
       "      <td>2973</td>\n",
       "      <td>2499.00</td>\n",
       "      <td>3.0</td>\n",
       "    </tr>\n",
       "    <tr>\n",
       "      <th>355</th>\n",
       "      <td>18.01.2013</td>\n",
       "      <td>0</td>\n",
       "      <td>25</td>\n",
       "      <td>2973</td>\n",
       "      <td>2499.00</td>\n",
       "      <td>2.0</td>\n",
       "    </tr>\n",
       "    <tr>\n",
       "      <th>356</th>\n",
       "      <td>19.01.2013</td>\n",
       "      <td>0</td>\n",
       "      <td>25</td>\n",
       "      <td>2973</td>\n",
       "      <td>2499.00</td>\n",
       "      <td>3.0</td>\n",
       "    </tr>\n",
       "    <tr>\n",
       "      <th>...</th>\n",
       "      <td>...</td>\n",
       "      <td>...</td>\n",
       "      <td>...</td>\n",
       "      <td>...</td>\n",
       "      <td>...</td>\n",
       "      <td>...</td>\n",
       "    </tr>\n",
       "    <tr>\n",
       "      <th>1765321</th>\n",
       "      <td>22.06.2014</td>\n",
       "      <td>17</td>\n",
       "      <td>57</td>\n",
       "      <td>2973</td>\n",
       "      <td>1249.50</td>\n",
       "      <td>1.0</td>\n",
       "    </tr>\n",
       "    <tr>\n",
       "      <th>1782298</th>\n",
       "      <td>09.06.2014</td>\n",
       "      <td>17</td>\n",
       "      <td>47</td>\n",
       "      <td>2973</td>\n",
       "      <td>1249.00</td>\n",
       "      <td>1.0</td>\n",
       "    </tr>\n",
       "    <tr>\n",
       "      <th>1851765</th>\n",
       "      <td>04.07.2014</td>\n",
       "      <td>18</td>\n",
       "      <td>26</td>\n",
       "      <td>2973</td>\n",
       "      <td>1249.50</td>\n",
       "      <td>1.0</td>\n",
       "    </tr>\n",
       "    <tr>\n",
       "      <th>1923837</th>\n",
       "      <td>06.08.2014</td>\n",
       "      <td>19</td>\n",
       "      <td>6</td>\n",
       "      <td>2973</td>\n",
       "      <td>1249.50</td>\n",
       "      <td>1.0</td>\n",
       "    </tr>\n",
       "    <tr>\n",
       "      <th>2131937</th>\n",
       "      <td>20.11.2014</td>\n",
       "      <td>22</td>\n",
       "      <td>51</td>\n",
       "      <td>2973</td>\n",
       "      <td>1832.37</td>\n",
       "      <td>1.0</td>\n",
       "    </tr>\n",
       "  </tbody>\n",
       "</table>\n",
       "<p>780 rows × 6 columns</p>\n",
       "</div>"
      ],
      "text/plain": [
       "               date  date_block_num  shop_id  item_id  item_price  \\\n",
       "352      15.01.2013               0       25     2973     2499.00   \n",
       "353      16.01.2013               0       25     2973     2499.00   \n",
       "354      17.01.2013               0       25     2973     2499.00   \n",
       "355      18.01.2013               0       25     2973     2499.00   \n",
       "356      19.01.2013               0       25     2973     2499.00   \n",
       "...             ...             ...      ...      ...         ...   \n",
       "1765321  22.06.2014              17       57     2973     1249.50   \n",
       "1782298  09.06.2014              17       47     2973     1249.00   \n",
       "1851765  04.07.2014              18       26     2973     1249.50   \n",
       "1923837  06.08.2014              19        6     2973     1249.50   \n",
       "2131937  20.11.2014              22       51     2973     1832.37   \n",
       "\n",
       "         item_cnt_day  \n",
       "352              13.0  \n",
       "353               5.0  \n",
       "354               3.0  \n",
       "355               2.0  \n",
       "356               3.0  \n",
       "...               ...  \n",
       "1765321           1.0  \n",
       "1782298           1.0  \n",
       "1851765           1.0  \n",
       "1923837           1.0  \n",
       "2131937           1.0  \n",
       "\n",
       "[780 rows x 6 columns]"
      ]
     },
     "execution_count": 14,
     "metadata": {},
     "output_type": "execute_result"
    }
   ],
   "source": [
    "#查看该商品的对应信息\n",
    "sales_train[sales_train['item_id'] == 2973]"
   ]
  },
  {
   "cell_type": "code",
   "execution_count": 15,
   "metadata": {
    "execution": {
     "iopub.execute_input": "2020-08-23T07:28:19.275081Z",
     "iopub.status.busy": "2020-08-23T07:28:19.274414Z",
     "iopub.status.idle": "2020-08-23T07:28:19.285970Z",
     "shell.execute_reply": "2020-08-23T07:28:19.285318Z"
    },
    "papermill": {
     "duration": 0.041128,
     "end_time": "2020-08-23T07:28:19.286098",
     "exception": false,
     "start_time": "2020-08-23T07:28:19.244970",
     "status": "completed"
    },
    "tags": []
   },
   "outputs": [
    {
     "data": {
      "text/plain": [
       "count     780.000000\n",
       "mean     2041.627277\n",
       "std       584.281629\n",
       "min        -1.000000\n",
       "25%      1249.500000\n",
       "50%      2499.000000\n",
       "75%      2499.000000\n",
       "max      2499.000000\n",
       "Name: item_price, dtype: float64"
      ]
     },
     "execution_count": 15,
     "metadata": {},
     "output_type": "execute_result"
    }
   ],
   "source": [
    "#查看该商品对应的价格信息\n",
    "price_info = sales_train[sales_train['item_id'] == 2973]['item_price']\n",
    "price_info.describe()"
   ]
  },
  {
   "cell_type": "code",
   "execution_count": 16,
   "metadata": {
    "execution": {
     "iopub.execute_input": "2020-08-23T07:28:19.341987Z",
     "iopub.status.busy": "2020-08-23T07:28:19.340108Z",
     "iopub.status.idle": "2020-08-23T07:28:19.378064Z",
     "shell.execute_reply": "2020-08-23T07:28:19.377529Z"
    },
    "papermill": {
     "duration": 0.069661,
     "end_time": "2020-08-23T07:28:19.378215",
     "exception": false,
     "start_time": "2020-08-23T07:28:19.308554",
     "status": "completed"
    },
    "tags": []
   },
   "outputs": [],
   "source": [
    "#可见此商品的这个价格是不合理的，而且平均售价在2000以上，故应该删去或填充其他值\n",
    "#考虑到不同商店同一个商品的售价是不同的，因此应该用其对应的32号商店中此商品的价格中位数代替\n",
    "price_median = sales_train[(sales_train['shop_id'] == 32) & (sales_train['item_id'] == 2973) & (sales_train['date_block_num'] == 4) & (sales_train['item_price'] > 0)].item_price.median()\n",
    "sales_train.loc[sales_train['item_price'] < 0, 'item_price'] = price_median"
   ]
  },
  {
   "cell_type": "markdown",
   "metadata": {
    "papermill": {
     "duration": 0.022489,
     "end_time": "2020-08-23T07:28:19.423489",
     "exception": false,
     "start_time": "2020-08-23T07:28:19.401000",
     "status": "completed"
    },
    "tags": []
   },
   "source": [
    "（2）处理商品的销售量"
   ]
  },
  {
   "cell_type": "code",
   "execution_count": 17,
   "metadata": {
    "execution": {
     "iopub.execute_input": "2020-08-23T07:28:19.476200Z",
     "iopub.status.busy": "2020-08-23T07:28:19.475496Z",
     "iopub.status.idle": "2020-08-23T07:28:19.659520Z",
     "shell.execute_reply": "2020-08-23T07:28:19.658938Z"
    },
    "papermill": {
     "duration": 0.211534,
     "end_time": "2020-08-23T07:28:19.659643",
     "exception": false,
     "start_time": "2020-08-23T07:28:19.448109",
     "status": "completed"
    },
    "tags": []
   },
   "outputs": [
    {
     "data": {
      "text/plain": [
       "2909818    2169.0\n",
       "2326930    1000.0\n",
       "2864235     669.0\n",
       "2851091     637.0\n",
       "2608040     624.0\n",
       "Name: item_cnt_day, dtype: float64"
      ]
     },
     "execution_count": 17,
     "metadata": {},
     "output_type": "execute_result"
    }
   ],
   "source": [
    "#查看排序最大的前五个商品销售数量\n",
    "sales_train['item_cnt_day'].sort_values(ascending=False)[:5]"
   ]
  },
  {
   "cell_type": "code",
   "execution_count": 18,
   "metadata": {
    "execution": {
     "iopub.execute_input": "2020-08-23T07:28:19.712477Z",
     "iopub.status.busy": "2020-08-23T07:28:19.711802Z",
     "iopub.status.idle": "2020-08-23T07:28:19.723183Z",
     "shell.execute_reply": "2020-08-23T07:28:19.722644Z"
    },
    "papermill": {
     "duration": 0.041052,
     "end_time": "2020-08-23T07:28:19.723304",
     "exception": false,
     "start_time": "2020-08-23T07:28:19.682252",
     "status": "completed"
    },
    "tags": []
   },
   "outputs": [
    {
     "data": {
      "text/html": [
       "<div>\n",
       "<style scoped>\n",
       "    .dataframe tbody tr th:only-of-type {\n",
       "        vertical-align: middle;\n",
       "    }\n",
       "\n",
       "    .dataframe tbody tr th {\n",
       "        vertical-align: top;\n",
       "    }\n",
       "\n",
       "    .dataframe thead th {\n",
       "        text-align: right;\n",
       "    }\n",
       "</style>\n",
       "<table border=\"1\" class=\"dataframe\">\n",
       "  <thead>\n",
       "    <tr style=\"text-align: right;\">\n",
       "      <th></th>\n",
       "      <th>date</th>\n",
       "      <th>date_block_num</th>\n",
       "      <th>shop_id</th>\n",
       "      <th>item_id</th>\n",
       "      <th>item_price</th>\n",
       "      <th>item_cnt_day</th>\n",
       "    </tr>\n",
       "  </thead>\n",
       "  <tbody>\n",
       "    <tr>\n",
       "      <th>2909818</th>\n",
       "      <td>28.10.2015</td>\n",
       "      <td>33</td>\n",
       "      <td>12</td>\n",
       "      <td>11373</td>\n",
       "      <td>0.908714</td>\n",
       "      <td>2169.0</td>\n",
       "    </tr>\n",
       "  </tbody>\n",
       "</table>\n",
       "</div>"
      ],
      "text/plain": [
       "               date  date_block_num  shop_id  item_id  item_price  \\\n",
       "2909818  28.10.2015              33       12    11373    0.908714   \n",
       "\n",
       "         item_cnt_day  \n",
       "2909818        2169.0  "
      ]
     },
     "execution_count": 18,
     "metadata": {},
     "output_type": "execute_result"
    }
   ],
   "source": [
    "#找到最大销售量2169对应的数据信息\n",
    "sales_train[sales_train['item_cnt_day'] == 2169]"
   ]
  },
  {
   "cell_type": "code",
   "execution_count": 19,
   "metadata": {
    "execution": {
     "iopub.execute_input": "2020-08-23T07:28:19.780474Z",
     "iopub.status.busy": "2020-08-23T07:28:19.779711Z",
     "iopub.status.idle": "2020-08-23T07:28:19.784095Z",
     "shell.execute_reply": "2020-08-23T07:28:19.783565Z"
    },
    "papermill": {
     "duration": 0.037753,
     "end_time": "2020-08-23T07:28:19.784235",
     "exception": false,
     "start_time": "2020-08-23T07:28:19.746482",
     "status": "completed"
    },
    "tags": []
   },
   "outputs": [
    {
     "data": {
      "text/html": [
       "<div>\n",
       "<style scoped>\n",
       "    .dataframe tbody tr th:only-of-type {\n",
       "        vertical-align: middle;\n",
       "    }\n",
       "\n",
       "    .dataframe tbody tr th {\n",
       "        vertical-align: top;\n",
       "    }\n",
       "\n",
       "    .dataframe thead th {\n",
       "        text-align: right;\n",
       "    }\n",
       "</style>\n",
       "<table border=\"1\" class=\"dataframe\">\n",
       "  <thead>\n",
       "    <tr style=\"text-align: right;\">\n",
       "      <th></th>\n",
       "      <th>item_name</th>\n",
       "      <th>item_id</th>\n",
       "      <th>item_category_id</th>\n",
       "    </tr>\n",
       "  </thead>\n",
       "  <tbody>\n",
       "    <tr>\n",
       "      <th>11373</th>\n",
       "      <td>Доставка до пункта выдачи (Boxberry)</td>\n",
       "      <td>11373</td>\n",
       "      <td>9</td>\n",
       "    </tr>\n",
       "  </tbody>\n",
       "</table>\n",
       "</div>"
      ],
      "text/plain": [
       "                                  item_name  item_id  item_category_id\n",
       "11373  Доставка до пункта выдачи (Boxberry)    11373                 9"
      ]
     },
     "execution_count": 19,
     "metadata": {},
     "output_type": "execute_result"
    }
   ],
   "source": [
    "#10月份的一天里，11373号产品在12号店就卖出了2169次。\n",
    "#检查一下这个商品的对应信息。\n",
    "items[items['item_id'] == 11373]"
   ]
  },
  {
   "cell_type": "code",
   "execution_count": 20,
   "metadata": {
    "execution": {
     "iopub.execute_input": "2020-08-23T07:28:19.836428Z",
     "iopub.status.busy": "2020-08-23T07:28:19.835678Z",
     "iopub.status.idle": "2020-08-23T07:28:19.854075Z",
     "shell.execute_reply": "2020-08-23T07:28:19.853527Z"
    },
    "papermill": {
     "duration": 0.046759,
     "end_time": "2020-08-23T07:28:19.854215",
     "exception": false,
     "start_time": "2020-08-23T07:28:19.807456",
     "status": "completed"
    },
    "scrolled": true,
    "tags": []
   },
   "outputs": [
    {
     "data": {
      "text/html": [
       "<div>\n",
       "<style scoped>\n",
       "    .dataframe tbody tr th:only-of-type {\n",
       "        vertical-align: middle;\n",
       "    }\n",
       "\n",
       "    .dataframe tbody tr th {\n",
       "        vertical-align: top;\n",
       "    }\n",
       "\n",
       "    .dataframe thead th {\n",
       "        text-align: right;\n",
       "    }\n",
       "</style>\n",
       "<table border=\"1\" class=\"dataframe\">\n",
       "  <thead>\n",
       "    <tr style=\"text-align: right;\">\n",
       "      <th></th>\n",
       "      <th>date</th>\n",
       "      <th>date_block_num</th>\n",
       "      <th>shop_id</th>\n",
       "      <th>item_id</th>\n",
       "      <th>item_price</th>\n",
       "      <th>item_cnt_day</th>\n",
       "    </tr>\n",
       "  </thead>\n",
       "  <tbody>\n",
       "    <tr>\n",
       "      <th>58323</th>\n",
       "      <td>08.01.2013</td>\n",
       "      <td>0</td>\n",
       "      <td>12</td>\n",
       "      <td>11373</td>\n",
       "      <td>1000.00</td>\n",
       "      <td>1.0</td>\n",
       "    </tr>\n",
       "    <tr>\n",
       "      <th>58324</th>\n",
       "      <td>31.01.2013</td>\n",
       "      <td>0</td>\n",
       "      <td>12</td>\n",
       "      <td>11373</td>\n",
       "      <td>97.80</td>\n",
       "      <td>5.0</td>\n",
       "    </tr>\n",
       "    <tr>\n",
       "      <th>176790</th>\n",
       "      <td>01.02.2013</td>\n",
       "      <td>1</td>\n",
       "      <td>12</td>\n",
       "      <td>11373</td>\n",
       "      <td>229.00</td>\n",
       "      <td>1.0</td>\n",
       "    </tr>\n",
       "    <tr>\n",
       "      <th>176791</th>\n",
       "      <td>04.02.2013</td>\n",
       "      <td>1</td>\n",
       "      <td>12</td>\n",
       "      <td>11373</td>\n",
       "      <td>130.00</td>\n",
       "      <td>1.0</td>\n",
       "    </tr>\n",
       "    <tr>\n",
       "      <th>302468</th>\n",
       "      <td>29.03.2013</td>\n",
       "      <td>2</td>\n",
       "      <td>12</td>\n",
       "      <td>11373</td>\n",
       "      <td>139.50</td>\n",
       "      <td>2.0</td>\n",
       "    </tr>\n",
       "    <tr>\n",
       "      <th>...</th>\n",
       "      <td>...</td>\n",
       "      <td>...</td>\n",
       "      <td>...</td>\n",
       "      <td>...</td>\n",
       "      <td>...</td>\n",
       "      <td>...</td>\n",
       "    </tr>\n",
       "    <tr>\n",
       "      <th>2909829</th>\n",
       "      <td>07.10.2015</td>\n",
       "      <td>33</td>\n",
       "      <td>12</td>\n",
       "      <td>11373</td>\n",
       "      <td>855.00</td>\n",
       "      <td>2.0</td>\n",
       "    </tr>\n",
       "    <tr>\n",
       "      <th>2909830</th>\n",
       "      <td>06.10.2015</td>\n",
       "      <td>33</td>\n",
       "      <td>12</td>\n",
       "      <td>11373</td>\n",
       "      <td>208.80</td>\n",
       "      <td>5.0</td>\n",
       "    </tr>\n",
       "    <tr>\n",
       "      <th>2909831</th>\n",
       "      <td>05.10.2015</td>\n",
       "      <td>33</td>\n",
       "      <td>12</td>\n",
       "      <td>11373</td>\n",
       "      <td>140.75</td>\n",
       "      <td>16.0</td>\n",
       "    </tr>\n",
       "    <tr>\n",
       "      <th>2909832</th>\n",
       "      <td>02.10.2015</td>\n",
       "      <td>33</td>\n",
       "      <td>12</td>\n",
       "      <td>11373</td>\n",
       "      <td>648.50</td>\n",
       "      <td>2.0</td>\n",
       "    </tr>\n",
       "    <tr>\n",
       "      <th>2909856</th>\n",
       "      <td>01.10.2015</td>\n",
       "      <td>33</td>\n",
       "      <td>12</td>\n",
       "      <td>11373</td>\n",
       "      <td>361.25</td>\n",
       "      <td>4.0</td>\n",
       "    </tr>\n",
       "  </tbody>\n",
       "</table>\n",
       "<p>464 rows × 6 columns</p>\n",
       "</div>"
      ],
      "text/plain": [
       "               date  date_block_num  shop_id  item_id  item_price  \\\n",
       "58323    08.01.2013               0       12    11373     1000.00   \n",
       "58324    31.01.2013               0       12    11373       97.80   \n",
       "176790   01.02.2013               1       12    11373      229.00   \n",
       "176791   04.02.2013               1       12    11373      130.00   \n",
       "302468   29.03.2013               2       12    11373      139.50   \n",
       "...             ...             ...      ...      ...         ...   \n",
       "2909829  07.10.2015              33       12    11373      855.00   \n",
       "2909830  06.10.2015              33       12    11373      208.80   \n",
       "2909831  05.10.2015              33       12    11373      140.75   \n",
       "2909832  02.10.2015              33       12    11373      648.50   \n",
       "2909856  01.10.2015              33       12    11373      361.25   \n",
       "\n",
       "         item_cnt_day  \n",
       "58323             1.0  \n",
       "58324             5.0  \n",
       "176790            1.0  \n",
       "176791            1.0  \n",
       "302468            2.0  \n",
       "...               ...  \n",
       "2909829           2.0  \n",
       "2909830           5.0  \n",
       "2909831          16.0  \n",
       "2909832           2.0  \n",
       "2909856           4.0  \n",
       "\n",
       "[464 rows x 6 columns]"
      ]
     },
     "execution_count": 20,
     "metadata": {},
     "output_type": "execute_result"
    }
   ],
   "source": [
    "#借助翻译，这是一种和俄罗斯运输公司“Boxberry”有关的货物商品。\n",
    "#继续查看此商品在其他商店的销售情况\n",
    "sales_train[sales_train['item_id'] == 11373]"
   ]
  },
  {
   "cell_type": "code",
   "execution_count": 21,
   "metadata": {
    "execution": {
     "iopub.execute_input": "2020-08-23T07:28:19.908547Z",
     "iopub.status.busy": "2020-08-23T07:28:19.907446Z",
     "iopub.status.idle": "2020-08-23T07:28:19.919645Z",
     "shell.execute_reply": "2020-08-23T07:28:19.919027Z"
    },
    "papermill": {
     "duration": 0.042156,
     "end_time": "2020-08-23T07:28:19.919774",
     "exception": false,
     "start_time": "2020-08-23T07:28:19.877618",
     "status": "completed"
    },
    "tags": []
   },
   "outputs": [
    {
     "data": {
      "text/plain": [
       "count     464.000000\n",
       "mean       14.144397\n",
       "std       104.604937\n",
       "min         1.000000\n",
       "25%         2.000000\n",
       "50%         4.000000\n",
       "75%         8.000000\n",
       "max      2169.000000\n",
       "Name: item_cnt_day, dtype: float64"
      ]
     },
     "execution_count": 21,
     "metadata": {},
     "output_type": "execute_result"
    }
   ],
   "source": [
    "#查看该商品对应的销售量信息\n",
    "sale_num = sales_train[sales_train['item_id'] == 11373]['item_cnt_day']\n",
    "sale_num.describe()"
   ]
  },
  {
   "cell_type": "code",
   "execution_count": 22,
   "metadata": {
    "execution": {
     "iopub.execute_input": "2020-08-23T07:28:19.972920Z",
     "iopub.status.busy": "2020-08-23T07:28:19.971918Z",
     "iopub.status.idle": "2020-08-23T07:28:20.094138Z",
     "shell.execute_reply": "2020-08-23T07:28:20.093427Z"
    },
    "papermill": {
     "duration": 0.150919,
     "end_time": "2020-08-23T07:28:20.094300",
     "exception": false,
     "start_time": "2020-08-23T07:28:19.943381",
     "status": "completed"
    },
    "tags": []
   },
   "outputs": [],
   "source": [
    "#可见11373这个商品通常卖得很少，销售量几乎在个位数（75％=8件）。\n",
    "#因此对于销售次数2169可以被认为是一个异常值，应当去除。\n",
    "sales_train = sales_train[sales_train['item_cnt_day'] < 2000]"
   ]
  },
  {
   "cell_type": "code",
   "execution_count": 23,
   "metadata": {
    "execution": {
     "iopub.execute_input": "2020-08-23T07:28:20.147463Z",
     "iopub.status.busy": "2020-08-23T07:28:20.146469Z",
     "iopub.status.idle": "2020-08-23T07:28:20.161428Z",
     "shell.execute_reply": "2020-08-23T07:28:20.160855Z"
    },
    "papermill": {
     "duration": 0.043812,
     "end_time": "2020-08-23T07:28:20.161548",
     "exception": false,
     "start_time": "2020-08-23T07:28:20.117736",
     "status": "completed"
    },
    "tags": []
   },
   "outputs": [
    {
     "data": {
      "text/html": [
       "<div>\n",
       "<style scoped>\n",
       "    .dataframe tbody tr th:only-of-type {\n",
       "        vertical-align: middle;\n",
       "    }\n",
       "\n",
       "    .dataframe tbody tr th {\n",
       "        vertical-align: top;\n",
       "    }\n",
       "\n",
       "    .dataframe thead th {\n",
       "        text-align: right;\n",
       "    }\n",
       "</style>\n",
       "<table border=\"1\" class=\"dataframe\">\n",
       "  <thead>\n",
       "    <tr style=\"text-align: right;\">\n",
       "      <th></th>\n",
       "      <th>date</th>\n",
       "      <th>date_block_num</th>\n",
       "      <th>shop_id</th>\n",
       "      <th>item_id</th>\n",
       "      <th>item_price</th>\n",
       "      <th>item_cnt_day</th>\n",
       "    </tr>\n",
       "  </thead>\n",
       "  <tbody>\n",
       "    <tr>\n",
       "      <th>2326930</th>\n",
       "      <td>15.01.2015</td>\n",
       "      <td>24</td>\n",
       "      <td>12</td>\n",
       "      <td>20949</td>\n",
       "      <td>4.0</td>\n",
       "      <td>1000.0</td>\n",
       "    </tr>\n",
       "  </tbody>\n",
       "</table>\n",
       "</div>"
      ],
      "text/plain": [
       "               date  date_block_num  shop_id  item_id  item_price  \\\n",
       "2326930  15.01.2015              24       12    20949         4.0   \n",
       "\n",
       "         item_cnt_day  \n",
       "2326930        1000.0  "
      ]
     },
     "execution_count": 23,
     "metadata": {},
     "output_type": "execute_result"
    }
   ],
   "source": [
    "#此外注意到还有一个商品销售次数达到1000次，保险起见还需要看一下这个商品\n",
    "#找到销售量1000对应的数据信息\n",
    "sales_train[sales_train['item_cnt_day'] == 1000]"
   ]
  },
  {
   "cell_type": "code",
   "execution_count": 24,
   "metadata": {
    "execution": {
     "iopub.execute_input": "2020-08-23T07:28:20.213823Z",
     "iopub.status.busy": "2020-08-23T07:28:20.213133Z",
     "iopub.status.idle": "2020-08-23T07:28:20.222421Z",
     "shell.execute_reply": "2020-08-23T07:28:20.221867Z"
    },
    "papermill": {
     "duration": 0.037217,
     "end_time": "2020-08-23T07:28:20.222542",
     "exception": false,
     "start_time": "2020-08-23T07:28:20.185325",
     "status": "completed"
    },
    "tags": []
   },
   "outputs": [
    {
     "data": {
      "text/html": [
       "<div>\n",
       "<style scoped>\n",
       "    .dataframe tbody tr th:only-of-type {\n",
       "        vertical-align: middle;\n",
       "    }\n",
       "\n",
       "    .dataframe tbody tr th {\n",
       "        vertical-align: top;\n",
       "    }\n",
       "\n",
       "    .dataframe thead th {\n",
       "        text-align: right;\n",
       "    }\n",
       "</style>\n",
       "<table border=\"1\" class=\"dataframe\">\n",
       "  <thead>\n",
       "    <tr style=\"text-align: right;\">\n",
       "      <th></th>\n",
       "      <th>item_name</th>\n",
       "      <th>item_id</th>\n",
       "      <th>item_category_id</th>\n",
       "    </tr>\n",
       "  </thead>\n",
       "  <tbody>\n",
       "    <tr>\n",
       "      <th>20949</th>\n",
       "      <td>Фирменный пакет майка 1С Интерес белый (34*42)...</td>\n",
       "      <td>20949</td>\n",
       "      <td>71</td>\n",
       "    </tr>\n",
       "  </tbody>\n",
       "</table>\n",
       "</div>"
      ],
      "text/plain": [
       "                                               item_name  item_id  \\\n",
       "20949  Фирменный пакет майка 1С Интерес белый (34*42)...    20949   \n",
       "\n",
       "       item_category_id  \n",
       "20949                71  "
      ]
     },
     "execution_count": 24,
     "metadata": {},
     "output_type": "execute_result"
    }
   ],
   "source": [
    "#检查一下这个商品的对应信息。\n",
    "items[items['item_id'] == 20949]"
   ]
  },
  {
   "cell_type": "code",
   "execution_count": 25,
   "metadata": {
    "execution": {
     "iopub.execute_input": "2020-08-23T07:28:20.276992Z",
     "iopub.status.busy": "2020-08-23T07:28:20.276316Z",
     "iopub.status.idle": "2020-08-23T07:28:20.296867Z",
     "shell.execute_reply": "2020-08-23T07:28:20.296213Z"
    },
    "papermill": {
     "duration": 0.050598,
     "end_time": "2020-08-23T07:28:20.296992",
     "exception": false,
     "start_time": "2020-08-23T07:28:20.246394",
     "status": "completed"
    },
    "scrolled": true,
    "tags": []
   },
   "outputs": [
    {
     "data": {
      "text/html": [
       "<div>\n",
       "<style scoped>\n",
       "    .dataframe tbody tr th:only-of-type {\n",
       "        vertical-align: middle;\n",
       "    }\n",
       "\n",
       "    .dataframe tbody tr th {\n",
       "        vertical-align: top;\n",
       "    }\n",
       "\n",
       "    .dataframe thead th {\n",
       "        text-align: right;\n",
       "    }\n",
       "</style>\n",
       "<table border=\"1\" class=\"dataframe\">\n",
       "  <thead>\n",
       "    <tr style=\"text-align: right;\">\n",
       "      <th></th>\n",
       "      <th>date</th>\n",
       "      <th>date_block_num</th>\n",
       "      <th>shop_id</th>\n",
       "      <th>item_id</th>\n",
       "      <th>item_price</th>\n",
       "      <th>item_cnt_day</th>\n",
       "    </tr>\n",
       "  </thead>\n",
       "  <tbody>\n",
       "    <tr>\n",
       "      <th>352379</th>\n",
       "      <td>30.04.2013</td>\n",
       "      <td>3</td>\n",
       "      <td>22</td>\n",
       "      <td>20949</td>\n",
       "      <td>5.000000</td>\n",
       "      <td>12.0</td>\n",
       "    </tr>\n",
       "    <tr>\n",
       "      <th>352399</th>\n",
       "      <td>29.04.2013</td>\n",
       "      <td>3</td>\n",
       "      <td>22</td>\n",
       "      <td>20949</td>\n",
       "      <td>4.923077</td>\n",
       "      <td>13.0</td>\n",
       "    </tr>\n",
       "    <tr>\n",
       "      <th>352400</th>\n",
       "      <td>28.04.2013</td>\n",
       "      <td>3</td>\n",
       "      <td>22</td>\n",
       "      <td>20949</td>\n",
       "      <td>5.000000</td>\n",
       "      <td>4.0</td>\n",
       "    </tr>\n",
       "    <tr>\n",
       "      <th>352401</th>\n",
       "      <td>27.04.2013</td>\n",
       "      <td>3</td>\n",
       "      <td>22</td>\n",
       "      <td>20949</td>\n",
       "      <td>5.000000</td>\n",
       "      <td>4.0</td>\n",
       "    </tr>\n",
       "    <tr>\n",
       "      <th>352455</th>\n",
       "      <td>24.04.2013</td>\n",
       "      <td>3</td>\n",
       "      <td>22</td>\n",
       "      <td>20949</td>\n",
       "      <td>5.000000</td>\n",
       "      <td>2.0</td>\n",
       "    </tr>\n",
       "    <tr>\n",
       "      <th>...</th>\n",
       "      <td>...</td>\n",
       "      <td>...</td>\n",
       "      <td>...</td>\n",
       "      <td>...</td>\n",
       "      <td>...</td>\n",
       "      <td>...</td>\n",
       "    </tr>\n",
       "    <tr>\n",
       "      <th>2930644</th>\n",
       "      <td>02.10.2015</td>\n",
       "      <td>33</td>\n",
       "      <td>22</td>\n",
       "      <td>20949</td>\n",
       "      <td>5.000000</td>\n",
       "      <td>1.0</td>\n",
       "    </tr>\n",
       "    <tr>\n",
       "      <th>2930645</th>\n",
       "      <td>03.10.2015</td>\n",
       "      <td>33</td>\n",
       "      <td>22</td>\n",
       "      <td>20949</td>\n",
       "      <td>5.000000</td>\n",
       "      <td>2.0</td>\n",
       "    </tr>\n",
       "    <tr>\n",
       "      <th>2930646</th>\n",
       "      <td>04.10.2015</td>\n",
       "      <td>33</td>\n",
       "      <td>22</td>\n",
       "      <td>20949</td>\n",
       "      <td>5.000000</td>\n",
       "      <td>3.0</td>\n",
       "    </tr>\n",
       "    <tr>\n",
       "      <th>2930647</th>\n",
       "      <td>05.10.2015</td>\n",
       "      <td>33</td>\n",
       "      <td>22</td>\n",
       "      <td>20949</td>\n",
       "      <td>5.000000</td>\n",
       "      <td>2.0</td>\n",
       "    </tr>\n",
       "    <tr>\n",
       "      <th>2930648</th>\n",
       "      <td>06.10.2015</td>\n",
       "      <td>33</td>\n",
       "      <td>22</td>\n",
       "      <td>20949</td>\n",
       "      <td>5.000000</td>\n",
       "      <td>2.0</td>\n",
       "    </tr>\n",
       "  </tbody>\n",
       "</table>\n",
       "<p>31340 rows × 6 columns</p>\n",
       "</div>"
      ],
      "text/plain": [
       "               date  date_block_num  shop_id  item_id  item_price  \\\n",
       "352379   30.04.2013               3       22    20949    5.000000   \n",
       "352399   29.04.2013               3       22    20949    4.923077   \n",
       "352400   28.04.2013               3       22    20949    5.000000   \n",
       "352401   27.04.2013               3       22    20949    5.000000   \n",
       "352455   24.04.2013               3       22    20949    5.000000   \n",
       "...             ...             ...      ...      ...         ...   \n",
       "2930644  02.10.2015              33       22    20949    5.000000   \n",
       "2930645  03.10.2015              33       22    20949    5.000000   \n",
       "2930646  04.10.2015              33       22    20949    5.000000   \n",
       "2930647  05.10.2015              33       22    20949    5.000000   \n",
       "2930648  06.10.2015              33       22    20949    5.000000   \n",
       "\n",
       "         item_cnt_day  \n",
       "352379           12.0  \n",
       "352399           13.0  \n",
       "352400            4.0  \n",
       "352401            4.0  \n",
       "352455            2.0  \n",
       "...               ...  \n",
       "2930644           1.0  \n",
       "2930645           2.0  \n",
       "2930646           3.0  \n",
       "2930647           2.0  \n",
       "2930648           2.0  \n",
       "\n",
       "[31340 rows x 6 columns]"
      ]
     },
     "execution_count": 25,
     "metadata": {},
     "output_type": "execute_result"
    }
   ],
   "source": [
    "#借助翻译，这是一种迈克品牌的白色小包。\n",
    "#继续查看此商品在其他商店的销售情况\n",
    "sales_train[sales_train['item_id'] == 20949]"
   ]
  },
  {
   "cell_type": "code",
   "execution_count": 26,
   "metadata": {
    "execution": {
     "iopub.execute_input": "2020-08-23T07:28:20.351629Z",
     "iopub.status.busy": "2020-08-23T07:28:20.350897Z",
     "iopub.status.idle": "2020-08-23T07:28:20.366482Z",
     "shell.execute_reply": "2020-08-23T07:28:20.365931Z"
    },
    "papermill": {
     "duration": 0.045611,
     "end_time": "2020-08-23T07:28:20.366607",
     "exception": false,
     "start_time": "2020-08-23T07:28:20.320996",
     "status": "completed"
    },
    "tags": []
   },
   "outputs": [
    {
     "data": {
      "text/plain": [
       "count    31340.000000\n",
       "mean         5.987301\n",
       "std         11.497655\n",
       "min        -16.000000\n",
       "25%          2.000000\n",
       "50%          3.000000\n",
       "75%          7.000000\n",
       "max       1000.000000\n",
       "Name: item_cnt_day, dtype: float64"
      ]
     },
     "execution_count": 26,
     "metadata": {},
     "output_type": "execute_result"
    }
   ],
   "source": [
    "#查看该商品对应的销售量信息\n",
    "sale_num = sales_train[sales_train['item_id'] == 20949]['item_cnt_day']\n",
    "sale_num.describe()"
   ]
  },
  {
   "cell_type": "code",
   "execution_count": 27,
   "metadata": {
    "execution": {
     "iopub.execute_input": "2020-08-23T07:28:20.423441Z",
     "iopub.status.busy": "2020-08-23T07:28:20.422740Z",
     "iopub.status.idle": "2020-08-23T07:28:20.549248Z",
     "shell.execute_reply": "2020-08-23T07:28:20.548609Z"
    },
    "papermill": {
     "duration": 0.158451,
     "end_time": "2020-08-23T07:28:20.549377",
     "exception": false,
     "start_time": "2020-08-23T07:28:20.390926",
     "status": "completed"
    },
    "tags": []
   },
   "outputs": [],
   "source": [
    "#同样地，对于20949这个商品通常卖得很少，销售量几乎在个位数（75％=7件），并且出乎意料地出现了销售量负值\n",
    "#故对于销售次数1000可以被认为是一个异常值，应当去除。\n",
    "sales_train = sales_train[sales_train['item_cnt_day'] < 1000]"
   ]
  },
  {
   "cell_type": "code",
   "execution_count": 28,
   "metadata": {
    "execution": {
     "iopub.execute_input": "2020-08-23T07:28:20.604431Z",
     "iopub.status.busy": "2020-08-23T07:28:20.603058Z",
     "iopub.status.idle": "2020-08-23T07:28:20.786743Z",
     "shell.execute_reply": "2020-08-23T07:28:20.786142Z"
    },
    "papermill": {
     "duration": 0.213309,
     "end_time": "2020-08-23T07:28:20.786867",
     "exception": false,
     "start_time": "2020-08-23T07:28:20.573558",
     "status": "completed"
    },
    "tags": []
   },
   "outputs": [
    {
     "data": {
      "text/plain": [
       "1057907   -22.0\n",
       "1835454   -16.0\n",
       "2048519    -9.0\n",
       "59156      -6.0\n",
       "940092     -6.0\n",
       "93576      -5.0\n",
       "2619997    -5.0\n",
       "2458733    -5.0\n",
       "59155      -5.0\n",
       "222426     -4.0\n",
       "Name: item_cnt_day, dtype: float64"
      ]
     },
     "execution_count": 28,
     "metadata": {},
     "output_type": "execute_result"
    }
   ],
   "source": [
    "#上面的信息提醒我们还要查验查看排序最小的哪些商品销售数量\n",
    "sales_train['item_cnt_day'].sort_values(ascending=True)[:10]"
   ]
  },
  {
   "cell_type": "code",
   "execution_count": 29,
   "metadata": {
    "execution": {
     "iopub.execute_input": "2020-08-23T07:28:20.840881Z",
     "iopub.status.busy": "2020-08-23T07:28:20.839982Z",
     "iopub.status.idle": "2020-08-23T07:28:20.843311Z",
     "shell.execute_reply": "2020-08-23T07:28:20.842761Z"
    },
    "papermill": {
     "duration": 0.031992,
     "end_time": "2020-08-23T07:28:20.843434",
     "exception": false,
     "start_time": "2020-08-23T07:28:20.811442",
     "status": "completed"
    },
    "tags": []
   },
   "outputs": [],
   "source": [
    "#似乎许多商品都存在销售负值，这可能代表这些商品不仅没有销售反而是进货，因此我们不处理这方面的问题。\n",
    "#异常值处理暂时到这里结束。"
   ]
  },
  {
   "cell_type": "markdown",
   "metadata": {
    "papermill": {
     "duration": 0.023946,
     "end_time": "2020-08-23T07:28:20.891852",
     "exception": false,
     "start_time": "2020-08-23T07:28:20.867906",
     "status": "completed"
    },
    "tags": []
   },
   "source": [
    "#### 观察测试集的数据分布"
   ]
  },
  {
   "cell_type": "markdown",
   "metadata": {
    "papermill": {
     "duration": 0.02426,
     "end_time": "2020-08-23T07:28:20.940668",
     "exception": false,
     "start_time": "2020-08-23T07:28:20.916408",
     "status": "completed"
    },
    "tags": []
   },
   "source": [
    "现在，让我们对测试集的分布进行查验，观察与训练集是否有区别"
   ]
  },
  {
   "cell_type": "code",
   "execution_count": 30,
   "metadata": {
    "execution": {
     "iopub.execute_input": "2020-08-23T07:28:21.006661Z",
     "iopub.status.busy": "2020-08-23T07:28:20.999017Z",
     "iopub.status.idle": "2020-08-23T07:28:21.844713Z",
     "shell.execute_reply": "2020-08-23T07:28:21.844040Z"
    },
    "papermill": {
     "duration": 0.879693,
     "end_time": "2020-08-23T07:28:21.844836",
     "exception": false,
     "start_time": "2020-08-23T07:28:20.965143",
     "status": "completed"
    },
    "tags": []
   },
   "outputs": [
    {
     "data": {
      "image/png": "[encoded data removed]",
      "text/plain": [
       "<Figure size 1440x720 with 2 Axes>"
      ]
     },
     "metadata": {},
     "output_type": "display_data"
    }
   ],
   "source": [
    "fig = plt.figure(figsize=(20,10))  # 画布\n",
    "plt.subplots_adjust(hspace=.4)  # 子图间距\n",
    "\n",
    "#查看shop_id的分布\n",
    "plt.subplot2grid((3,3), (0,0), rowspan=1, colspan=3)\n",
    "test['shop_id'].value_counts(normalize=True).plot(kind='bar', color='darkviolet')\n",
    "plt.title('测试集商店ID的分布状态（图6）',fontproperties=myfont)\n",
    "plt.xlabel('商店ID',fontproperties=myfont)\n",
    "plt.ylabel('标准化商店ID的出现次数',fontproperties=myfont)\n",
    "\n",
    "#查看item_id的分布\n",
    "plt.subplot2grid((3,3), (1,0), rowspan=1, colspan=1)\n",
    "test['item_id'].plot(kind='hist', color='sienna')\n",
    "plt.title('测试集商品ID的分布状态（图7）',fontproperties=myfont)\n",
    "plt.xlabel('商品ID',fontproperties=myfont)\n",
    "plt.ylabel('标准化商品ID的出现次数',fontproperties=myfont)\n",
    "\n",
    "plt.show()"
   ]
  },
  {
   "cell_type": "markdown",
   "metadata": {
    "papermill": {
     "duration": 0.024534,
     "end_time": "2020-08-23T07:28:21.894301",
     "exception": false,
     "start_time": "2020-08-23T07:28:21.869767",
     "status": "completed"
    },
    "tags": []
   },
   "source": [
    "从图像分析可知：\n",
    "* 图6：与训练集不同，测试集商店Id是均匀分布的。而且分布的稀疏性也说明在测试集中的商店ID相对于训练集是缺失的，即只含有部分的ID。\n",
    "* 图7：相对于训练集，测试集商品的ID分布更为均匀，但出现的次数会更少。\n",
    "\n",
    "初步判断，测试集中有一些shop_id和item_id的值丢失了。我们需要对丢失的情况进行统计，并为这些丢失值做一些处理。"
   ]
  },
  {
   "cell_type": "markdown",
   "metadata": {
    "papermill": {
     "duration": 0.0247,
     "end_time": "2020-08-23T07:28:21.943891",
     "exception": false,
     "start_time": "2020-08-23T07:28:21.919191",
     "status": "completed"
    },
    "tags": []
   },
   "source": [
    "##### 商店ID数量分析"
   ]
  },
  {
   "cell_type": "code",
   "execution_count": 31,
   "metadata": {
    "execution": {
     "iopub.execute_input": "2020-08-23T07:28:22.000409Z",
     "iopub.status.busy": "2020-08-23T07:28:21.999636Z",
     "iopub.status.idle": "2020-08-23T07:28:22.021488Z",
     "shell.execute_reply": "2020-08-23T07:28:22.020929Z"
    },
    "papermill": {
     "duration": 0.052576,
     "end_time": "2020-08-23T07:28:22.021619",
     "exception": false,
     "start_time": "2020-08-23T07:28:21.969043",
     "status": "completed"
    },
    "tags": []
   },
   "outputs": [
    {
     "name": "stdout",
     "output_type": "stream",
     "text": [
      "训练集中的商店ID有 60 个 \n",
      "测试集中的商店ID有 42 个 \n"
     ]
    }
   ],
   "source": [
    "#返回训练集和测试集中的商店ID唯一值的数目\n",
    "shops_train = sales_train['shop_id'].nunique()\n",
    "shops_test = test['shop_id'].nunique()\n",
    "print('训练集中的商店ID有 {} 个 '.format(shops_train))\n",
    "print('测试集中的商店ID有 {} 个 '.format(shops_test))"
   ]
  },
  {
   "cell_type": "code",
   "execution_count": 32,
   "metadata": {
    "execution": {
     "iopub.execute_input": "2020-08-23T07:28:22.079906Z",
     "iopub.status.busy": "2020-08-23T07:28:22.078933Z",
     "iopub.status.idle": "2020-08-23T07:28:22.099338Z",
     "shell.execute_reply": "2020-08-23T07:28:22.099798Z"
    },
    "papermill": {
     "duration": 0.053031,
     "end_time": "2020-08-23T07:28:22.099961",
     "exception": false,
     "start_time": "2020-08-23T07:28:22.046930",
     "status": "completed"
    },
    "tags": []
   },
   "outputs": [
    {
     "name": "stdout",
     "output_type": "stream",
     "text": [
      "判断结果为：\n",
      "二者是子集的包含关系\n"
     ]
    }
   ],
   "source": [
    "#虽然训练集的ID多于测试集，但这也无法保证训练集包含了出现在测试集中所有的商店。\n",
    "#因此,需要检验测试集ID是否为训练集ID的一个子集。\n",
    "def is_subset(set0,set1):\n",
    "    if set0.issubset(set1):\n",
    "        print (\"二者是子集的包含关系\") \n",
    "    else:\n",
    "        print (\"二者不是子集的包含关系\")\n",
    "\n",
    "shops_train_set = set(sales_train['shop_id'].unique())\n",
    "shops_test_set = set(test['shop_id'].unique())\n",
    "\n",
    "print('判断结果为：')\n",
    "is_subset(shops_test_set,shops_train_set)"
   ]
  },
  {
   "cell_type": "code",
   "execution_count": 33,
   "metadata": {
    "execution": {
     "iopub.execute_input": "2020-08-23T07:28:22.154920Z",
     "iopub.status.busy": "2020-08-23T07:28:22.154269Z",
     "iopub.status.idle": "2020-08-23T07:28:22.157406Z",
     "shell.execute_reply": "2020-08-23T07:28:22.156787Z"
    },
    "papermill": {
     "duration": 0.032494,
     "end_time": "2020-08-23T07:28:22.157539",
     "exception": false,
     "start_time": "2020-08-23T07:28:22.125045",
     "status": "completed"
    },
    "tags": []
   },
   "outputs": [],
   "source": [
    "#这里确定了测试集中的所有商店id都在训练集中。\n",
    "#但是在项目的竞争讨论有一个关于重复店铺的问题被提到，这可能需要我们进行分析。"
   ]
  },
  {
   "cell_type": "markdown",
   "metadata": {
    "papermill": {
     "duration": 0.025315,
     "end_time": "2020-08-23T07:28:22.208297",
     "exception": false,
     "start_time": "2020-08-23T07:28:22.182982",
     "status": "completed"
    },
    "tags": []
   },
   "source": [
    "##### 不同ID的 “重复商店” 分析"
   ]
  },
  {
   "cell_type": "code",
   "execution_count": 34,
   "metadata": {
    "execution": {
     "iopub.execute_input": "2020-08-23T07:28:22.278552Z",
     "iopub.status.busy": "2020-08-23T07:28:22.277589Z",
     "iopub.status.idle": "2020-08-23T07:28:22.282553Z",
     "shell.execute_reply": "2020-08-23T07:28:22.282044Z"
    },
    "papermill": {
     "duration": 0.048531,
     "end_time": "2020-08-23T07:28:22.282674",
     "exception": false,
     "start_time": "2020-08-23T07:28:22.234143",
     "status": "completed"
    },
    "scrolled": true,
    "tags": []
   },
   "outputs": [
    {
     "data": {
      "text/html": [
       "<div>\n",
       "<style scoped>\n",
       "    .dataframe tbody tr th:only-of-type {\n",
       "        vertical-align: middle;\n",
       "    }\n",
       "\n",
       "    .dataframe tbody tr th {\n",
       "        vertical-align: top;\n",
       "    }\n",
       "\n",
       "    .dataframe thead th {\n",
       "        text-align: right;\n",
       "    }\n",
       "</style>\n",
       "<table border=\"1\" class=\"dataframe\">\n",
       "  <thead>\n",
       "    <tr style=\"text-align: right;\">\n",
       "      <th></th>\n",
       "      <th>shop_name</th>\n",
       "      <th>shop_id</th>\n",
       "    </tr>\n",
       "  </thead>\n",
       "  <tbody>\n",
       "    <tr>\n",
       "      <th>0</th>\n",
       "      <td>!Якутск Орджоникидзе, 56 фран</td>\n",
       "      <td>0</td>\n",
       "    </tr>\n",
       "    <tr>\n",
       "      <th>1</th>\n",
       "      <td>!Якутск ТЦ \"Центральный\" фран</td>\n",
       "      <td>1</td>\n",
       "    </tr>\n",
       "    <tr>\n",
       "      <th>2</th>\n",
       "      <td>Адыгея ТЦ \"Мега\"</td>\n",
       "      <td>2</td>\n",
       "    </tr>\n",
       "    <tr>\n",
       "      <th>3</th>\n",
       "      <td>Балашиха ТРК \"Октябрь-Киномир\"</td>\n",
       "      <td>3</td>\n",
       "    </tr>\n",
       "    <tr>\n",
       "      <th>4</th>\n",
       "      <td>Волжский ТЦ \"Волга Молл\"</td>\n",
       "      <td>4</td>\n",
       "    </tr>\n",
       "    <tr>\n",
       "      <th>5</th>\n",
       "      <td>Вологда ТРЦ \"Мармелад\"</td>\n",
       "      <td>5</td>\n",
       "    </tr>\n",
       "    <tr>\n",
       "      <th>6</th>\n",
       "      <td>Воронеж (Плехановская, 13)</td>\n",
       "      <td>6</td>\n",
       "    </tr>\n",
       "    <tr>\n",
       "      <th>7</th>\n",
       "      <td>Воронеж ТРЦ \"Максимир\"</td>\n",
       "      <td>7</td>\n",
       "    </tr>\n",
       "    <tr>\n",
       "      <th>8</th>\n",
       "      <td>Воронеж ТРЦ Сити-Парк \"Град\"</td>\n",
       "      <td>8</td>\n",
       "    </tr>\n",
       "    <tr>\n",
       "      <th>9</th>\n",
       "      <td>Выездная Торговля</td>\n",
       "      <td>9</td>\n",
       "    </tr>\n",
       "    <tr>\n",
       "      <th>10</th>\n",
       "      <td>Жуковский ул. Чкалова 39м?</td>\n",
       "      <td>10</td>\n",
       "    </tr>\n",
       "    <tr>\n",
       "      <th>11</th>\n",
       "      <td>Жуковский ул. Чкалова 39м²</td>\n",
       "      <td>11</td>\n",
       "    </tr>\n",
       "    <tr>\n",
       "      <th>12</th>\n",
       "      <td>Интернет-магазин ЧС</td>\n",
       "      <td>12</td>\n",
       "    </tr>\n",
       "    <tr>\n",
       "      <th>13</th>\n",
       "      <td>Казань ТЦ \"Бехетле\"</td>\n",
       "      <td>13</td>\n",
       "    </tr>\n",
       "    <tr>\n",
       "      <th>14</th>\n",
       "      <td>Казань ТЦ \"ПаркХаус\" II</td>\n",
       "      <td>14</td>\n",
       "    </tr>\n",
       "    <tr>\n",
       "      <th>15</th>\n",
       "      <td>Калуга ТРЦ \"XXI век\"</td>\n",
       "      <td>15</td>\n",
       "    </tr>\n",
       "    <tr>\n",
       "      <th>16</th>\n",
       "      <td>Коломна ТЦ \"Рио\"</td>\n",
       "      <td>16</td>\n",
       "    </tr>\n",
       "    <tr>\n",
       "      <th>17</th>\n",
       "      <td>Красноярск ТЦ \"Взлетка Плаза\"</td>\n",
       "      <td>17</td>\n",
       "    </tr>\n",
       "    <tr>\n",
       "      <th>18</th>\n",
       "      <td>Красноярск ТЦ \"Июнь\"</td>\n",
       "      <td>18</td>\n",
       "    </tr>\n",
       "    <tr>\n",
       "      <th>19</th>\n",
       "      <td>Курск ТЦ \"Пушкинский\"</td>\n",
       "      <td>19</td>\n",
       "    </tr>\n",
       "    <tr>\n",
       "      <th>20</th>\n",
       "      <td>Москва \"Распродажа\"</td>\n",
       "      <td>20</td>\n",
       "    </tr>\n",
       "    <tr>\n",
       "      <th>21</th>\n",
       "      <td>Москва МТРЦ \"Афи Молл\"</td>\n",
       "      <td>21</td>\n",
       "    </tr>\n",
       "    <tr>\n",
       "      <th>22</th>\n",
       "      <td>Москва Магазин С21</td>\n",
       "      <td>22</td>\n",
       "    </tr>\n",
       "    <tr>\n",
       "      <th>23</th>\n",
       "      <td>Москва ТК \"Буденовский\" (пав.А2)</td>\n",
       "      <td>23</td>\n",
       "    </tr>\n",
       "    <tr>\n",
       "      <th>24</th>\n",
       "      <td>Москва ТК \"Буденовский\" (пав.К7)</td>\n",
       "      <td>24</td>\n",
       "    </tr>\n",
       "    <tr>\n",
       "      <th>25</th>\n",
       "      <td>Москва ТРК \"Атриум\"</td>\n",
       "      <td>25</td>\n",
       "    </tr>\n",
       "    <tr>\n",
       "      <th>26</th>\n",
       "      <td>Москва ТЦ \"Ареал\" (Беляево)</td>\n",
       "      <td>26</td>\n",
       "    </tr>\n",
       "    <tr>\n",
       "      <th>27</th>\n",
       "      <td>Москва ТЦ \"МЕГА Белая Дача II\"</td>\n",
       "      <td>27</td>\n",
       "    </tr>\n",
       "    <tr>\n",
       "      <th>28</th>\n",
       "      <td>Москва ТЦ \"МЕГА Теплый Стан\" II</td>\n",
       "      <td>28</td>\n",
       "    </tr>\n",
       "    <tr>\n",
       "      <th>29</th>\n",
       "      <td>Москва ТЦ \"Новый век\" (Новокосино)</td>\n",
       "      <td>29</td>\n",
       "    </tr>\n",
       "    <tr>\n",
       "      <th>30</th>\n",
       "      <td>Москва ТЦ \"Перловский\"</td>\n",
       "      <td>30</td>\n",
       "    </tr>\n",
       "    <tr>\n",
       "      <th>31</th>\n",
       "      <td>Москва ТЦ \"Семеновский\"</td>\n",
       "      <td>31</td>\n",
       "    </tr>\n",
       "    <tr>\n",
       "      <th>32</th>\n",
       "      <td>Москва ТЦ \"Серебряный Дом\"</td>\n",
       "      <td>32</td>\n",
       "    </tr>\n",
       "    <tr>\n",
       "      <th>33</th>\n",
       "      <td>Мытищи ТРК \"XL-3\"</td>\n",
       "      <td>33</td>\n",
       "    </tr>\n",
       "    <tr>\n",
       "      <th>34</th>\n",
       "      <td>Н.Новгород ТРЦ \"РИО\"</td>\n",
       "      <td>34</td>\n",
       "    </tr>\n",
       "    <tr>\n",
       "      <th>35</th>\n",
       "      <td>Н.Новгород ТРЦ \"Фантастика\"</td>\n",
       "      <td>35</td>\n",
       "    </tr>\n",
       "    <tr>\n",
       "      <th>36</th>\n",
       "      <td>Новосибирск ТРЦ \"Галерея Новосибирск\"</td>\n",
       "      <td>36</td>\n",
       "    </tr>\n",
       "    <tr>\n",
       "      <th>37</th>\n",
       "      <td>Новосибирск ТЦ \"Мега\"</td>\n",
       "      <td>37</td>\n",
       "    </tr>\n",
       "    <tr>\n",
       "      <th>38</th>\n",
       "      <td>Омск ТЦ \"Мега\"</td>\n",
       "      <td>38</td>\n",
       "    </tr>\n",
       "    <tr>\n",
       "      <th>39</th>\n",
       "      <td>РостовНаДону ТРК \"Мегацентр Горизонт\"</td>\n",
       "      <td>39</td>\n",
       "    </tr>\n",
       "    <tr>\n",
       "      <th>40</th>\n",
       "      <td>РостовНаДону ТРК \"Мегацентр Горизонт\" Островной</td>\n",
       "      <td>40</td>\n",
       "    </tr>\n",
       "    <tr>\n",
       "      <th>41</th>\n",
       "      <td>РостовНаДону ТЦ \"Мега\"</td>\n",
       "      <td>41</td>\n",
       "    </tr>\n",
       "    <tr>\n",
       "      <th>42</th>\n",
       "      <td>СПб ТК \"Невский Центр\"</td>\n",
       "      <td>42</td>\n",
       "    </tr>\n",
       "    <tr>\n",
       "      <th>43</th>\n",
       "      <td>СПб ТК \"Сенная\"</td>\n",
       "      <td>43</td>\n",
       "    </tr>\n",
       "    <tr>\n",
       "      <th>44</th>\n",
       "      <td>Самара ТЦ \"Мелодия\"</td>\n",
       "      <td>44</td>\n",
       "    </tr>\n",
       "    <tr>\n",
       "      <th>45</th>\n",
       "      <td>Самара ТЦ \"ПаркХаус\"</td>\n",
       "      <td>45</td>\n",
       "    </tr>\n",
       "    <tr>\n",
       "      <th>46</th>\n",
       "      <td>Сергиев Посад ТЦ \"7Я\"</td>\n",
       "      <td>46</td>\n",
       "    </tr>\n",
       "    <tr>\n",
       "      <th>47</th>\n",
       "      <td>Сургут ТРЦ \"Сити Молл\"</td>\n",
       "      <td>47</td>\n",
       "    </tr>\n",
       "    <tr>\n",
       "      <th>48</th>\n",
       "      <td>Томск ТРЦ \"Изумрудный Город\"</td>\n",
       "      <td>48</td>\n",
       "    </tr>\n",
       "    <tr>\n",
       "      <th>49</th>\n",
       "      <td>Тюмень ТРЦ \"Кристалл\"</td>\n",
       "      <td>49</td>\n",
       "    </tr>\n",
       "    <tr>\n",
       "      <th>50</th>\n",
       "      <td>Тюмень ТЦ \"Гудвин\"</td>\n",
       "      <td>50</td>\n",
       "    </tr>\n",
       "    <tr>\n",
       "      <th>51</th>\n",
       "      <td>Тюмень ТЦ \"Зеленый Берег\"</td>\n",
       "      <td>51</td>\n",
       "    </tr>\n",
       "    <tr>\n",
       "      <th>52</th>\n",
       "      <td>Уфа ТК \"Центральный\"</td>\n",
       "      <td>52</td>\n",
       "    </tr>\n",
       "    <tr>\n",
       "      <th>53</th>\n",
       "      <td>Уфа ТЦ \"Семья\" 2</td>\n",
       "      <td>53</td>\n",
       "    </tr>\n",
       "    <tr>\n",
       "      <th>54</th>\n",
       "      <td>Химки ТЦ \"Мега\"</td>\n",
       "      <td>54</td>\n",
       "    </tr>\n",
       "    <tr>\n",
       "      <th>55</th>\n",
       "      <td>Цифровой склад 1С-Онлайн</td>\n",
       "      <td>55</td>\n",
       "    </tr>\n",
       "    <tr>\n",
       "      <th>56</th>\n",
       "      <td>Чехов ТРЦ \"Карнавал\"</td>\n",
       "      <td>56</td>\n",
       "    </tr>\n",
       "    <tr>\n",
       "      <th>57</th>\n",
       "      <td>Якутск Орджоникидзе, 56</td>\n",
       "      <td>57</td>\n",
       "    </tr>\n",
       "    <tr>\n",
       "      <th>58</th>\n",
       "      <td>Якутск ТЦ \"Центральный\"</td>\n",
       "      <td>58</td>\n",
       "    </tr>\n",
       "    <tr>\n",
       "      <th>59</th>\n",
       "      <td>Ярославль ТЦ \"Альтаир\"</td>\n",
       "      <td>59</td>\n",
       "    </tr>\n",
       "  </tbody>\n",
       "</table>\n",
       "</div>"
      ],
      "text/plain": [
       "                                          shop_name  shop_id\n",
       "0                     !Якутск Орджоникидзе, 56 фран        0\n",
       "1                     !Якутск ТЦ \"Центральный\" фран        1\n",
       "2                                  Адыгея ТЦ \"Мега\"        2\n",
       "3                    Балашиха ТРК \"Октябрь-Киномир\"        3\n",
       "4                          Волжский ТЦ \"Волга Молл\"        4\n",
       "5                            Вологда ТРЦ \"Мармелад\"        5\n",
       "6                        Воронеж (Плехановская, 13)        6\n",
       "7                            Воронеж ТРЦ \"Максимир\"        7\n",
       "8                      Воронеж ТРЦ Сити-Парк \"Град\"        8\n",
       "9                                 Выездная Торговля        9\n",
       "10                       Жуковский ул. Чкалова 39м?       10\n",
       "11                       Жуковский ул. Чкалова 39м²       11\n",
       "12                              Интернет-магазин ЧС       12\n",
       "13                              Казань ТЦ \"Бехетле\"       13\n",
       "14                          Казань ТЦ \"ПаркХаус\" II       14\n",
       "15                             Калуга ТРЦ \"XXI век\"       15\n",
       "16                                 Коломна ТЦ \"Рио\"       16\n",
       "17                    Красноярск ТЦ \"Взлетка Плаза\"       17\n",
       "18                             Красноярск ТЦ \"Июнь\"       18\n",
       "19                            Курск ТЦ \"Пушкинский\"       19\n",
       "20                              Москва \"Распродажа\"       20\n",
       "21                           Москва МТРЦ \"Афи Молл\"       21\n",
       "22                               Москва Магазин С21       22\n",
       "23                 Москва ТК \"Буденовский\" (пав.А2)       23\n",
       "24                 Москва ТК \"Буденовский\" (пав.К7)       24\n",
       "25                              Москва ТРК \"Атриум\"       25\n",
       "26                      Москва ТЦ \"Ареал\" (Беляево)       26\n",
       "27                   Москва ТЦ \"МЕГА Белая Дача II\"       27\n",
       "28                  Москва ТЦ \"МЕГА Теплый Стан\" II       28\n",
       "29               Москва ТЦ \"Новый век\" (Новокосино)       29\n",
       "30                           Москва ТЦ \"Перловский\"       30\n",
       "31                          Москва ТЦ \"Семеновский\"       31\n",
       "32                       Москва ТЦ \"Серебряный Дом\"       32\n",
       "33                                Мытищи ТРК \"XL-3\"       33\n",
       "34                             Н.Новгород ТРЦ \"РИО\"       34\n",
       "35                      Н.Новгород ТРЦ \"Фантастика\"       35\n",
       "36            Новосибирск ТРЦ \"Галерея Новосибирск\"       36\n",
       "37                            Новосибирск ТЦ \"Мега\"       37\n",
       "38                                   Омск ТЦ \"Мега\"       38\n",
       "39            РостовНаДону ТРК \"Мегацентр Горизонт\"       39\n",
       "40  РостовНаДону ТРК \"Мегацентр Горизонт\" Островной       40\n",
       "41                           РостовНаДону ТЦ \"Мега\"       41\n",
       "42                           СПб ТК \"Невский Центр\"       42\n",
       "43                                  СПб ТК \"Сенная\"       43\n",
       "44                              Самара ТЦ \"Мелодия\"       44\n",
       "45                             Самара ТЦ \"ПаркХаус\"       45\n",
       "46                            Сергиев Посад ТЦ \"7Я\"       46\n",
       "47                           Сургут ТРЦ \"Сити Молл\"       47\n",
       "48                     Томск ТРЦ \"Изумрудный Город\"       48\n",
       "49                            Тюмень ТРЦ \"Кристалл\"       49\n",
       "50                               Тюмень ТЦ \"Гудвин\"       50\n",
       "51                        Тюмень ТЦ \"Зеленый Берег\"       51\n",
       "52                             Уфа ТК \"Центральный\"       52\n",
       "53                                 Уфа ТЦ \"Семья\" 2       53\n",
       "54                                  Химки ТЦ \"Мега\"       54\n",
       "55                         Цифровой склад 1С-Онлайн       55\n",
       "56                             Чехов ТРЦ \"Карнавал\"       56\n",
       "57                          Якутск Орджоникидзе, 56       57\n",
       "58                          Якутск ТЦ \"Центральный\"       58\n",
       "59                           Ярославль ТЦ \"Альтаир\"       59"
      ]
     },
     "execution_count": 34,
     "metadata": {},
     "output_type": "execute_result"
    }
   ],
   "source": [
    "#对商店名称和ID进行比较\n",
    "shops"
   ]
  },
  {
   "cell_type": "markdown",
   "metadata": {
    "papermill": {
     "duration": 0.025414,
     "end_time": "2020-08-23T07:28:22.334263",
     "exception": false,
     "start_time": "2020-08-23T07:28:22.308849",
     "status": "completed"
    },
    "tags": []
   },
   "source": [
    "借助翻译，前五个和后五个商店名分别是：（根据ID序号）\n",
    "\n",
    "（0）雅库茨克·奥尔德奇尼基泽，56弗兰\n",
    "\n",
    "（1）雅库茨克中心弗兰\n",
    "\n",
    "（2）阿德盖亚超级购物中心\n",
    "\n",
    "（3）“十月电影世界”\n",
    "\n",
    "（4）沃尔日斯基购物中心“伏尔加购物中心”\n",
    "\n",
    ".........\n",
    "\n",
    "（55）数字仓库1C-在线\n",
    "\n",
    "（56）契诃夫嘉年华\n",
    "\n",
    "（57）雅库茨克·奥尔德奇尼基泽，56\n",
    "\n",
    "（58）雅库茨克中心\n",
    "\n",
    "（59）雅罗斯拉夫尔牵牛星购物中心\n"
   ]
  },
  {
   "cell_type": "code",
   "execution_count": 35,
   "metadata": {
    "execution": {
     "iopub.execute_input": "2020-08-23T07:28:22.391417Z",
     "iopub.status.busy": "2020-08-23T07:28:22.390664Z",
     "iopub.status.idle": "2020-08-23T07:28:22.394050Z",
     "shell.execute_reply": "2020-08-23T07:28:22.393402Z"
    },
    "papermill": {
     "duration": 0.033833,
     "end_time": "2020-08-23T07:28:22.394203",
     "exception": false,
     "start_time": "2020-08-23T07:28:22.360370",
     "status": "completed"
    },
    "tags": []
   },
   "outputs": [],
   "source": [
    "#令人意外的是这些商店名是以城市和地区作为台头的，这可能是一个潜在特征\n",
    "#而且仔细分析可以发现ID为0、1的商店名与ID为57、58几乎一致，区别在于商店0、1还附加了'фран'（弗兰）一词\n",
    "#还有ID为10的商店名与ID为11几乎一致，都为\"Жуковский ул. Чкалова 39м\"（茹科夫斯基大街·契卡洛夫39m）\n",
    "#二者唯一区别在于最后的角标字符不同，分别是'？'与'2'"
   ]
  },
  {
   "cell_type": "code",
   "execution_count": 36,
   "metadata": {
    "execution": {
     "iopub.execute_input": "2020-08-23T07:28:22.471490Z",
     "iopub.status.busy": "2020-08-23T07:28:22.470704Z",
     "iopub.status.idle": "2020-08-23T07:28:22.535324Z",
     "shell.execute_reply": "2020-08-23T07:28:22.534566Z"
    },
    "papermill": {
     "duration": 0.099925,
     "end_time": "2020-08-23T07:28:22.535461",
     "exception": false,
     "start_time": "2020-08-23T07:28:22.435536",
     "status": "completed"
    },
    "tags": []
   },
   "outputs": [],
   "source": [
    "#因此，我认为这些几乎重复的ID项应该被合并（训练集和测试集都要）\n",
    "sales_train.loc[sales_train['shop_id'] == 0, 'shop_id'] = 57\n",
    "test.loc[test['shop_id'] == 0, 'shop_id'] = 57\n",
    "\n",
    "sales_train.loc[sales_train['shop_id'] == 1, 'shop_id'] = 58\n",
    "test.loc[test['shop_id'] == 1, 'shop_id'] = 58\n",
    "\n",
    "sales_train.loc[sales_train['shop_id'] == 10, 'shop_id'] = 11\n",
    "test.loc[test['shop_id'] == 10, 'shop_id'] = 11"
   ]
  },
  {
   "cell_type": "code",
   "execution_count": 37,
   "metadata": {
    "execution": {
     "iopub.execute_input": "2020-08-23T07:28:22.593870Z",
     "iopub.status.busy": "2020-08-23T07:28:22.593103Z",
     "iopub.status.idle": "2020-08-23T07:28:22.614583Z",
     "shell.execute_reply": "2020-08-23T07:28:22.613853Z"
    },
    "papermill": {
     "duration": 0.053133,
     "end_time": "2020-08-23T07:28:22.614717",
     "exception": false,
     "start_time": "2020-08-23T07:28:22.561584",
     "status": "completed"
    },
    "tags": []
   },
   "outputs": [
    {
     "name": "stdout",
     "output_type": "stream",
     "text": [
      "训练集中的商店ID有 57 个 \n",
      "测试集中的商店ID有 42 个 \n"
     ]
    }
   ],
   "source": [
    "#再查看一下合并后训练集和测试集的商店ID数目\n",
    "shops_train = sales_train['shop_id'].nunique()\n",
    "shops_test = test['shop_id'].nunique()\n",
    "print('训练集中的商店ID有 {} 个 '.format(shops_train))\n",
    "print('测试集中的商店ID有 {} 个 '.format(shops_test))"
   ]
  },
  {
   "cell_type": "markdown",
   "metadata": {
    "papermill": {
     "duration": 0.025778,
     "end_time": "2020-08-23T07:28:22.666905",
     "exception": false,
     "start_time": "2020-08-23T07:28:22.641127",
     "status": "completed"
    },
    "tags": []
   },
   "source": [
    "可见，测试集中的商店并没有减少，而是训练集中多出的三个冗余ID被去除了。"
   ]
  },
  {
   "cell_type": "markdown",
   "metadata": {
    "papermill": {
     "duration": 0.025601,
     "end_time": "2020-08-23T07:28:22.719400",
     "exception": false,
     "start_time": "2020-08-23T07:28:22.693799",
     "status": "completed"
    },
    "tags": []
   },
   "source": [
    "##### 对商店名中的城市进行提取"
   ]
  },
  {
   "cell_type": "code",
   "execution_count": 38,
   "metadata": {
    "execution": {
     "iopub.execute_input": "2020-08-23T07:28:22.778789Z",
     "iopub.status.busy": "2020-08-23T07:28:22.777868Z",
     "iopub.status.idle": "2020-08-23T07:28:22.782240Z",
     "shell.execute_reply": "2020-08-23T07:28:22.781702Z"
    },
    "papermill": {
     "duration": 0.036732,
     "end_time": "2020-08-23T07:28:22.782362",
     "exception": false,
     "start_time": "2020-08-23T07:28:22.745630",
     "status": "completed"
    },
    "tags": []
   },
   "outputs": [
    {
     "data": {
      "text/plain": [
       "0     !Якутск Орджоникидзе, 56 фран\n",
       "1     !Якутск ТЦ \"Центральный\" фран\n",
       "2                  Адыгея ТЦ \"Мега\"\n",
       "3    Балашиха ТРК \"Октябрь-Киномир\"\n",
       "4          Волжский ТЦ \"Волга Молл\"\n",
       "Name: shop_name, dtype: object"
      ]
     },
     "execution_count": 38,
     "metadata": {},
     "output_type": "execute_result"
    }
   ],
   "source": [
    "#查看前五个ID的商店名\n",
    "shops['shop_name'][:5]"
   ]
  },
  {
   "cell_type": "code",
   "execution_count": 39,
   "metadata": {
    "execution": {
     "iopub.execute_input": "2020-08-23T07:28:22.843110Z",
     "iopub.status.busy": "2020-08-23T07:28:22.842294Z",
     "iopub.status.idle": "2020-08-23T07:28:22.847006Z",
     "shell.execute_reply": "2020-08-23T07:28:22.846443Z"
    },
    "papermill": {
     "duration": 0.038396,
     "end_time": "2020-08-23T07:28:22.847124",
     "exception": false,
     "start_time": "2020-08-23T07:28:22.808728",
     "status": "completed"
    },
    "tags": []
   },
   "outputs": [
    {
     "data": {
      "text/plain": [
       "array(['!Якутск', 'Адыгея', 'Балашиха', 'Волжский', 'Вологда', 'Воронеж',\n",
       "       'Выездная', 'Жуковский', 'Интернет-магазин', 'Казань', 'Калуга',\n",
       "       'Коломна', 'Красноярск', 'Курск', 'Москва', 'Мытищи', 'Н.Новгород',\n",
       "       'Новосибирск', 'Омск', 'РостовНаДону', 'СПб', 'Самара', 'Сергиев',\n",
       "       'Сургут', 'Томск', 'Тюмень', 'Уфа', 'Химки', 'Цифровой', 'Чехов',\n",
       "       'Якутск', 'Ярославль'], dtype=object)"
      ]
     },
     "execution_count": 39,
     "metadata": {},
     "output_type": "execute_result"
    }
   ],
   "source": [
    "#提取商店名中的城市名\n",
    "shop_cities = shops['shop_name'].str.split(' ').str[0]\n",
    "shop_cities.unique()"
   ]
  },
  {
   "cell_type": "code",
   "execution_count": 40,
   "metadata": {
    "execution": {
     "iopub.execute_input": "2020-08-23T07:28:22.909173Z",
     "iopub.status.busy": "2020-08-23T07:28:22.908214Z",
     "iopub.status.idle": "2020-08-23T07:28:22.911588Z",
     "shell.execute_reply": "2020-08-23T07:28:22.911014Z"
    },
    "papermill": {
     "duration": 0.038112,
     "end_time": "2020-08-23T07:28:22.911717",
     "exception": false,
     "start_time": "2020-08-23T07:28:22.873605",
     "status": "completed"
    },
    "tags": []
   },
   "outputs": [],
   "source": [
    "#仔细观察后发现雅库茨克市用了'!Якутск'和'Якутск'两种表示。\n",
    "#猜测它们的含义应该是相同的，所以我们将它们将合并为一类。并且将城市名作为一个新特征放入shops数据里。\n",
    "shops['city'] = shop_cities\n",
    "shops.loc[shops.city == '!Якутск', 'city'] = 'Якутск'"
   ]
  },
  {
   "cell_type": "code",
   "execution_count": 41,
   "metadata": {
    "execution": {
     "iopub.execute_input": "2020-08-23T07:28:22.982522Z",
     "iopub.status.busy": "2020-08-23T07:28:22.981683Z",
     "iopub.status.idle": "2020-08-23T07:28:22.987105Z",
     "shell.execute_reply": "2020-08-23T07:28:22.986470Z"
    },
    "papermill": {
     "duration": 0.048825,
     "end_time": "2020-08-23T07:28:22.987257",
     "exception": false,
     "start_time": "2020-08-23T07:28:22.938432",
     "status": "completed"
    },
    "scrolled": true,
    "tags": []
   },
   "outputs": [
    {
     "data": {
      "text/html": [
       "<div>\n",
       "<style scoped>\n",
       "    .dataframe tbody tr th:only-of-type {\n",
       "        vertical-align: middle;\n",
       "    }\n",
       "\n",
       "    .dataframe tbody tr th {\n",
       "        vertical-align: top;\n",
       "    }\n",
       "\n",
       "    .dataframe thead th {\n",
       "        text-align: right;\n",
       "    }\n",
       "</style>\n",
       "<table border=\"1\" class=\"dataframe\">\n",
       "  <thead>\n",
       "    <tr style=\"text-align: right;\">\n",
       "      <th></th>\n",
       "      <th>shop_name</th>\n",
       "      <th>shop_id</th>\n",
       "      <th>city</th>\n",
       "    </tr>\n",
       "  </thead>\n",
       "  <tbody>\n",
       "    <tr>\n",
       "      <th>0</th>\n",
       "      <td>!Якутск Орджоникидзе, 56 фран</td>\n",
       "      <td>0</td>\n",
       "      <td>Якутск</td>\n",
       "    </tr>\n",
       "    <tr>\n",
       "      <th>1</th>\n",
       "      <td>!Якутск ТЦ \"Центральный\" фран</td>\n",
       "      <td>1</td>\n",
       "      <td>Якутск</td>\n",
       "    </tr>\n",
       "    <tr>\n",
       "      <th>2</th>\n",
       "      <td>Адыгея ТЦ \"Мега\"</td>\n",
       "      <td>2</td>\n",
       "      <td>Адыгея</td>\n",
       "    </tr>\n",
       "    <tr>\n",
       "      <th>3</th>\n",
       "      <td>Балашиха ТРК \"Октябрь-Киномир\"</td>\n",
       "      <td>3</td>\n",
       "      <td>Балашиха</td>\n",
       "    </tr>\n",
       "    <tr>\n",
       "      <th>4</th>\n",
       "      <td>Волжский ТЦ \"Волга Молл\"</td>\n",
       "      <td>4</td>\n",
       "      <td>Волжский</td>\n",
       "    </tr>\n",
       "    <tr>\n",
       "      <th>5</th>\n",
       "      <td>Вологда ТРЦ \"Мармелад\"</td>\n",
       "      <td>5</td>\n",
       "      <td>Вологда</td>\n",
       "    </tr>\n",
       "    <tr>\n",
       "      <th>6</th>\n",
       "      <td>Воронеж (Плехановская, 13)</td>\n",
       "      <td>6</td>\n",
       "      <td>Воронеж</td>\n",
       "    </tr>\n",
       "    <tr>\n",
       "      <th>7</th>\n",
       "      <td>Воронеж ТРЦ \"Максимир\"</td>\n",
       "      <td>7</td>\n",
       "      <td>Воронеж</td>\n",
       "    </tr>\n",
       "    <tr>\n",
       "      <th>8</th>\n",
       "      <td>Воронеж ТРЦ Сити-Парк \"Град\"</td>\n",
       "      <td>8</td>\n",
       "      <td>Воронеж</td>\n",
       "    </tr>\n",
       "    <tr>\n",
       "      <th>9</th>\n",
       "      <td>Выездная Торговля</td>\n",
       "      <td>9</td>\n",
       "      <td>Выездная</td>\n",
       "    </tr>\n",
       "    <tr>\n",
       "      <th>10</th>\n",
       "      <td>Жуковский ул. Чкалова 39м?</td>\n",
       "      <td>10</td>\n",
       "      <td>Жуковский</td>\n",
       "    </tr>\n",
       "    <tr>\n",
       "      <th>11</th>\n",
       "      <td>Жуковский ул. Чкалова 39м²</td>\n",
       "      <td>11</td>\n",
       "      <td>Жуковский</td>\n",
       "    </tr>\n",
       "    <tr>\n",
       "      <th>12</th>\n",
       "      <td>Интернет-магазин ЧС</td>\n",
       "      <td>12</td>\n",
       "      <td>Интернет-магазин</td>\n",
       "    </tr>\n",
       "    <tr>\n",
       "      <th>13</th>\n",
       "      <td>Казань ТЦ \"Бехетле\"</td>\n",
       "      <td>13</td>\n",
       "      <td>Казань</td>\n",
       "    </tr>\n",
       "    <tr>\n",
       "      <th>14</th>\n",
       "      <td>Казань ТЦ \"ПаркХаус\" II</td>\n",
       "      <td>14</td>\n",
       "      <td>Казань</td>\n",
       "    </tr>\n",
       "    <tr>\n",
       "      <th>15</th>\n",
       "      <td>Калуга ТРЦ \"XXI век\"</td>\n",
       "      <td>15</td>\n",
       "      <td>Калуга</td>\n",
       "    </tr>\n",
       "    <tr>\n",
       "      <th>16</th>\n",
       "      <td>Коломна ТЦ \"Рио\"</td>\n",
       "      <td>16</td>\n",
       "      <td>Коломна</td>\n",
       "    </tr>\n",
       "    <tr>\n",
       "      <th>17</th>\n",
       "      <td>Красноярск ТЦ \"Взлетка Плаза\"</td>\n",
       "      <td>17</td>\n",
       "      <td>Красноярск</td>\n",
       "    </tr>\n",
       "    <tr>\n",
       "      <th>18</th>\n",
       "      <td>Красноярск ТЦ \"Июнь\"</td>\n",
       "      <td>18</td>\n",
       "      <td>Красноярск</td>\n",
       "    </tr>\n",
       "    <tr>\n",
       "      <th>19</th>\n",
       "      <td>Курск ТЦ \"Пушкинский\"</td>\n",
       "      <td>19</td>\n",
       "      <td>Курск</td>\n",
       "    </tr>\n",
       "    <tr>\n",
       "      <th>20</th>\n",
       "      <td>Москва \"Распродажа\"</td>\n",
       "      <td>20</td>\n",
       "      <td>Москва</td>\n",
       "    </tr>\n",
       "    <tr>\n",
       "      <th>21</th>\n",
       "      <td>Москва МТРЦ \"Афи Молл\"</td>\n",
       "      <td>21</td>\n",
       "      <td>Москва</td>\n",
       "    </tr>\n",
       "    <tr>\n",
       "      <th>22</th>\n",
       "      <td>Москва Магазин С21</td>\n",
       "      <td>22</td>\n",
       "      <td>Москва</td>\n",
       "    </tr>\n",
       "    <tr>\n",
       "      <th>23</th>\n",
       "      <td>Москва ТК \"Буденовский\" (пав.А2)</td>\n",
       "      <td>23</td>\n",
       "      <td>Москва</td>\n",
       "    </tr>\n",
       "    <tr>\n",
       "      <th>24</th>\n",
       "      <td>Москва ТК \"Буденовский\" (пав.К7)</td>\n",
       "      <td>24</td>\n",
       "      <td>Москва</td>\n",
       "    </tr>\n",
       "    <tr>\n",
       "      <th>25</th>\n",
       "      <td>Москва ТРК \"Атриум\"</td>\n",
       "      <td>25</td>\n",
       "      <td>Москва</td>\n",
       "    </tr>\n",
       "    <tr>\n",
       "      <th>26</th>\n",
       "      <td>Москва ТЦ \"Ареал\" (Беляево)</td>\n",
       "      <td>26</td>\n",
       "      <td>Москва</td>\n",
       "    </tr>\n",
       "    <tr>\n",
       "      <th>27</th>\n",
       "      <td>Москва ТЦ \"МЕГА Белая Дача II\"</td>\n",
       "      <td>27</td>\n",
       "      <td>Москва</td>\n",
       "    </tr>\n",
       "    <tr>\n",
       "      <th>28</th>\n",
       "      <td>Москва ТЦ \"МЕГА Теплый Стан\" II</td>\n",
       "      <td>28</td>\n",
       "      <td>Москва</td>\n",
       "    </tr>\n",
       "    <tr>\n",
       "      <th>29</th>\n",
       "      <td>Москва ТЦ \"Новый век\" (Новокосино)</td>\n",
       "      <td>29</td>\n",
       "      <td>Москва</td>\n",
       "    </tr>\n",
       "    <tr>\n",
       "      <th>30</th>\n",
       "      <td>Москва ТЦ \"Перловский\"</td>\n",
       "      <td>30</td>\n",
       "      <td>Москва</td>\n",
       "    </tr>\n",
       "    <tr>\n",
       "      <th>31</th>\n",
       "      <td>Москва ТЦ \"Семеновский\"</td>\n",
       "      <td>31</td>\n",
       "      <td>Москва</td>\n",
       "    </tr>\n",
       "    <tr>\n",
       "      <th>32</th>\n",
       "      <td>Москва ТЦ \"Серебряный Дом\"</td>\n",
       "      <td>32</td>\n",
       "      <td>Москва</td>\n",
       "    </tr>\n",
       "    <tr>\n",
       "      <th>33</th>\n",
       "      <td>Мытищи ТРК \"XL-3\"</td>\n",
       "      <td>33</td>\n",
       "      <td>Мытищи</td>\n",
       "    </tr>\n",
       "    <tr>\n",
       "      <th>34</th>\n",
       "      <td>Н.Новгород ТРЦ \"РИО\"</td>\n",
       "      <td>34</td>\n",
       "      <td>Н.Новгород</td>\n",
       "    </tr>\n",
       "    <tr>\n",
       "      <th>35</th>\n",
       "      <td>Н.Новгород ТРЦ \"Фантастика\"</td>\n",
       "      <td>35</td>\n",
       "      <td>Н.Новгород</td>\n",
       "    </tr>\n",
       "    <tr>\n",
       "      <th>36</th>\n",
       "      <td>Новосибирск ТРЦ \"Галерея Новосибирск\"</td>\n",
       "      <td>36</td>\n",
       "      <td>Новосибирск</td>\n",
       "    </tr>\n",
       "    <tr>\n",
       "      <th>37</th>\n",
       "      <td>Новосибирск ТЦ \"Мега\"</td>\n",
       "      <td>37</td>\n",
       "      <td>Новосибирск</td>\n",
       "    </tr>\n",
       "    <tr>\n",
       "      <th>38</th>\n",
       "      <td>Омск ТЦ \"Мега\"</td>\n",
       "      <td>38</td>\n",
       "      <td>Омск</td>\n",
       "    </tr>\n",
       "    <tr>\n",
       "      <th>39</th>\n",
       "      <td>РостовНаДону ТРК \"Мегацентр Горизонт\"</td>\n",
       "      <td>39</td>\n",
       "      <td>РостовНаДону</td>\n",
       "    </tr>\n",
       "    <tr>\n",
       "      <th>40</th>\n",
       "      <td>РостовНаДону ТРК \"Мегацентр Горизонт\" Островной</td>\n",
       "      <td>40</td>\n",
       "      <td>РостовНаДону</td>\n",
       "    </tr>\n",
       "    <tr>\n",
       "      <th>41</th>\n",
       "      <td>РостовНаДону ТЦ \"Мега\"</td>\n",
       "      <td>41</td>\n",
       "      <td>РостовНаДону</td>\n",
       "    </tr>\n",
       "    <tr>\n",
       "      <th>42</th>\n",
       "      <td>СПб ТК \"Невский Центр\"</td>\n",
       "      <td>42</td>\n",
       "      <td>СПб</td>\n",
       "    </tr>\n",
       "    <tr>\n",
       "      <th>43</th>\n",
       "      <td>СПб ТК \"Сенная\"</td>\n",
       "      <td>43</td>\n",
       "      <td>СПб</td>\n",
       "    </tr>\n",
       "    <tr>\n",
       "      <th>44</th>\n",
       "      <td>Самара ТЦ \"Мелодия\"</td>\n",
       "      <td>44</td>\n",
       "      <td>Самара</td>\n",
       "    </tr>\n",
       "    <tr>\n",
       "      <th>45</th>\n",
       "      <td>Самара ТЦ \"ПаркХаус\"</td>\n",
       "      <td>45</td>\n",
       "      <td>Самара</td>\n",
       "    </tr>\n",
       "    <tr>\n",
       "      <th>46</th>\n",
       "      <td>Сергиев Посад ТЦ \"7Я\"</td>\n",
       "      <td>46</td>\n",
       "      <td>Сергиев</td>\n",
       "    </tr>\n",
       "    <tr>\n",
       "      <th>47</th>\n",
       "      <td>Сургут ТРЦ \"Сити Молл\"</td>\n",
       "      <td>47</td>\n",
       "      <td>Сургут</td>\n",
       "    </tr>\n",
       "    <tr>\n",
       "      <th>48</th>\n",
       "      <td>Томск ТРЦ \"Изумрудный Город\"</td>\n",
       "      <td>48</td>\n",
       "      <td>Томск</td>\n",
       "    </tr>\n",
       "    <tr>\n",
       "      <th>49</th>\n",
       "      <td>Тюмень ТРЦ \"Кристалл\"</td>\n",
       "      <td>49</td>\n",
       "      <td>Тюмень</td>\n",
       "    </tr>\n",
       "    <tr>\n",
       "      <th>50</th>\n",
       "      <td>Тюмень ТЦ \"Гудвин\"</td>\n",
       "      <td>50</td>\n",
       "      <td>Тюмень</td>\n",
       "    </tr>\n",
       "    <tr>\n",
       "      <th>51</th>\n",
       "      <td>Тюмень ТЦ \"Зеленый Берег\"</td>\n",
       "      <td>51</td>\n",
       "      <td>Тюмень</td>\n",
       "    </tr>\n",
       "    <tr>\n",
       "      <th>52</th>\n",
       "      <td>Уфа ТК \"Центральный\"</td>\n",
       "      <td>52</td>\n",
       "      <td>Уфа</td>\n",
       "    </tr>\n",
       "    <tr>\n",
       "      <th>53</th>\n",
       "      <td>Уфа ТЦ \"Семья\" 2</td>\n",
       "      <td>53</td>\n",
       "      <td>Уфа</td>\n",
       "    </tr>\n",
       "    <tr>\n",
       "      <th>54</th>\n",
       "      <td>Химки ТЦ \"Мега\"</td>\n",
       "      <td>54</td>\n",
       "      <td>Химки</td>\n",
       "    </tr>\n",
       "    <tr>\n",
       "      <th>55</th>\n",
       "      <td>Цифровой склад 1С-Онлайн</td>\n",
       "      <td>55</td>\n",
       "      <td>Цифровой</td>\n",
       "    </tr>\n",
       "    <tr>\n",
       "      <th>56</th>\n",
       "      <td>Чехов ТРЦ \"Карнавал\"</td>\n",
       "      <td>56</td>\n",
       "      <td>Чехов</td>\n",
       "    </tr>\n",
       "    <tr>\n",
       "      <th>57</th>\n",
       "      <td>Якутск Орджоникидзе, 56</td>\n",
       "      <td>57</td>\n",
       "      <td>Якутск</td>\n",
       "    </tr>\n",
       "    <tr>\n",
       "      <th>58</th>\n",
       "      <td>Якутск ТЦ \"Центральный\"</td>\n",
       "      <td>58</td>\n",
       "      <td>Якутск</td>\n",
       "    </tr>\n",
       "    <tr>\n",
       "      <th>59</th>\n",
       "      <td>Ярославль ТЦ \"Альтаир\"</td>\n",
       "      <td>59</td>\n",
       "      <td>Ярославль</td>\n",
       "    </tr>\n",
       "  </tbody>\n",
       "</table>\n",
       "</div>"
      ],
      "text/plain": [
       "                                          shop_name  shop_id              city\n",
       "0                     !Якутск Орджоникидзе, 56 фран        0            Якутск\n",
       "1                     !Якутск ТЦ \"Центральный\" фран        1            Якутск\n",
       "2                                  Адыгея ТЦ \"Мега\"        2            Адыгея\n",
       "3                    Балашиха ТРК \"Октябрь-Киномир\"        3          Балашиха\n",
       "4                          Волжский ТЦ \"Волга Молл\"        4          Волжский\n",
       "5                            Вологда ТРЦ \"Мармелад\"        5           Вологда\n",
       "6                        Воронеж (Плехановская, 13)        6           Воронеж\n",
       "7                            Воронеж ТРЦ \"Максимир\"        7           Воронеж\n",
       "8                      Воронеж ТРЦ Сити-Парк \"Град\"        8           Воронеж\n",
       "9                                 Выездная Торговля        9          Выездная\n",
       "10                       Жуковский ул. Чкалова 39м?       10         Жуковский\n",
       "11                       Жуковский ул. Чкалова 39м²       11         Жуковский\n",
       "12                              Интернет-магазин ЧС       12  Интернет-магазин\n",
       "13                              Казань ТЦ \"Бехетле\"       13            Казань\n",
       "14                          Казань ТЦ \"ПаркХаус\" II       14            Казань\n",
       "15                             Калуга ТРЦ \"XXI век\"       15            Калуга\n",
       "16                                 Коломна ТЦ \"Рио\"       16           Коломна\n",
       "17                    Красноярск ТЦ \"Взлетка Плаза\"       17        Красноярск\n",
       "18                             Красноярск ТЦ \"Июнь\"       18        Красноярск\n",
       "19                            Курск ТЦ \"Пушкинский\"       19             Курск\n",
       "20                              Москва \"Распродажа\"       20            Москва\n",
       "21                           Москва МТРЦ \"Афи Молл\"       21            Москва\n",
       "22                               Москва Магазин С21       22            Москва\n",
       "23                 Москва ТК \"Буденовский\" (пав.А2)       23            Москва\n",
       "24                 Москва ТК \"Буденовский\" (пав.К7)       24            Москва\n",
       "25                              Москва ТРК \"Атриум\"       25            Москва\n",
       "26                      Москва ТЦ \"Ареал\" (Беляево)       26            Москва\n",
       "27                   Москва ТЦ \"МЕГА Белая Дача II\"       27            Москва\n",
       "28                  Москва ТЦ \"МЕГА Теплый Стан\" II       28            Москва\n",
       "29               Москва ТЦ \"Новый век\" (Новокосино)       29            Москва\n",
       "30                           Москва ТЦ \"Перловский\"       30            Москва\n",
       "31                          Москва ТЦ \"Семеновский\"       31            Москва\n",
       "32                       Москва ТЦ \"Серебряный Дом\"       32            Москва\n",
       "33                                Мытищи ТРК \"XL-3\"       33            Мытищи\n",
       "34                             Н.Новгород ТРЦ \"РИО\"       34        Н.Новгород\n",
       "35                      Н.Новгород ТРЦ \"Фантастика\"       35        Н.Новгород\n",
       "36            Новосибирск ТРЦ \"Галерея Новосибирск\"       36       Новосибирск\n",
       "37                            Новосибирск ТЦ \"Мега\"       37       Новосибирск\n",
       "38                                   Омск ТЦ \"Мега\"       38              Омск\n",
       "39            РостовНаДону ТРК \"Мегацентр Горизонт\"       39      РостовНаДону\n",
       "40  РостовНаДону ТРК \"Мегацентр Горизонт\" Островной       40      РостовНаДону\n",
       "41                           РостовНаДону ТЦ \"Мега\"       41      РостовНаДону\n",
       "42                           СПб ТК \"Невский Центр\"       42               СПб\n",
       "43                                  СПб ТК \"Сенная\"       43               СПб\n",
       "44                              Самара ТЦ \"Мелодия\"       44            Самара\n",
       "45                             Самара ТЦ \"ПаркХаус\"       45            Самара\n",
       "46                            Сергиев Посад ТЦ \"7Я\"       46           Сергиев\n",
       "47                           Сургут ТРЦ \"Сити Молл\"       47            Сургут\n",
       "48                     Томск ТРЦ \"Изумрудный Город\"       48             Томск\n",
       "49                            Тюмень ТРЦ \"Кристалл\"       49            Тюмень\n",
       "50                               Тюмень ТЦ \"Гудвин\"       50            Тюмень\n",
       "51                        Тюмень ТЦ \"Зеленый Берег\"       51            Тюмень\n",
       "52                             Уфа ТК \"Центральный\"       52               Уфа\n",
       "53                                 Уфа ТЦ \"Семья\" 2       53               Уфа\n",
       "54                                  Химки ТЦ \"Мега\"       54             Химки\n",
       "55                         Цифровой склад 1С-Онлайн       55          Цифровой\n",
       "56                             Чехов ТРЦ \"Карнавал\"       56             Чехов\n",
       "57                          Якутск Орджоникидзе, 56       57            Якутск\n",
       "58                          Якутск ТЦ \"Центральный\"       58            Якутск\n",
       "59                           Ярославль ТЦ \"Альтаир\"       59         Ярославль"
      ]
     },
     "execution_count": 41,
     "metadata": {},
     "output_type": "execute_result"
    }
   ],
   "source": [
    "#查看现在的shops数据\n",
    "shops"
   ]
  },
  {
   "cell_type": "code",
   "execution_count": 42,
   "metadata": {
    "execution": {
     "iopub.execute_input": "2020-08-23T07:28:23.047595Z",
     "iopub.status.busy": "2020-08-23T07:28:23.046836Z",
     "iopub.status.idle": "2020-08-23T07:28:23.114525Z",
     "shell.execute_reply": "2020-08-23T07:28:23.113872Z"
    },
    "papermill": {
     "duration": 0.100229,
     "end_time": "2020-08-23T07:28:23.114663",
     "exception": false,
     "start_time": "2020-08-23T07:28:23.014434",
     "status": "completed"
    },
    "tags": []
   },
   "outputs": [],
   "source": [
    "#将city特征转换为数值标签（简单使用数字编码）\n",
    "from sklearn import preprocessing\n",
    "label_encoder = preprocessing.LabelEncoder()\n",
    "shops['shop_city'] = label_encoder.fit_transform(shops['city'])"
   ]
  },
  {
   "cell_type": "code",
   "execution_count": 43,
   "metadata": {
    "execution": {
     "iopub.execute_input": "2020-08-23T07:28:23.180528Z",
     "iopub.status.busy": "2020-08-23T07:28:23.179685Z",
     "iopub.status.idle": "2020-08-23T07:28:23.184695Z",
     "shell.execute_reply": "2020-08-23T07:28:23.183984Z"
    },
    "papermill": {
     "duration": 0.042466,
     "end_time": "2020-08-23T07:28:23.184834",
     "exception": false,
     "start_time": "2020-08-23T07:28:23.142368",
     "status": "completed"
    },
    "tags": []
   },
   "outputs": [
    {
     "data": {
      "text/html": [
       "<div>\n",
       "<style scoped>\n",
       "    .dataframe tbody tr th:only-of-type {\n",
       "        vertical-align: middle;\n",
       "    }\n",
       "\n",
       "    .dataframe tbody tr th {\n",
       "        vertical-align: top;\n",
       "    }\n",
       "\n",
       "    .dataframe thead th {\n",
       "        text-align: right;\n",
       "    }\n",
       "</style>\n",
       "<table border=\"1\" class=\"dataframe\">\n",
       "  <thead>\n",
       "    <tr style=\"text-align: right;\">\n",
       "      <th></th>\n",
       "      <th>shop_id</th>\n",
       "      <th>shop_city</th>\n",
       "    </tr>\n",
       "  </thead>\n",
       "  <tbody>\n",
       "    <tr>\n",
       "      <th>0</th>\n",
       "      <td>0</td>\n",
       "      <td>29</td>\n",
       "    </tr>\n",
       "    <tr>\n",
       "      <th>1</th>\n",
       "      <td>1</td>\n",
       "      <td>29</td>\n",
       "    </tr>\n",
       "    <tr>\n",
       "      <th>2</th>\n",
       "      <td>2</td>\n",
       "      <td>0</td>\n",
       "    </tr>\n",
       "    <tr>\n",
       "      <th>3</th>\n",
       "      <td>3</td>\n",
       "      <td>1</td>\n",
       "    </tr>\n",
       "    <tr>\n",
       "      <th>4</th>\n",
       "      <td>4</td>\n",
       "      <td>2</td>\n",
       "    </tr>\n",
       "  </tbody>\n",
       "</table>\n",
       "</div>"
      ],
      "text/plain": [
       "   shop_id  shop_city\n",
       "0        0         29\n",
       "1        1         29\n",
       "2        2          0\n",
       "3        3          1\n",
       "4        4          2"
      ]
     },
     "execution_count": 43,
     "metadata": {},
     "output_type": "execute_result"
    }
   ],
   "source": [
    "#现在我们不再需要'shop_name'和'city'这两个变量了，所以将其删除\n",
    "shops = shops.drop(['shop_name', 'city'], axis = 1)\n",
    "shops.head()"
   ]
  },
  {
   "cell_type": "markdown",
   "metadata": {
    "papermill": {
     "duration": 0.026883,
     "end_time": "2020-08-23T07:28:23.239321",
     "exception": false,
     "start_time": "2020-08-23T07:28:23.212438",
     "status": "completed"
    },
    "tags": []
   },
   "source": [
    "##### 商品ID数量分析"
   ]
  },
  {
   "cell_type": "markdown",
   "metadata": {
    "papermill": {
     "duration": 0.027832,
     "end_time": "2020-08-23T07:28:23.295662",
     "exception": false,
     "start_time": "2020-08-23T07:28:23.267830",
     "status": "completed"
    },
    "tags": []
   },
   "source": [
    "对商品ID“item_ids”也执行类似的分析操作"
   ]
  },
  {
   "cell_type": "code",
   "execution_count": 44,
   "metadata": {
    "execution": {
     "iopub.execute_input": "2020-08-23T07:28:23.357252Z",
     "iopub.status.busy": "2020-08-23T07:28:23.356569Z",
     "iopub.status.idle": "2020-08-23T07:28:23.380464Z",
     "shell.execute_reply": "2020-08-23T07:28:23.379757Z"
    },
    "papermill": {
     "duration": 0.057679,
     "end_time": "2020-08-23T07:28:23.380592",
     "exception": false,
     "start_time": "2020-08-23T07:28:23.322913",
     "status": "completed"
    },
    "tags": []
   },
   "outputs": [
    {
     "name": "stdout",
     "output_type": "stream",
     "text": [
      "训练集中的商品ID有 21806 个 \n",
      "测试集中的商品ID有 5100 个 \n"
     ]
    }
   ],
   "source": [
    "#返回训练集和测试集中的商品ID唯一值的数目\n",
    "items_train = sales_train['item_id'].nunique()\n",
    "items_test = test['item_id'].nunique()\n",
    "print('训练集中的商品ID有 {} 个 '.format(items_train))\n",
    "print('测试集中的商品ID有 {} 个 '.format(items_test))"
   ]
  },
  {
   "cell_type": "code",
   "execution_count": 45,
   "metadata": {
    "execution": {
     "iopub.execute_input": "2020-08-23T07:28:23.448181Z",
     "iopub.status.busy": "2020-08-23T07:28:23.447066Z",
     "iopub.status.idle": "2020-08-23T07:28:23.474107Z",
     "shell.execute_reply": "2020-08-23T07:28:23.473534Z"
    },
    "papermill": {
     "duration": 0.06596,
     "end_time": "2020-08-23T07:28:23.474246",
     "exception": false,
     "start_time": "2020-08-23T07:28:23.408286",
     "status": "completed"
    },
    "tags": []
   },
   "outputs": [
    {
     "name": "stdout",
     "output_type": "stream",
     "text": [
      "判断结果为：\n",
      "二者不是子集的包含关系\n"
     ]
    }
   ],
   "source": [
    "#类似的包含关系查验\n",
    "items_train_set = set(sales_train['item_id'].unique())\n",
    "items_test_set = set(test['item_id'].unique())\n",
    "\n",
    "print('判断结果为：')\n",
    "is_subset(items_test_set,items_train_set) "
   ]
  },
  {
   "cell_type": "markdown",
   "metadata": {
    "papermill": {
     "duration": 0.026865,
     "end_time": "2020-08-23T07:28:23.528468",
     "exception": false,
     "start_time": "2020-08-23T07:28:23.501603",
     "status": "completed"
    },
    "tags": []
   },
   "source": [
    "意外地，我们发现一些商品只存在于测试集而不在训练集中，我们必须对这些商品进行统计分析。"
   ]
  },
  {
   "cell_type": "code",
   "execution_count": 46,
   "metadata": {
    "execution": {
     "iopub.execute_input": "2020-08-23T07:28:23.589130Z",
     "iopub.status.busy": "2020-08-23T07:28:23.588407Z",
     "iopub.status.idle": "2020-08-23T07:28:23.592586Z",
     "shell.execute_reply": "2020-08-23T07:28:23.593069Z"
    },
    "papermill": {
     "duration": 0.037632,
     "end_time": "2020-08-23T07:28:23.593284",
     "exception": false,
     "start_time": "2020-08-23T07:28:23.555652",
     "status": "completed"
    },
    "tags": []
   },
   "outputs": [
    {
     "data": {
      "text/plain": [
       "363"
      ]
     },
     "execution_count": 46,
     "metadata": {},
     "output_type": "execute_result"
    }
   ],
   "source": [
    "#确认这些非子集商品ID的数量\n",
    "len(items_test_set.difference(items_train_set)) "
   ]
  },
  {
   "cell_type": "code",
   "execution_count": 47,
   "metadata": {
    "execution": {
     "iopub.execute_input": "2020-08-23T07:28:23.655679Z",
     "iopub.status.busy": "2020-08-23T07:28:23.654951Z",
     "iopub.status.idle": "2020-08-23T07:28:23.666625Z",
     "shell.execute_reply": "2020-08-23T07:28:23.665984Z"
    },
    "papermill": {
     "duration": 0.045373,
     "end_time": "2020-08-23T07:28:23.666765",
     "exception": false,
     "start_time": "2020-08-23T07:28:23.621392",
     "status": "completed"
    },
    "tags": []
   },
   "outputs": [],
   "source": [
    "#可见，测试集中存在363项是在训练集中没有的。 \n",
    "#但这并不意味着针对这些商品的销售预测必须为零的，因为可以将新商品添加到训练数据中，但怎么预测它们的值是一个难题。\n",
    "#在处理之前，我们需要进一步了解这个测试集中的5100个商品。它们具体属于什么类别，哪些类别我们是不需要在测试集中进行预测的。\n",
    "item_in_test = items.loc[items['item_id'].isin(sorted(test['item_id'].unique()))]\n",
    "cats_in_test = item_in_test.item_category_id.unique()"
   ]
  },
  {
   "cell_type": "code",
   "execution_count": 48,
   "metadata": {
    "execution": {
     "iopub.execute_input": "2020-08-23T07:28:23.736342Z",
     "iopub.status.busy": "2020-08-23T07:28:23.735314Z",
     "iopub.status.idle": "2020-08-23T07:28:23.740380Z",
     "shell.execute_reply": "2020-08-23T07:28:23.739754Z"
    },
    "papermill": {
     "duration": 0.045231,
     "end_time": "2020-08-23T07:28:23.740504",
     "exception": false,
     "start_time": "2020-08-23T07:28:23.695273",
     "status": "completed"
    },
    "scrolled": true,
    "tags": []
   },
   "outputs": [
    {
     "data": {
      "text/html": [
       "<div>\n",
       "<style scoped>\n",
       "    .dataframe tbody tr th:only-of-type {\n",
       "        vertical-align: middle;\n",
       "    }\n",
       "\n",
       "    .dataframe tbody tr th {\n",
       "        vertical-align: top;\n",
       "    }\n",
       "\n",
       "    .dataframe thead th {\n",
       "        text-align: right;\n",
       "    }\n",
       "</style>\n",
       "<table border=\"1\" class=\"dataframe\">\n",
       "  <thead>\n",
       "    <tr style=\"text-align: right;\">\n",
       "      <th></th>\n",
       "      <th>item_category_name</th>\n",
       "      <th>item_category_id</th>\n",
       "    </tr>\n",
       "  </thead>\n",
       "  <tbody>\n",
       "    <tr>\n",
       "      <th>1</th>\n",
       "      <td>Аксессуары - PS2</td>\n",
       "      <td>1</td>\n",
       "    </tr>\n",
       "    <tr>\n",
       "      <th>4</th>\n",
       "      <td>Аксессуары - PSP</td>\n",
       "      <td>4</td>\n",
       "    </tr>\n",
       "    <tr>\n",
       "      <th>8</th>\n",
       "      <td>Билеты (Цифра)</td>\n",
       "      <td>8</td>\n",
       "    </tr>\n",
       "    <tr>\n",
       "      <th>10</th>\n",
       "      <td>Игровые консоли - PS2</td>\n",
       "      <td>10</td>\n",
       "    </tr>\n",
       "    <tr>\n",
       "      <th>13</th>\n",
       "      <td>Игровые консоли - PSP</td>\n",
       "      <td>13</td>\n",
       "    </tr>\n",
       "    <tr>\n",
       "      <th>14</th>\n",
       "      <td>Игровые консоли - PSVita</td>\n",
       "      <td>14</td>\n",
       "    </tr>\n",
       "    <tr>\n",
       "      <th>17</th>\n",
       "      <td>Игровые консоли - Прочие</td>\n",
       "      <td>17</td>\n",
       "    </tr>\n",
       "    <tr>\n",
       "      <th>18</th>\n",
       "      <td>Игры - PS2</td>\n",
       "      <td>18</td>\n",
       "    </tr>\n",
       "    <tr>\n",
       "      <th>32</th>\n",
       "      <td>Карты оплаты (Кино, Музыка, Игры)</td>\n",
       "      <td>32</td>\n",
       "    </tr>\n",
       "    <tr>\n",
       "      <th>39</th>\n",
       "      <td>Кино - Blu-Ray 4K</td>\n",
       "      <td>39</td>\n",
       "    </tr>\n",
       "    <tr>\n",
       "      <th>46</th>\n",
       "      <td>Книги - Бизнес литература</td>\n",
       "      <td>46</td>\n",
       "    </tr>\n",
       "    <tr>\n",
       "      <th>48</th>\n",
       "      <td>Книги - Компьютерная литература</td>\n",
       "      <td>48</td>\n",
       "    </tr>\n",
       "    <tr>\n",
       "      <th>50</th>\n",
       "      <td>Книги - Открытки</td>\n",
       "      <td>50</td>\n",
       "    </tr>\n",
       "    <tr>\n",
       "      <th>51</th>\n",
       "      <td>Книги - Познавательная литература</td>\n",
       "      <td>51</td>\n",
       "    </tr>\n",
       "    <tr>\n",
       "      <th>52</th>\n",
       "      <td>Книги - Путеводители</td>\n",
       "      <td>52</td>\n",
       "    </tr>\n",
       "    <tr>\n",
       "      <th>53</th>\n",
       "      <td>Книги - Художественная литература</td>\n",
       "      <td>53</td>\n",
       "    </tr>\n",
       "    <tr>\n",
       "      <th>59</th>\n",
       "      <td>Музыка - Музыкальное видео</td>\n",
       "      <td>59</td>\n",
       "    </tr>\n",
       "    <tr>\n",
       "      <th>66</th>\n",
       "      <td>Подарки - Открытки, наклейки</td>\n",
       "      <td>66</td>\n",
       "    </tr>\n",
       "    <tr>\n",
       "      <th>68</th>\n",
       "      <td>Подарки - Сертификаты, услуги</td>\n",
       "      <td>68</td>\n",
       "    </tr>\n",
       "    <tr>\n",
       "      <th>80</th>\n",
       "      <td>Служебные - Билеты</td>\n",
       "      <td>80</td>\n",
       "    </tr>\n",
       "    <tr>\n",
       "      <th>81</th>\n",
       "      <td>Чистые носители (шпиль)</td>\n",
       "      <td>81</td>\n",
       "    </tr>\n",
       "    <tr>\n",
       "      <th>82</th>\n",
       "      <td>Чистые носители (штучные)</td>\n",
       "      <td>82</td>\n",
       "    </tr>\n",
       "  </tbody>\n",
       "</table>\n",
       "</div>"
      ],
      "text/plain": [
       "                   item_category_name  item_category_id\n",
       "1                    Аксессуары - PS2                 1\n",
       "4                    Аксессуары - PSP                 4\n",
       "8                      Билеты (Цифра)                 8\n",
       "10              Игровые консоли - PS2                10\n",
       "13              Игровые консоли - PSP                13\n",
       "14           Игровые консоли - PSVita                14\n",
       "17           Игровые консоли - Прочие                17\n",
       "18                         Игры - PS2                18\n",
       "32  Карты оплаты (Кино, Музыка, Игры)                32\n",
       "39                  Кино - Blu-Ray 4K                39\n",
       "46          Книги - Бизнес литература                46\n",
       "48    Книги - Компьютерная литература                48\n",
       "50                   Книги - Открытки                50\n",
       "51  Книги - Познавательная литература                51\n",
       "52               Книги - Путеводители                52\n",
       "53  Книги - Художественная литература                53\n",
       "59         Музыка - Музыкальное видео                59\n",
       "66       Подарки - Открытки, наклейки                66\n",
       "68      Подарки - Сертификаты, услуги                68\n",
       "80                 Служебные - Билеты                80\n",
       "81            Чистые носители (шпиль)                81\n",
       "82          Чистые носители (штучные)                82"
      ]
     },
     "execution_count": 48,
     "metadata": {},
     "output_type": "execute_result"
    }
   ],
   "source": [
    "#查看item_cats类别数据中的不在test里的类别信息（训练集中的常见类别）\n",
    "item_cats.loc[~item_cats['item_category_id'].isin(cats_in_test)]"
   ]
  },
  {
   "cell_type": "markdown",
   "metadata": {
    "papermill": {
     "duration": 0.027926,
     "end_time": "2020-08-23T07:28:23.796988",
     "exception": false,
     "start_time": "2020-08-23T07:28:23.769062",
     "status": "completed"
    },
    "tags": []
   },
   "source": [
    "##### 对常见的类别进行分组并提取其子类别"
   ]
  },
  {
   "cell_type": "markdown",
   "metadata": {
    "papermill": {
     "duration": 0.027909,
     "end_time": "2020-08-23T07:28:23.853133",
     "exception": false,
     "start_time": "2020-08-23T07:28:23.825224",
     "status": "completed"
    },
    "tags": []
   },
   "source": [
    "由上述列表可知，在类别中还存在主类别和子类别的组合。二者通过连字符 “-” 分隔，需要被我们提取出来。"
   ]
  },
  {
   "cell_type": "code",
   "execution_count": 49,
   "metadata": {
    "execution": {
     "iopub.execute_input": "2020-08-23T07:28:23.917749Z",
     "iopub.status.busy": "2020-08-23T07:28:23.916687Z",
     "iopub.status.idle": "2020-08-23T07:28:23.920866Z",
     "shell.execute_reply": "2020-08-23T07:28:23.921396Z"
    },
    "papermill": {
     "duration": 0.04014,
     "end_time": "2020-08-23T07:28:23.921551",
     "exception": false,
     "start_time": "2020-08-23T07:28:23.881411",
     "status": "completed"
    },
    "scrolled": true,
    "tags": []
   },
   "outputs": [
    {
     "data": {
      "text/plain": [
       "0       PC - Гарнитуры/Наушники\n",
       "1              Аксессуары - PS2\n",
       "2              Аксессуары - PS3\n",
       "3              Аксессуары - PS4\n",
       "4              Аксессуары - PSP\n",
       "                ...            \n",
       "79                    Служебные\n",
       "80           Служебные - Билеты\n",
       "81      Чистые носители (шпиль)\n",
       "82    Чистые носители (штучные)\n",
       "83             Элементы питания\n",
       "Name: item_category_name, Length: 84, dtype: object"
      ]
     },
     "execution_count": 49,
     "metadata": {},
     "output_type": "execute_result"
    }
   ],
   "source": [
    "#查看item_cats中的类别数据\n",
    "item_cats['item_category_name']"
   ]
  },
  {
   "cell_type": "code",
   "execution_count": 50,
   "metadata": {
    "execution": {
     "iopub.execute_input": "2020-08-23T07:28:23.989628Z",
     "iopub.status.busy": "2020-08-23T07:28:23.988543Z",
     "iopub.status.idle": "2020-08-23T07:28:23.991828Z",
     "shell.execute_reply": "2020-08-23T07:28:23.991210Z"
    },
    "papermill": {
     "duration": 0.041531,
     "end_time": "2020-08-23T07:28:23.991956",
     "exception": false,
     "start_time": "2020-08-23T07:28:23.950425",
     "status": "completed"
    },
    "scrolled": true,
    "tags": []
   },
   "outputs": [],
   "source": [
    "#以'-'号分隔字符\n",
    "cats_ = item_cats['item_category_name'].str.split('-')\n",
    "\n",
    "#提取主类别放入item_cats中\n",
    "item_cats['main_category'] = cats_.map(lambda row: row[0].strip())  # 提取前面的字符，用strip()用于删除非字符单位\n",
    "\n",
    "#提取子类别放入item_cats中（若无子类别，则用主类别作为子类别）\n",
    "item_cats['sub_category'] = cats_.map(lambda row: row[1].strip() if len(row) > 1 else row[0].strip())"
   ]
  },
  {
   "cell_type": "code",
   "execution_count": 51,
   "metadata": {
    "execution": {
     "iopub.execute_input": "2020-08-23T07:28:24.059198Z",
     "iopub.status.busy": "2020-08-23T07:28:24.058209Z",
     "iopub.status.idle": "2020-08-23T07:28:24.061651Z",
     "shell.execute_reply": "2020-08-23T07:28:24.060986Z"
    },
    "papermill": {
     "duration": 0.039764,
     "end_time": "2020-08-23T07:28:24.061794",
     "exception": false,
     "start_time": "2020-08-23T07:28:24.022030",
     "status": "completed"
    },
    "tags": []
   },
   "outputs": [],
   "source": [
    "#对新类进行数字编码\n",
    "label_encoder = preprocessing.LabelEncoder()\n",
    "\n",
    "item_cats['main_category_id'] = label_encoder.fit_transform(item_cats['main_category'])\n",
    "item_cats['sub_category_id'] = label_encoder.fit_transform(item_cats['sub_category'])"
   ]
  },
  {
   "cell_type": "code",
   "execution_count": 52,
   "metadata": {
    "execution": {
     "iopub.execute_input": "2020-08-23T07:28:24.131462Z",
     "iopub.status.busy": "2020-08-23T07:28:24.130418Z",
     "iopub.status.idle": "2020-08-23T07:28:24.134950Z",
     "shell.execute_reply": "2020-08-23T07:28:24.134414Z"
    },
    "papermill": {
     "duration": 0.044869,
     "end_time": "2020-08-23T07:28:24.135066",
     "exception": false,
     "start_time": "2020-08-23T07:28:24.090197",
     "status": "completed"
    },
    "tags": []
   },
   "outputs": [
    {
     "data": {
      "text/html": [
       "<div>\n",
       "<style scoped>\n",
       "    .dataframe tbody tr th:only-of-type {\n",
       "        vertical-align: middle;\n",
       "    }\n",
       "\n",
       "    .dataframe tbody tr th {\n",
       "        vertical-align: top;\n",
       "    }\n",
       "\n",
       "    .dataframe thead th {\n",
       "        text-align: right;\n",
       "    }\n",
       "</style>\n",
       "<table border=\"1\" class=\"dataframe\">\n",
       "  <thead>\n",
       "    <tr style=\"text-align: right;\">\n",
       "      <th></th>\n",
       "      <th>item_category_name</th>\n",
       "      <th>item_category_id</th>\n",
       "      <th>main_category</th>\n",
       "      <th>sub_category</th>\n",
       "      <th>main_category_id</th>\n",
       "      <th>sub_category_id</th>\n",
       "    </tr>\n",
       "  </thead>\n",
       "  <tbody>\n",
       "    <tr>\n",
       "      <th>0</th>\n",
       "      <td>PC - Гарнитуры/Наушники</td>\n",
       "      <td>0</td>\n",
       "      <td>PC</td>\n",
       "      <td>Гарнитуры/Наушники</td>\n",
       "      <td>0</td>\n",
       "      <td>29</td>\n",
       "    </tr>\n",
       "    <tr>\n",
       "      <th>1</th>\n",
       "      <td>Аксессуары - PS2</td>\n",
       "      <td>1</td>\n",
       "      <td>Аксессуары</td>\n",
       "      <td>PS2</td>\n",
       "      <td>1</td>\n",
       "      <td>9</td>\n",
       "    </tr>\n",
       "    <tr>\n",
       "      <th>2</th>\n",
       "      <td>Аксессуары - PS3</td>\n",
       "      <td>2</td>\n",
       "      <td>Аксессуары</td>\n",
       "      <td>PS3</td>\n",
       "      <td>1</td>\n",
       "      <td>10</td>\n",
       "    </tr>\n",
       "    <tr>\n",
       "      <th>3</th>\n",
       "      <td>Аксессуары - PS4</td>\n",
       "      <td>3</td>\n",
       "      <td>Аксессуары</td>\n",
       "      <td>PS4</td>\n",
       "      <td>1</td>\n",
       "      <td>11</td>\n",
       "    </tr>\n",
       "    <tr>\n",
       "      <th>4</th>\n",
       "      <td>Аксессуары - PSP</td>\n",
       "      <td>4</td>\n",
       "      <td>Аксессуары</td>\n",
       "      <td>PSP</td>\n",
       "      <td>1</td>\n",
       "      <td>13</td>\n",
       "    </tr>\n",
       "  </tbody>\n",
       "</table>\n",
       "</div>"
      ],
      "text/plain": [
       "        item_category_name  item_category_id main_category  \\\n",
       "0  PC - Гарнитуры/Наушники                 0            PC   \n",
       "1         Аксессуары - PS2                 1    Аксессуары   \n",
       "2         Аксессуары - PS3                 2    Аксессуары   \n",
       "3         Аксессуары - PS4                 3    Аксессуары   \n",
       "4         Аксессуары - PSP                 4    Аксессуары   \n",
       "\n",
       "         sub_category  main_category_id  sub_category_id  \n",
       "0  Гарнитуры/Наушники                 0               29  \n",
       "1                 PS2                 1                9  \n",
       "2                 PS3                 1               10  \n",
       "3                 PS4                 1               11  \n",
       "4                 PSP                 1               13  "
      ]
     },
     "execution_count": 52,
     "metadata": {},
     "output_type": "execute_result"
    }
   ],
   "source": [
    "item_cats.head()"
   ]
  },
  {
   "cell_type": "markdown",
   "metadata": {
    "papermill": {
     "duration": 0.028487,
     "end_time": "2020-08-23T07:28:24.192714",
     "exception": false,
     "start_time": "2020-08-23T07:28:24.164227",
     "status": "completed"
    },
    "tags": []
   },
   "source": [
    "现在，我们需要对训练集中出现的每个商店和商品生成其对应的销售数据。\n",
    "\n",
    "由于最终的预测是针对某一特定商店和产品的月度销售数目，因此我们应该以月为单位来做这件事。"
   ]
  },
  {
   "cell_type": "markdown",
   "metadata": {
    "papermill": {
     "duration": 0.028467,
     "end_time": "2020-08-23T07:28:24.249863",
     "exception": false,
     "start_time": "2020-08-23T07:28:24.221396",
     "status": "completed"
    },
    "tags": []
   },
   "source": [
    "##### 在训练数据中的每月生成 Shop-Item-data 元组对"
   ]
  },
  {
   "cell_type": "code",
   "execution_count": 53,
   "metadata": {
    "execution": {
     "iopub.execute_input": "2020-08-23T07:28:24.458454Z",
     "iopub.status.busy": "2020-08-23T07:28:24.457695Z",
     "iopub.status.idle": "2020-08-23T07:28:24.754861Z",
     "shell.execute_reply": "2020-08-23T07:28:24.754265Z"
    },
    "papermill": {
     "duration": 0.475485,
     "end_time": "2020-08-23T07:28:24.754981",
     "exception": false,
     "start_time": "2020-08-23T07:28:24.279496",
     "status": "completed"
    },
    "tags": []
   },
   "outputs": [],
   "source": [
    "#转换销售数据中的时间比哪里，获取指定形式的时间和日期：'日/月/年'\n",
    "sales_train['date'] = pd.to_datetime(sales_train['date'], format='%d.%m.%Y')  "
   ]
  },
  {
   "cell_type": "code",
   "execution_count": 54,
   "metadata": {
    "execution": {
     "iopub.execute_input": "2020-08-23T07:28:24.820610Z",
     "iopub.status.busy": "2020-08-23T07:28:24.819934Z",
     "iopub.status.idle": "2020-08-23T07:28:24.894717Z",
     "shell.execute_reply": "2020-08-23T07:28:24.894005Z"
    },
    "papermill": {
     "duration": 0.111389,
     "end_time": "2020-08-23T07:28:24.894857",
     "exception": false,
     "start_time": "2020-08-23T07:28:24.783468",
     "status": "completed"
    },
    "tags": []
   },
   "outputs": [],
   "source": [
    "#创建一个迭代器，生成表示item1，item2等中元素的笛卡尔积的元组\n",
    "#表示从2013年1月开始生产的笛卡尔产品\n",
    "from itertools import product \n",
    "shops_in_jan = sales_train.loc[sales_train['date_block_num']==0, 'shop_id'].unique()  # 取出0月份开始的商店ID数\n",
    "items_in_jan = sales_train.loc[sales_train['date_block_num']==0, 'item_id'].unique()  # 取出0月份开始的商品ID数\n",
    "jan = list(product(*[shops_in_jan, items_in_jan, [0]]))    # 生成商店ID数与商品ID数的笛卡尔积的元组,然后转成列表"
   ]
  },
  {
   "cell_type": "code",
   "execution_count": 55,
   "metadata": {
    "execution": {
     "iopub.execute_input": "2020-08-23T07:28:24.957552Z",
     "iopub.status.busy": "2020-08-23T07:28:24.956698Z",
     "iopub.status.idle": "2020-08-23T07:28:24.960064Z",
     "shell.execute_reply": "2020-08-23T07:28:24.960568Z"
    },
    "papermill": {
     "duration": 0.03735,
     "end_time": "2020-08-23T07:28:24.960714",
     "exception": false,
     "start_time": "2020-08-23T07:28:24.923364",
     "status": "completed"
    },
    "tags": []
   },
   "outputs": [
    {
     "name": "stdout",
     "output_type": "stream",
     "text": [
      "[(59, 22154, 0), (59, 2552, 0), (59, 2554, 0), (59, 2555, 0), (59, 2564, 0)]\n"
     ]
    }
   ],
   "source": [
    "#查看笛卡尔元组的前五个结果，元祖内从左到右位置分别表示：（商店ID，商品ID，当前月份数）\n",
    "print(jan[:5])"
   ]
  },
  {
   "cell_type": "code",
   "execution_count": 56,
   "metadata": {
    "execution": {
     "iopub.execute_input": "2020-08-23T07:28:25.025018Z",
     "iopub.status.busy": "2020-08-23T07:28:25.024070Z",
     "iopub.status.idle": "2020-08-23T07:28:25.027306Z",
     "shell.execute_reply": "2020-08-23T07:28:25.027803Z"
    },
    "papermill": {
     "duration": 0.038317,
     "end_time": "2020-08-23T07:28:25.027952",
     "exception": false,
     "start_time": "2020-08-23T07:28:24.989635",
     "status": "completed"
    },
    "tags": []
   },
   "outputs": [
    {
     "name": "stdout",
     "output_type": "stream",
     "text": [
      "365175\n"
     ]
    }
   ],
   "source": [
    "#笛卡尔元组的总个数（表示0月份）\n",
    "print(len(jan))"
   ]
  },
  {
   "cell_type": "markdown",
   "metadata": {
    "papermill": {
     "duration": 0.028264,
     "end_time": "2020-08-23T07:28:25.085315",
     "exception": false,
     "start_time": "2020-08-23T07:28:25.057051",
     "status": "completed"
    },
    "tags": []
   },
   "source": [
    "我们可以看到，2013年1月有365175个商店和物品的元组。\n",
    "\n",
    "进而我们需要生成训练集中所有33个月的笛卡尔乘积。现在可以生成2013年2月的笛卡尔乘积，并将其与2013年1月连接，就生成一个dataframe了。"
   ]
  },
  {
   "cell_type": "code",
   "execution_count": 57,
   "metadata": {
    "execution": {
     "iopub.execute_input": "2020-08-23T07:28:25.150323Z",
     "iopub.status.busy": "2020-08-23T07:28:25.149600Z",
     "iopub.status.idle": "2020-08-23T07:28:25.247526Z",
     "shell.execute_reply": "2020-08-23T07:28:25.246814Z"
    },
    "papermill": {
     "duration": 0.133875,
     "end_time": "2020-08-23T07:28:25.247654",
     "exception": false,
     "start_time": "2020-08-23T07:28:25.113779",
     "status": "completed"
    },
    "tags": []
   },
   "outputs": [],
   "source": [
    "#2013年2月（第二个月）生产的笛卡尔产品\n",
    "shops_in_feb = sales_train.loc[sales_train['date_block_num']==1, 'shop_id'].unique()\n",
    "items_in_feb = sales_train.loc[sales_train['date_block_num']==1, 'item_id'].unique()\n",
    "feb = list(product(*[shops_in_feb, items_in_feb, [1]]))"
   ]
  },
  {
   "cell_type": "code",
   "execution_count": 58,
   "metadata": {
    "execution": {
     "iopub.execute_input": "2020-08-23T07:28:25.310793Z",
     "iopub.status.busy": "2020-08-23T07:28:25.310078Z",
     "iopub.status.idle": "2020-08-23T07:28:25.314758Z",
     "shell.execute_reply": "2020-08-23T07:28:25.314137Z"
    },
    "papermill": {
     "duration": 0.03788,
     "end_time": "2020-08-23T07:28:25.314873",
     "exception": false,
     "start_time": "2020-08-23T07:28:25.276993",
     "status": "completed"
    },
    "tags": []
   },
   "outputs": [
    {
     "name": "stdout",
     "output_type": "stream",
     "text": [
      "[(50, 3880, 1), (50, 4128, 1), (50, 4124, 1), (50, 3879, 1), (50, 3885, 1)]\n"
     ]
    }
   ],
   "source": [
    "#第二个月的笛卡尔元组\n",
    "print(feb[:5])"
   ]
  },
  {
   "cell_type": "code",
   "execution_count": 59,
   "metadata": {
    "execution": {
     "iopub.execute_input": "2020-08-23T07:28:25.377213Z",
     "iopub.status.busy": "2020-08-23T07:28:25.376501Z",
     "iopub.status.idle": "2020-08-23T07:28:25.380404Z",
     "shell.execute_reply": "2020-08-23T07:28:25.379752Z"
    },
    "papermill": {
     "duration": 0.037087,
     "end_time": "2020-08-23T07:28:25.380527",
     "exception": false,
     "start_time": "2020-08-23T07:28:25.343440",
     "status": "completed"
    },
    "tags": []
   },
   "outputs": [
    {
     "name": "stdout",
     "output_type": "stream",
     "text": [
      "375728\n"
     ]
    }
   ],
   "source": [
    "#第二个月的笛卡尔元组个数\n",
    "print(len(feb))"
   ]
  },
  {
   "cell_type": "code",
   "execution_count": 60,
   "metadata": {
    "execution": {
     "iopub.execute_input": "2020-08-23T07:28:25.782866Z",
     "iopub.status.busy": "2020-08-23T07:28:25.616484Z",
     "iopub.status.idle": "2020-08-23T07:28:25.798277Z",
     "shell.execute_reply": "2020-08-23T07:28:25.797578Z"
    },
    "papermill": {
     "duration": 0.388419,
     "end_time": "2020-08-23T07:28:25.798404",
     "exception": false,
     "start_time": "2020-08-23T07:28:25.409985",
     "status": "completed"
    },
    "tags": []
   },
   "outputs": [
    {
     "data": {
      "text/html": [
       "<div>\n",
       "<style scoped>\n",
       "    .dataframe tbody tr th:only-of-type {\n",
       "        vertical-align: middle;\n",
       "    }\n",
       "\n",
       "    .dataframe tbody tr th {\n",
       "        vertical-align: top;\n",
       "    }\n",
       "\n",
       "    .dataframe thead th {\n",
       "        text-align: right;\n",
       "    }\n",
       "</style>\n",
       "<table border=\"1\" class=\"dataframe\">\n",
       "  <thead>\n",
       "    <tr style=\"text-align: right;\">\n",
       "      <th></th>\n",
       "      <th>shop_id</th>\n",
       "      <th>item_id</th>\n",
       "      <th>date_block_num</th>\n",
       "    </tr>\n",
       "  </thead>\n",
       "  <tbody>\n",
       "    <tr>\n",
       "      <th>0</th>\n",
       "      <td>59</td>\n",
       "      <td>22154</td>\n",
       "      <td>0</td>\n",
       "    </tr>\n",
       "    <tr>\n",
       "      <th>1</th>\n",
       "      <td>59</td>\n",
       "      <td>2552</td>\n",
       "      <td>0</td>\n",
       "    </tr>\n",
       "    <tr>\n",
       "      <th>2</th>\n",
       "      <td>59</td>\n",
       "      <td>2554</td>\n",
       "      <td>0</td>\n",
       "    </tr>\n",
       "    <tr>\n",
       "      <th>3</th>\n",
       "      <td>59</td>\n",
       "      <td>2555</td>\n",
       "      <td>0</td>\n",
       "    </tr>\n",
       "    <tr>\n",
       "      <th>4</th>\n",
       "      <td>59</td>\n",
       "      <td>2564</td>\n",
       "      <td>0</td>\n",
       "    </tr>\n",
       "    <tr>\n",
       "      <th>740898</th>\n",
       "      <td>28</td>\n",
       "      <td>12402</td>\n",
       "      <td>1</td>\n",
       "    </tr>\n",
       "    <tr>\n",
       "      <th>740899</th>\n",
       "      <td>28</td>\n",
       "      <td>12870</td>\n",
       "      <td>1</td>\n",
       "    </tr>\n",
       "    <tr>\n",
       "      <th>740900</th>\n",
       "      <td>28</td>\n",
       "      <td>12885</td>\n",
       "      <td>1</td>\n",
       "    </tr>\n",
       "    <tr>\n",
       "      <th>740901</th>\n",
       "      <td>28</td>\n",
       "      <td>12791</td>\n",
       "      <td>1</td>\n",
       "    </tr>\n",
       "    <tr>\n",
       "      <th>740902</th>\n",
       "      <td>28</td>\n",
       "      <td>13433</td>\n",
       "      <td>1</td>\n",
       "    </tr>\n",
       "  </tbody>\n",
       "</table>\n",
       "</div>"
      ],
      "text/plain": [
       "        shop_id  item_id  date_block_num\n",
       "0            59    22154               0\n",
       "1            59     2552               0\n",
       "2            59     2554               0\n",
       "3            59     2555               0\n",
       "4            59     2564               0\n",
       "740898       28    12402               1\n",
       "740899       28    12870               1\n",
       "740900       28    12885               1\n",
       "740901       28    12791               1\n",
       "740902       28    13433               1"
      ]
     },
     "execution_count": 60,
     "metadata": {},
     "output_type": "execute_result"
    }
   ],
   "source": [
    "#使用numpy的'vstack'数组堆叠方法将前两个月的笛卡尔元组数据合并，并创造一个dataframe格式便于显示。\n",
    "cartesian_jf = np.vstack((jan, feb))    # vstack（垂直方向）将数组堆叠。\n",
    "cartesian_jf_df = pd.DataFrame(cartesian_jf, columns=['shop_id', 'item_id', 'date_block_num'])   # 创建dataframe并给不同列命名\n",
    "cartesian_jf_df.head().append(cartesian_jf_df.tail())"
   ]
  },
  {
   "cell_type": "code",
   "execution_count": 61,
   "metadata": {
    "execution": {
     "iopub.execute_input": "2020-08-23T07:28:25.865731Z",
     "iopub.status.busy": "2020-08-23T07:28:25.864965Z",
     "iopub.status.idle": "2020-08-23T07:28:34.278333Z",
     "shell.execute_reply": "2020-08-23T07:28:34.277562Z"
    },
    "papermill": {
     "duration": 8.450775,
     "end_time": "2020-08-23T07:28:34.278473",
     "exception": false,
     "start_time": "2020-08-23T07:28:25.827698",
     "status": "completed"
    },
    "tags": []
   },
   "outputs": [],
   "source": [
    "#将所有33个月份进行相同的数据合并与df创建\n",
    "months = sales_train['date_block_num'].unique()\n",
    "cartesian = []\n",
    "for month in months:\n",
    "    shops_in_month = sales_train.loc[sales_train['date_block_num']==month, 'shop_id'].unique()\n",
    "    items_in_month = sales_train.loc[sales_train['date_block_num']==month, 'item_id'].unique()\n",
    "    cartesian.append(np.array(list(product(*[shops_in_month, items_in_month, [month]])), dtype='int32'))\n",
    "    \n",
    "cartesian_df = pd.DataFrame(np.vstack(cartesian), columns = ['shop_id', 'item_id', 'date_block_num'], dtype=np.int32)"
   ]
  },
  {
   "cell_type": "code",
   "execution_count": 62,
   "metadata": {
    "execution": {
     "iopub.execute_input": "2020-08-23T07:28:34.342399Z",
     "iopub.status.busy": "2020-08-23T07:28:34.341543Z",
     "iopub.status.idle": "2020-08-23T07:28:34.345646Z",
     "shell.execute_reply": "2020-08-23T07:28:34.345095Z"
    },
    "papermill": {
     "duration": 0.037823,
     "end_time": "2020-08-23T07:28:34.345762",
     "exception": false,
     "start_time": "2020-08-23T07:28:34.307939",
     "status": "completed"
    },
    "tags": []
   },
   "outputs": [
    {
     "data": {
      "text/plain": [
       "(10913804, 3)"
      ]
     },
     "execution_count": 62,
     "metadata": {},
     "output_type": "execute_result"
    }
   ],
   "source": [
    "#所有月份整合后的数据形状\n",
    "cartesian_df.shape"
   ]
  },
  {
   "cell_type": "code",
   "execution_count": 63,
   "metadata": {
    "execution": {
     "iopub.execute_input": "2020-08-23T07:28:34.414419Z",
     "iopub.status.busy": "2020-08-23T07:28:34.413259Z",
     "iopub.status.idle": "2020-08-23T07:28:34.417460Z",
     "shell.execute_reply": "2020-08-23T07:28:34.416943Z"
    },
    "papermill": {
     "duration": 0.042556,
     "end_time": "2020-08-23T07:28:34.417579",
     "exception": false,
     "start_time": "2020-08-23T07:28:34.375023",
     "status": "completed"
    },
    "tags": []
   },
   "outputs": [
    {
     "data": {
      "text/html": [
       "<div>\n",
       "<style scoped>\n",
       "    .dataframe tbody tr th:only-of-type {\n",
       "        vertical-align: middle;\n",
       "    }\n",
       "\n",
       "    .dataframe tbody tr th {\n",
       "        vertical-align: top;\n",
       "    }\n",
       "\n",
       "    .dataframe thead th {\n",
       "        text-align: right;\n",
       "    }\n",
       "</style>\n",
       "<table border=\"1\" class=\"dataframe\">\n",
       "  <thead>\n",
       "    <tr style=\"text-align: right;\">\n",
       "      <th></th>\n",
       "      <th>shop_id</th>\n",
       "      <th>item_id</th>\n",
       "      <th>date_block_num</th>\n",
       "    </tr>\n",
       "  </thead>\n",
       "  <tbody>\n",
       "    <tr>\n",
       "      <th>0</th>\n",
       "      <td>59</td>\n",
       "      <td>22154</td>\n",
       "      <td>0</td>\n",
       "    </tr>\n",
       "    <tr>\n",
       "      <th>1</th>\n",
       "      <td>59</td>\n",
       "      <td>2552</td>\n",
       "      <td>0</td>\n",
       "    </tr>\n",
       "    <tr>\n",
       "      <th>2</th>\n",
       "      <td>59</td>\n",
       "      <td>2554</td>\n",
       "      <td>0</td>\n",
       "    </tr>\n",
       "    <tr>\n",
       "      <th>3</th>\n",
       "      <td>59</td>\n",
       "      <td>2555</td>\n",
       "      <td>0</td>\n",
       "    </tr>\n",
       "    <tr>\n",
       "      <th>4</th>\n",
       "      <td>59</td>\n",
       "      <td>2564</td>\n",
       "      <td>0</td>\n",
       "    </tr>\n",
       "  </tbody>\n",
       "</table>\n",
       "</div>"
      ],
      "text/plain": [
       "   shop_id  item_id  date_block_num\n",
       "0       59    22154               0\n",
       "1       59     2552               0\n",
       "2       59     2554               0\n",
       "3       59     2555               0\n",
       "4       59     2564               0"
      ]
     },
     "execution_count": 63,
     "metadata": {},
     "output_type": "execute_result"
    }
   ],
   "source": [
    "cartesian_df.head()"
   ]
  },
  {
   "cell_type": "markdown",
   "metadata": {
    "papermill": {
     "duration": 0.028737,
     "end_time": "2020-08-23T07:28:34.477402",
     "exception": false,
     "start_time": "2020-08-23T07:28:34.448665",
     "status": "completed"
    },
    "tags": []
   },
   "source": [
    "##### 汇总每月的销售数据，调整目标变量"
   ]
  },
  {
   "cell_type": "code",
   "execution_count": 64,
   "metadata": {
    "execution": {
     "iopub.execute_input": "2020-08-23T07:28:34.542380Z",
     "iopub.status.busy": "2020-08-23T07:28:34.541720Z",
     "iopub.status.idle": "2020-08-23T07:28:35.507995Z",
     "shell.execute_reply": "2020-08-23T07:28:35.507479Z"
    },
    "papermill": {
     "duration": 1.001463,
     "end_time": "2020-08-23T07:28:35.508140",
     "exception": false,
     "start_time": "2020-08-23T07:28:34.506677",
     "status": "completed"
    },
    "tags": []
   },
   "outputs": [
    {
     "data": {
      "text/html": [
       "<div>\n",
       "<style scoped>\n",
       "    .dataframe tbody tr th:only-of-type {\n",
       "        vertical-align: middle;\n",
       "    }\n",
       "\n",
       "    .dataframe tbody tr th {\n",
       "        vertical-align: top;\n",
       "    }\n",
       "\n",
       "    .dataframe thead th {\n",
       "        text-align: right;\n",
       "    }\n",
       "</style>\n",
       "<table border=\"1\" class=\"dataframe\">\n",
       "  <thead>\n",
       "    <tr style=\"text-align: right;\">\n",
       "      <th></th>\n",
       "      <th>shop_id</th>\n",
       "      <th>item_id</th>\n",
       "      <th>date_block_num</th>\n",
       "      <th>item_cnt_month</th>\n",
       "    </tr>\n",
       "  </thead>\n",
       "  <tbody>\n",
       "    <tr>\n",
       "      <th>0</th>\n",
       "      <td>2</td>\n",
       "      <td>27</td>\n",
       "      <td>0</td>\n",
       "      <td>1.0</td>\n",
       "    </tr>\n",
       "    <tr>\n",
       "      <th>1</th>\n",
       "      <td>2</td>\n",
       "      <td>27</td>\n",
       "      <td>17</td>\n",
       "      <td>1.0</td>\n",
       "    </tr>\n",
       "    <tr>\n",
       "      <th>2</th>\n",
       "      <td>2</td>\n",
       "      <td>30</td>\n",
       "      <td>2</td>\n",
       "      <td>1.0</td>\n",
       "    </tr>\n",
       "    <tr>\n",
       "      <th>3</th>\n",
       "      <td>2</td>\n",
       "      <td>30</td>\n",
       "      <td>5</td>\n",
       "      <td>1.0</td>\n",
       "    </tr>\n",
       "    <tr>\n",
       "      <th>4</th>\n",
       "      <td>2</td>\n",
       "      <td>30</td>\n",
       "      <td>15</td>\n",
       "      <td>1.0</td>\n",
       "    </tr>\n",
       "  </tbody>\n",
       "</table>\n",
       "</div>"
      ],
      "text/plain": [
       "   shop_id  item_id  date_block_num  item_cnt_month\n",
       "0        2       27               0             1.0\n",
       "1        2       27              17             1.0\n",
       "2        2       30               2             1.0\n",
       "3        2       30               5             1.0\n",
       "4        2       30              15             1.0"
      ]
     },
     "execution_count": 64,
     "metadata": {},
     "output_type": "execute_result"
    }
   ],
   "source": [
    "#对数据集依次使用shop_id,'item_id' 和 'date_block_num' 的序列对象进行分组，然后提取出月销售量'item_cnt_day'的总和\n",
    "#即可以获得特定商店的特定商品的月销售总量\n",
    "x = sales_train.groupby(['shop_id', 'item_id', 'date_block_num'])['item_cnt_day'].sum().rename('item_cnt_month').reset_index()\n",
    "x.head()"
   ]
  },
  {
   "cell_type": "code",
   "execution_count": 65,
   "metadata": {
    "execution": {
     "iopub.execute_input": "2020-08-23T07:28:35.572652Z",
     "iopub.status.busy": "2020-08-23T07:28:35.571656Z",
     "iopub.status.idle": "2020-08-23T07:28:35.575411Z",
     "shell.execute_reply": "2020-08-23T07:28:35.575858Z"
    },
    "papermill": {
     "duration": 0.038312,
     "end_time": "2020-08-23T07:28:35.576012",
     "exception": false,
     "start_time": "2020-08-23T07:28:35.537700",
     "status": "completed"
    },
    "tags": []
   },
   "outputs": [
    {
     "data": {
      "text/plain": [
       "(1609122, 4)"
      ]
     },
     "execution_count": 65,
     "metadata": {},
     "output_type": "execute_result"
    }
   ],
   "source": [
    "x.shape"
   ]
  },
  {
   "cell_type": "markdown",
   "metadata": {
    "papermill": {
     "duration": 0.029166,
     "end_time": "2020-08-23T07:28:35.635282",
     "exception": false,
     "start_time": "2020-08-23T07:28:35.606116",
     "status": "completed"
    },
    "tags": []
   },
   "source": [
    "现在我们需要合并这两个df数据，以发现哪些商店的哪些商品是有销售的：\n",
    "* 对于笛卡尔元组，我们将简单地放入存在于x中的值。\n",
    "* 对于其余的行，我们将下标为0表示没有销售。\n",
    "\n",
    "--  需要注意记住，要合并的列是shop_id、item_id和date_block_num的交集"
   ]
  },
  {
   "cell_type": "code",
   "execution_count": 66,
   "metadata": {
    "execution": {
     "iopub.execute_input": "2020-08-23T07:28:35.700538Z",
     "iopub.status.busy": "2020-08-23T07:28:35.699866Z",
     "iopub.status.idle": "2020-08-23T07:28:41.705927Z",
     "shell.execute_reply": "2020-08-23T07:28:41.705321Z"
    },
    "papermill": {
     "duration": 6.041164,
     "end_time": "2020-08-23T07:28:41.706051",
     "exception": false,
     "start_time": "2020-08-23T07:28:35.664887",
     "status": "completed"
    },
    "tags": []
   },
   "outputs": [],
   "source": [
    "#pd.merge()方法进行合并连接，left表示只保留左边的主键，只在右边主键中存在的行就不取了\n",
    "new_train = pd.merge(cartesian_df, x, on=['shop_id', 'item_id', 'date_block_num'], how='left').fillna(0) "
   ]
  },
  {
   "cell_type": "code",
   "execution_count": 67,
   "metadata": {
    "execution": {
     "iopub.execute_input": "2020-08-23T07:28:41.770494Z",
     "iopub.status.busy": "2020-08-23T07:28:41.769829Z",
     "iopub.status.idle": "2020-08-23T07:28:41.916873Z",
     "shell.execute_reply": "2020-08-23T07:28:41.915986Z"
    },
    "papermill": {
     "duration": 0.181528,
     "end_time": "2020-08-23T07:28:41.917043",
     "exception": false,
     "start_time": "2020-08-23T07:28:41.735515",
     "status": "completed"
    },
    "tags": []
   },
   "outputs": [],
   "source": [
    "#使用numpy.clip将月销售量item_cnt_month缩放到[0,20]之内，这是项目说明中提到的\n",
    "new_train['item_cnt_month'] = np.clip(new_train['item_cnt_month'], 0, 20)"
   ]
  },
  {
   "cell_type": "code",
   "execution_count": 68,
   "metadata": {
    "execution": {
     "iopub.execute_input": "2020-08-23T07:28:41.990549Z",
     "iopub.status.busy": "2020-08-23T07:28:41.987456Z",
     "iopub.status.idle": "2020-08-23T07:28:41.994974Z",
     "shell.execute_reply": "2020-08-23T07:28:41.994446Z"
    },
    "papermill": {
     "duration": 0.04389,
     "end_time": "2020-08-23T07:28:41.995089",
     "exception": false,
     "start_time": "2020-08-23T07:28:41.951199",
     "status": "completed"
    },
    "tags": []
   },
   "outputs": [
    {
     "data": {
      "text/html": [
       "<div>\n",
       "<style scoped>\n",
       "    .dataframe tbody tr th:only-of-type {\n",
       "        vertical-align: middle;\n",
       "    }\n",
       "\n",
       "    .dataframe tbody tr th {\n",
       "        vertical-align: top;\n",
       "    }\n",
       "\n",
       "    .dataframe thead th {\n",
       "        text-align: right;\n",
       "    }\n",
       "</style>\n",
       "<table border=\"1\" class=\"dataframe\">\n",
       "  <thead>\n",
       "    <tr style=\"text-align: right;\">\n",
       "      <th></th>\n",
       "      <th>shop_id</th>\n",
       "      <th>item_id</th>\n",
       "      <th>date_block_num</th>\n",
       "      <th>item_cnt_month</th>\n",
       "    </tr>\n",
       "  </thead>\n",
       "  <tbody>\n",
       "    <tr>\n",
       "      <th>0</th>\n",
       "      <td>59</td>\n",
       "      <td>22154</td>\n",
       "      <td>0</td>\n",
       "      <td>1.0</td>\n",
       "    </tr>\n",
       "    <tr>\n",
       "      <th>1</th>\n",
       "      <td>59</td>\n",
       "      <td>2552</td>\n",
       "      <td>0</td>\n",
       "      <td>0.0</td>\n",
       "    </tr>\n",
       "    <tr>\n",
       "      <th>2</th>\n",
       "      <td>59</td>\n",
       "      <td>2554</td>\n",
       "      <td>0</td>\n",
       "      <td>0.0</td>\n",
       "    </tr>\n",
       "    <tr>\n",
       "      <th>3</th>\n",
       "      <td>59</td>\n",
       "      <td>2555</td>\n",
       "      <td>0</td>\n",
       "      <td>0.0</td>\n",
       "    </tr>\n",
       "    <tr>\n",
       "      <th>4</th>\n",
       "      <td>59</td>\n",
       "      <td>2564</td>\n",
       "      <td>0</td>\n",
       "      <td>0.0</td>\n",
       "    </tr>\n",
       "  </tbody>\n",
       "</table>\n",
       "</div>"
      ],
      "text/plain": [
       "   shop_id  item_id  date_block_num  item_cnt_month\n",
       "0       59    22154               0             1.0\n",
       "1       59     2552               0             0.0\n",
       "2       59     2554               0             0.0\n",
       "3       59     2555               0             0.0\n",
       "4       59     2564               0             0.0"
      ]
     },
     "execution_count": 68,
     "metadata": {},
     "output_type": "execute_result"
    }
   ],
   "source": [
    "new_train.head()"
   ]
  },
  {
   "cell_type": "code",
   "execution_count": 69,
   "metadata": {
    "execution": {
     "iopub.execute_input": "2020-08-23T07:28:42.060965Z",
     "iopub.status.busy": "2020-08-23T07:28:42.060304Z",
     "iopub.status.idle": "2020-08-23T07:28:46.814890Z",
     "shell.execute_reply": "2020-08-23T07:28:46.814229Z"
    },
    "papermill": {
     "duration": 4.789492,
     "end_time": "2020-08-23T07:28:46.815014",
     "exception": false,
     "start_time": "2020-08-23T07:28:42.025522",
     "status": "completed"
    },
    "tags": []
   },
   "outputs": [
    {
     "data": {
      "text/html": [
       "<div>\n",
       "<style scoped>\n",
       "    .dataframe tbody tr th:only-of-type {\n",
       "        vertical-align: middle;\n",
       "    }\n",
       "\n",
       "    .dataframe tbody tr th {\n",
       "        vertical-align: top;\n",
       "    }\n",
       "\n",
       "    .dataframe thead th {\n",
       "        text-align: right;\n",
       "    }\n",
       "</style>\n",
       "<table border=\"1\" class=\"dataframe\">\n",
       "  <thead>\n",
       "    <tr style=\"text-align: right;\">\n",
       "      <th></th>\n",
       "      <th>shop_id</th>\n",
       "      <th>item_id</th>\n",
       "      <th>date_block_num</th>\n",
       "      <th>item_cnt_month</th>\n",
       "    </tr>\n",
       "  </thead>\n",
       "  <tbody>\n",
       "    <tr>\n",
       "      <th>114910</th>\n",
       "      <td>2</td>\n",
       "      <td>19</td>\n",
       "      <td>0</td>\n",
       "      <td>0.0</td>\n",
       "    </tr>\n",
       "    <tr>\n",
       "      <th>117150</th>\n",
       "      <td>2</td>\n",
       "      <td>27</td>\n",
       "      <td>0</td>\n",
       "      <td>1.0</td>\n",
       "    </tr>\n",
       "    <tr>\n",
       "      <th>120623</th>\n",
       "      <td>2</td>\n",
       "      <td>28</td>\n",
       "      <td>0</td>\n",
       "      <td>0.0</td>\n",
       "    </tr>\n",
       "    <tr>\n",
       "      <th>118316</th>\n",
       "      <td>2</td>\n",
       "      <td>29</td>\n",
       "      <td>0</td>\n",
       "      <td>0.0</td>\n",
       "    </tr>\n",
       "    <tr>\n",
       "      <th>114602</th>\n",
       "      <td>2</td>\n",
       "      <td>32</td>\n",
       "      <td>0</td>\n",
       "      <td>0.0</td>\n",
       "    </tr>\n",
       "  </tbody>\n",
       "</table>\n",
       "</div>"
      ],
      "text/plain": [
       "        shop_id  item_id  date_block_num  item_cnt_month\n",
       "114910        2       19               0             0.0\n",
       "117150        2       27               0             1.0\n",
       "120623        2       28               0             0.0\n",
       "118316        2       29               0             0.0\n",
       "114602        2       32               0             0.0"
      ]
     },
     "execution_count": 69,
     "metadata": {},
     "output_type": "execute_result"
    }
   ],
   "source": [
    "#使用sort_values对new_train依次按是按'date_block_num','shop_id','item_id元素内部排序的先后顺序来重新排列\n",
    "new_train.sort_values(['date_block_num','shop_id','item_id'], inplace = True)  \n",
    "new_train.head()"
   ]
  },
  {
   "cell_type": "code",
   "execution_count": 70,
   "metadata": {
    "execution": {
     "iopub.execute_input": "2020-08-23T07:28:46.912703Z",
     "iopub.status.busy": "2020-08-23T07:28:46.908546Z",
     "iopub.status.idle": "2020-08-23T07:28:46.915900Z",
     "shell.execute_reply": "2020-08-23T07:28:46.915390Z"
    },
    "papermill": {
     "duration": 0.070236,
     "end_time": "2020-08-23T07:28:46.916028",
     "exception": false,
     "start_time": "2020-08-23T07:28:46.845792",
     "status": "completed"
    },
    "tags": []
   },
   "outputs": [],
   "source": [
    "#删除系统中不需要的列表，释放内存\n",
    "del x\n",
    "del cartesian_df\n",
    "del cartesian\n",
    "del cartesian_jf\n",
    "del cartesian_jf_df\n",
    "del feb\n",
    "del jan\n",
    "del items_test_set\n",
    "del items_train_set\n",
    "del sales_train"
   ]
  },
  {
   "cell_type": "code",
   "execution_count": 71,
   "metadata": {
    "execution": {
     "iopub.execute_input": "2020-08-23T07:28:46.982721Z",
     "iopub.status.busy": "2020-08-23T07:28:46.981991Z",
     "iopub.status.idle": "2020-08-23T07:28:46.993132Z",
     "shell.execute_reply": "2020-08-23T07:28:46.992510Z"
    },
    "papermill": {
     "duration": 0.046448,
     "end_time": "2020-08-23T07:28:46.993273",
     "exception": false,
     "start_time": "2020-08-23T07:28:46.946825",
     "status": "completed"
    },
    "tags": []
   },
   "outputs": [
    {
     "data": {
      "text/html": [
       "<div>\n",
       "<style scoped>\n",
       "    .dataframe tbody tr th:only-of-type {\n",
       "        vertical-align: middle;\n",
       "    }\n",
       "\n",
       "    .dataframe tbody tr th {\n",
       "        vertical-align: top;\n",
       "    }\n",
       "\n",
       "    .dataframe thead th {\n",
       "        text-align: right;\n",
       "    }\n",
       "</style>\n",
       "<table border=\"1\" class=\"dataframe\">\n",
       "  <thead>\n",
       "    <tr style=\"text-align: right;\">\n",
       "      <th></th>\n",
       "      <th>ID</th>\n",
       "      <th>shop_id</th>\n",
       "      <th>item_id</th>\n",
       "      <th>date_block_num</th>\n",
       "      <th>item_cnt_month</th>\n",
       "    </tr>\n",
       "  </thead>\n",
       "  <tbody>\n",
       "    <tr>\n",
       "      <th>0</th>\n",
       "      <td>0</td>\n",
       "      <td>5</td>\n",
       "      <td>5037</td>\n",
       "      <td>34</td>\n",
       "      <td>0</td>\n",
       "    </tr>\n",
       "    <tr>\n",
       "      <th>1</th>\n",
       "      <td>1</td>\n",
       "      <td>5</td>\n",
       "      <td>5320</td>\n",
       "      <td>34</td>\n",
       "      <td>0</td>\n",
       "    </tr>\n",
       "    <tr>\n",
       "      <th>2</th>\n",
       "      <td>2</td>\n",
       "      <td>5</td>\n",
       "      <td>5233</td>\n",
       "      <td>34</td>\n",
       "      <td>0</td>\n",
       "    </tr>\n",
       "    <tr>\n",
       "      <th>3</th>\n",
       "      <td>3</td>\n",
       "      <td>5</td>\n",
       "      <td>5232</td>\n",
       "      <td>34</td>\n",
       "      <td>0</td>\n",
       "    </tr>\n",
       "    <tr>\n",
       "      <th>4</th>\n",
       "      <td>4</td>\n",
       "      <td>5</td>\n",
       "      <td>5268</td>\n",
       "      <td>34</td>\n",
       "      <td>0</td>\n",
       "    </tr>\n",
       "  </tbody>\n",
       "</table>\n",
       "</div>"
      ],
      "text/plain": [
       "   ID  shop_id  item_id  date_block_num  item_cnt_month\n",
       "0   0        5     5037              34               0\n",
       "1   1        5     5320              34               0\n",
       "2   2        5     5233              34               0\n",
       "3   3        5     5232              34               0\n",
       "4   4        5     5268              34               0"
      ]
     },
     "execution_count": 71,
     "metadata": {},
     "output_type": "execute_result"
    }
   ],
   "source": [
    "#现在我们为测试集插入date_block_num的属性（第34个月）和销售量'item_cnt_month'属性（暂定为0）。\n",
    "#使用pandas的insert方法将此新列放置在特定索引处。这便于之后将测试集于训练集的相互连接\n",
    "test.insert(loc=3, column='date_block_num', value=34)        # 在测试集第三列插入月份数，赋值为34\n",
    "test['item_cnt_month'] = 0  # 在测试集插入新列'item_cnt_month'，赋值为0\n",
    "test.head()"
   ]
  },
  {
   "cell_type": "code",
   "execution_count": 72,
   "metadata": {
    "execution": {
     "iopub.execute_input": "2020-08-23T07:28:47.060183Z",
     "iopub.status.busy": "2020-08-23T07:28:47.059520Z",
     "iopub.status.idle": "2020-08-23T07:28:47.221096Z",
     "shell.execute_reply": "2020-08-23T07:28:47.220597Z"
    },
    "papermill": {
     "duration": 0.197398,
     "end_time": "2020-08-23T07:28:47.221239",
     "exception": false,
     "start_time": "2020-08-23T07:28:47.023841",
     "status": "completed"
    },
    "tags": []
   },
   "outputs": [
    {
     "data": {
      "text/html": [
       "<div>\n",
       "<style scoped>\n",
       "    .dataframe tbody tr th:only-of-type {\n",
       "        vertical-align: middle;\n",
       "    }\n",
       "\n",
       "    .dataframe tbody tr th {\n",
       "        vertical-align: top;\n",
       "    }\n",
       "\n",
       "    .dataframe thead th {\n",
       "        text-align: right;\n",
       "    }\n",
       "</style>\n",
       "<table border=\"1\" class=\"dataframe\">\n",
       "  <thead>\n",
       "    <tr style=\"text-align: right;\">\n",
       "      <th></th>\n",
       "      <th>shop_id</th>\n",
       "      <th>item_id</th>\n",
       "      <th>date_block_num</th>\n",
       "      <th>item_cnt_month</th>\n",
       "    </tr>\n",
       "  </thead>\n",
       "  <tbody>\n",
       "    <tr>\n",
       "      <th>114910</th>\n",
       "      <td>2</td>\n",
       "      <td>19</td>\n",
       "      <td>0</td>\n",
       "      <td>0.0</td>\n",
       "    </tr>\n",
       "    <tr>\n",
       "      <th>117150</th>\n",
       "      <td>2</td>\n",
       "      <td>27</td>\n",
       "      <td>0</td>\n",
       "      <td>1.0</td>\n",
       "    </tr>\n",
       "    <tr>\n",
       "      <th>120623</th>\n",
       "      <td>2</td>\n",
       "      <td>28</td>\n",
       "      <td>0</td>\n",
       "      <td>0.0</td>\n",
       "    </tr>\n",
       "    <tr>\n",
       "      <th>118316</th>\n",
       "      <td>2</td>\n",
       "      <td>29</td>\n",
       "      <td>0</td>\n",
       "      <td>0.0</td>\n",
       "    </tr>\n",
       "    <tr>\n",
       "      <th>114602</th>\n",
       "      <td>2</td>\n",
       "      <td>32</td>\n",
       "      <td>0</td>\n",
       "      <td>0.0</td>\n",
       "    </tr>\n",
       "    <tr>\n",
       "      <th>214195</th>\n",
       "      <td>45</td>\n",
       "      <td>18454</td>\n",
       "      <td>34</td>\n",
       "      <td>0.0</td>\n",
       "    </tr>\n",
       "    <tr>\n",
       "      <th>214196</th>\n",
       "      <td>45</td>\n",
       "      <td>16188</td>\n",
       "      <td>34</td>\n",
       "      <td>0.0</td>\n",
       "    </tr>\n",
       "    <tr>\n",
       "      <th>214197</th>\n",
       "      <td>45</td>\n",
       "      <td>15757</td>\n",
       "      <td>34</td>\n",
       "      <td>0.0</td>\n",
       "    </tr>\n",
       "    <tr>\n",
       "      <th>214198</th>\n",
       "      <td>45</td>\n",
       "      <td>19648</td>\n",
       "      <td>34</td>\n",
       "      <td>0.0</td>\n",
       "    </tr>\n",
       "    <tr>\n",
       "      <th>214199</th>\n",
       "      <td>45</td>\n",
       "      <td>969</td>\n",
       "      <td>34</td>\n",
       "      <td>0.0</td>\n",
       "    </tr>\n",
       "  </tbody>\n",
       "</table>\n",
       "</div>"
      ],
      "text/plain": [
       "        shop_id  item_id  date_block_num  item_cnt_month\n",
       "114910        2       19               0             0.0\n",
       "117150        2       27               0             1.0\n",
       "120623        2       28               0             0.0\n",
       "118316        2       29               0             0.0\n",
       "114602        2       32               0             0.0\n",
       "214195       45    18454              34             0.0\n",
       "214196       45    16188              34             0.0\n",
       "214197       45    15757              34             0.0\n",
       "214198       45    19648              34             0.0\n",
       "214199       45      969              34             0.0"
      ]
     },
     "execution_count": 72,
     "metadata": {},
     "output_type": "execute_result"
    }
   ],
   "source": [
    "#删除测试集相对new_train中不含的的ID列，并与原训练集向下连接合并\n",
    "new_train = new_train.append(test.drop('ID', axis = 1)) \n",
    "new_train.head().append(new_train.tail())"
   ]
  },
  {
   "cell_type": "markdown",
   "metadata": {
    "papermill": {
     "duration": 0.031179,
     "end_time": "2020-08-23T07:28:47.283856",
     "exception": false,
     "start_time": "2020-08-23T07:28:47.252677",
     "status": "completed"
    },
    "tags": []
   },
   "source": [
    "合并商店、商品和类别数据以添加之前处理好的城市类别标签、商品类别（主类别和子类别）属性"
   ]
  },
  {
   "cell_type": "code",
   "execution_count": 73,
   "metadata": {
    "execution": {
     "iopub.execute_input": "2020-08-23T07:28:47.352839Z",
     "iopub.status.busy": "2020-08-23T07:28:47.352166Z",
     "iopub.status.idle": "2020-08-23T07:28:49.315919Z",
     "shell.execute_reply": "2020-08-23T07:28:49.315215Z"
    },
    "papermill": {
     "duration": 2.001299,
     "end_time": "2020-08-23T07:28:49.316170",
     "exception": false,
     "start_time": "2020-08-23T07:28:47.314871",
     "status": "completed"
    },
    "tags": []
   },
   "outputs": [
    {
     "data": {
      "text/html": [
       "<div>\n",
       "<style scoped>\n",
       "    .dataframe tbody tr th:only-of-type {\n",
       "        vertical-align: middle;\n",
       "    }\n",
       "\n",
       "    .dataframe tbody tr th {\n",
       "        vertical-align: top;\n",
       "    }\n",
       "\n",
       "    .dataframe thead th {\n",
       "        text-align: right;\n",
       "    }\n",
       "</style>\n",
       "<table border=\"1\" class=\"dataframe\">\n",
       "  <thead>\n",
       "    <tr style=\"text-align: right;\">\n",
       "      <th></th>\n",
       "      <th>shop_id</th>\n",
       "      <th>item_id</th>\n",
       "      <th>date_block_num</th>\n",
       "      <th>item_cnt_month</th>\n",
       "      <th>shop_city</th>\n",
       "    </tr>\n",
       "  </thead>\n",
       "  <tbody>\n",
       "    <tr>\n",
       "      <th>0</th>\n",
       "      <td>2</td>\n",
       "      <td>19</td>\n",
       "      <td>0</td>\n",
       "      <td>0.0</td>\n",
       "      <td>0</td>\n",
       "    </tr>\n",
       "    <tr>\n",
       "      <th>1</th>\n",
       "      <td>2</td>\n",
       "      <td>27</td>\n",
       "      <td>0</td>\n",
       "      <td>1.0</td>\n",
       "      <td>0</td>\n",
       "    </tr>\n",
       "    <tr>\n",
       "      <th>2</th>\n",
       "      <td>2</td>\n",
       "      <td>28</td>\n",
       "      <td>0</td>\n",
       "      <td>0.0</td>\n",
       "      <td>0</td>\n",
       "    </tr>\n",
       "    <tr>\n",
       "      <th>3</th>\n",
       "      <td>2</td>\n",
       "      <td>29</td>\n",
       "      <td>0</td>\n",
       "      <td>0.0</td>\n",
       "      <td>0</td>\n",
       "    </tr>\n",
       "    <tr>\n",
       "      <th>4</th>\n",
       "      <td>2</td>\n",
       "      <td>32</td>\n",
       "      <td>0</td>\n",
       "      <td>0.0</td>\n",
       "      <td>0</td>\n",
       "    </tr>\n",
       "  </tbody>\n",
       "</table>\n",
       "</div>"
      ],
      "text/plain": [
       "   shop_id  item_id  date_block_num  item_cnt_month  shop_city\n",
       "0        2       19               0             0.0          0\n",
       "1        2       27               0             1.0          0\n",
       "2        2       28               0             0.0          0\n",
       "3        2       29               0             0.0          0\n",
       "4        2       32               0             0.0          0"
      ]
     },
     "execution_count": 73,
     "metadata": {},
     "output_type": "execute_result"
    }
   ],
   "source": [
    "#合并商店数据，以获得对应ID下编码好的的城市类别\n",
    "new_train = pd.merge(new_train, shops, on=['shop_id'], how='left') \n",
    "new_train.head()"
   ]
  },
  {
   "cell_type": "code",
   "execution_count": 74,
   "metadata": {
    "execution": {
     "iopub.execute_input": "2020-08-23T07:28:49.390101Z",
     "iopub.status.busy": "2020-08-23T07:28:49.389428Z",
     "iopub.status.idle": "2020-08-23T07:28:51.380595Z",
     "shell.execute_reply": "2020-08-23T07:28:51.379951Z"
    },
    "papermill": {
     "duration": 2.032598,
     "end_time": "2020-08-23T07:28:51.380721",
     "exception": false,
     "start_time": "2020-08-23T07:28:49.348123",
     "status": "completed"
    },
    "tags": []
   },
   "outputs": [
    {
     "data": {
      "text/html": [
       "<div>\n",
       "<style scoped>\n",
       "    .dataframe tbody tr th:only-of-type {\n",
       "        vertical-align: middle;\n",
       "    }\n",
       "\n",
       "    .dataframe tbody tr th {\n",
       "        vertical-align: top;\n",
       "    }\n",
       "\n",
       "    .dataframe thead th {\n",
       "        text-align: right;\n",
       "    }\n",
       "</style>\n",
       "<table border=\"1\" class=\"dataframe\">\n",
       "  <thead>\n",
       "    <tr style=\"text-align: right;\">\n",
       "      <th></th>\n",
       "      <th>shop_id</th>\n",
       "      <th>item_id</th>\n",
       "      <th>date_block_num</th>\n",
       "      <th>item_cnt_month</th>\n",
       "      <th>shop_city</th>\n",
       "      <th>item_category_id</th>\n",
       "    </tr>\n",
       "  </thead>\n",
       "  <tbody>\n",
       "    <tr>\n",
       "      <th>0</th>\n",
       "      <td>2</td>\n",
       "      <td>19</td>\n",
       "      <td>0</td>\n",
       "      <td>0.0</td>\n",
       "      <td>0</td>\n",
       "      <td>40</td>\n",
       "    </tr>\n",
       "    <tr>\n",
       "      <th>1</th>\n",
       "      <td>2</td>\n",
       "      <td>27</td>\n",
       "      <td>0</td>\n",
       "      <td>1.0</td>\n",
       "      <td>0</td>\n",
       "      <td>19</td>\n",
       "    </tr>\n",
       "    <tr>\n",
       "      <th>2</th>\n",
       "      <td>2</td>\n",
       "      <td>28</td>\n",
       "      <td>0</td>\n",
       "      <td>0.0</td>\n",
       "      <td>0</td>\n",
       "      <td>30</td>\n",
       "    </tr>\n",
       "    <tr>\n",
       "      <th>3</th>\n",
       "      <td>2</td>\n",
       "      <td>29</td>\n",
       "      <td>0</td>\n",
       "      <td>0.0</td>\n",
       "      <td>0</td>\n",
       "      <td>23</td>\n",
       "    </tr>\n",
       "    <tr>\n",
       "      <th>4</th>\n",
       "      <td>2</td>\n",
       "      <td>32</td>\n",
       "      <td>0</td>\n",
       "      <td>0.0</td>\n",
       "      <td>0</td>\n",
       "      <td>40</td>\n",
       "    </tr>\n",
       "  </tbody>\n",
       "</table>\n",
       "</div>"
      ],
      "text/plain": [
       "   shop_id  item_id  date_block_num  item_cnt_month  shop_city  \\\n",
       "0        2       19               0             0.0          0   \n",
       "1        2       27               0             1.0          0   \n",
       "2        2       28               0             0.0          0   \n",
       "3        2       29               0             0.0          0   \n",
       "4        2       32               0             0.0          0   \n",
       "\n",
       "   item_category_id  \n",
       "0                40  \n",
       "1                19  \n",
       "2                30  \n",
       "3                23  \n",
       "4                40  "
      ]
     },
     "execution_count": 74,
     "metadata": {},
     "output_type": "execute_result"
    }
   ],
   "source": [
    "#合并商品名称数据，以获得对应ID下编码好的商品类别\n",
    "new_train = pd.merge(new_train, items.drop('item_name', axis = 1), on=['item_id'], how='left')\n",
    "new_train.head()"
   ]
  },
  {
   "cell_type": "code",
   "execution_count": 75,
   "metadata": {
    "execution": {
     "iopub.execute_input": "2020-08-23T07:28:51.453995Z",
     "iopub.status.busy": "2020-08-23T07:28:51.452899Z",
     "iopub.status.idle": "2020-08-23T07:28:53.801044Z",
     "shell.execute_reply": "2020-08-23T07:28:53.800394Z"
    },
    "papermill": {
     "duration": 2.389,
     "end_time": "2020-08-23T07:28:53.801179",
     "exception": false,
     "start_time": "2020-08-23T07:28:51.412179",
     "status": "completed"
    },
    "tags": []
   },
   "outputs": [
    {
     "data": {
      "text/html": [
       "<div>\n",
       "<style scoped>\n",
       "    .dataframe tbody tr th:only-of-type {\n",
       "        vertical-align: middle;\n",
       "    }\n",
       "\n",
       "    .dataframe tbody tr th {\n",
       "        vertical-align: top;\n",
       "    }\n",
       "\n",
       "    .dataframe thead th {\n",
       "        text-align: right;\n",
       "    }\n",
       "</style>\n",
       "<table border=\"1\" class=\"dataframe\">\n",
       "  <thead>\n",
       "    <tr style=\"text-align: right;\">\n",
       "      <th></th>\n",
       "      <th>shop_id</th>\n",
       "      <th>item_id</th>\n",
       "      <th>date_block_num</th>\n",
       "      <th>item_cnt_month</th>\n",
       "      <th>shop_city</th>\n",
       "      <th>item_category_id</th>\n",
       "      <th>main_category</th>\n",
       "      <th>sub_category</th>\n",
       "      <th>main_category_id</th>\n",
       "      <th>sub_category_id</th>\n",
       "    </tr>\n",
       "  </thead>\n",
       "  <tbody>\n",
       "    <tr>\n",
       "      <th>0</th>\n",
       "      <td>2</td>\n",
       "      <td>19</td>\n",
       "      <td>0</td>\n",
       "      <td>0.0</td>\n",
       "      <td>0</td>\n",
       "      <td>40</td>\n",
       "      <td>Кино</td>\n",
       "      <td>DVD</td>\n",
       "      <td>11</td>\n",
       "      <td>4</td>\n",
       "    </tr>\n",
       "    <tr>\n",
       "      <th>1</th>\n",
       "      <td>2</td>\n",
       "      <td>27</td>\n",
       "      <td>0</td>\n",
       "      <td>1.0</td>\n",
       "      <td>0</td>\n",
       "      <td>19</td>\n",
       "      <td>Игры</td>\n",
       "      <td>PS3</td>\n",
       "      <td>5</td>\n",
       "      <td>10</td>\n",
       "    </tr>\n",
       "    <tr>\n",
       "      <th>2</th>\n",
       "      <td>2</td>\n",
       "      <td>28</td>\n",
       "      <td>0</td>\n",
       "      <td>0.0</td>\n",
       "      <td>0</td>\n",
       "      <td>30</td>\n",
       "      <td>Игры PC</td>\n",
       "      <td>Стандартные издания</td>\n",
       "      <td>8</td>\n",
       "      <td>55</td>\n",
       "    </tr>\n",
       "    <tr>\n",
       "      <th>3</th>\n",
       "      <td>2</td>\n",
       "      <td>29</td>\n",
       "      <td>0</td>\n",
       "      <td>0.0</td>\n",
       "      <td>0</td>\n",
       "      <td>23</td>\n",
       "      <td>Игры</td>\n",
       "      <td>XBOX 360</td>\n",
       "      <td>5</td>\n",
       "      <td>16</td>\n",
       "    </tr>\n",
       "    <tr>\n",
       "      <th>4</th>\n",
       "      <td>2</td>\n",
       "      <td>32</td>\n",
       "      <td>0</td>\n",
       "      <td>0.0</td>\n",
       "      <td>0</td>\n",
       "      <td>40</td>\n",
       "      <td>Кино</td>\n",
       "      <td>DVD</td>\n",
       "      <td>11</td>\n",
       "      <td>4</td>\n",
       "    </tr>\n",
       "  </tbody>\n",
       "</table>\n",
       "</div>"
      ],
      "text/plain": [
       "   shop_id  item_id  date_block_num  item_cnt_month  shop_city  \\\n",
       "0        2       19               0             0.0          0   \n",
       "1        2       27               0             1.0          0   \n",
       "2        2       28               0             0.0          0   \n",
       "3        2       29               0             0.0          0   \n",
       "4        2       32               0             0.0          0   \n",
       "\n",
       "   item_category_id main_category         sub_category  main_category_id  \\\n",
       "0                40          Кино                  DVD                11   \n",
       "1                19          Игры                  PS3                 5   \n",
       "2                30       Игры PC  Стандартные издания                 8   \n",
       "3                23          Игры             XBOX 360                 5   \n",
       "4                40          Кино                  DVD                11   \n",
       "\n",
       "   sub_category_id  \n",
       "0                4  \n",
       "1               10  \n",
       "2               55  \n",
       "3               16  \n",
       "4                4  "
      ]
     },
     "execution_count": 75,
     "metadata": {},
     "output_type": "execute_result"
    }
   ],
   "source": [
    "#合并商品类别数据，以获得对应名称下编码号的商品父子类别\n",
    "new_train = pd.merge(new_train,  item_cats.drop('item_category_name', axis = 1), on=['item_category_id'], how='left')\n",
    "new_train.head()"
   ]
  },
  {
   "cell_type": "code",
   "execution_count": 76,
   "metadata": {
    "execution": {
     "iopub.execute_input": "2020-08-23T07:28:53.871239Z",
     "iopub.status.busy": "2020-08-23T07:28:53.869694Z",
     "iopub.status.idle": "2020-08-23T07:28:55.630174Z",
     "shell.execute_reply": "2020-08-23T07:28:55.629619Z"
    },
    "papermill": {
     "duration": 1.797566,
     "end_time": "2020-08-23T07:28:55.630303",
     "exception": false,
     "start_time": "2020-08-23T07:28:53.832737",
     "status": "completed"
    },
    "tags": []
   },
   "outputs": [
    {
     "data": {
      "text/html": [
       "<div>\n",
       "<style scoped>\n",
       "    .dataframe tbody tr th:only-of-type {\n",
       "        vertical-align: middle;\n",
       "    }\n",
       "\n",
       "    .dataframe tbody tr th {\n",
       "        vertical-align: top;\n",
       "    }\n",
       "\n",
       "    .dataframe thead th {\n",
       "        text-align: right;\n",
       "    }\n",
       "</style>\n",
       "<table border=\"1\" class=\"dataframe\">\n",
       "  <thead>\n",
       "    <tr style=\"text-align: right;\">\n",
       "      <th></th>\n",
       "      <th>shop_id</th>\n",
       "      <th>item_id</th>\n",
       "      <th>date_block_num</th>\n",
       "      <th>item_cnt_month</th>\n",
       "      <th>shop_city</th>\n",
       "      <th>item_category_id</th>\n",
       "      <th>main_category_id</th>\n",
       "      <th>sub_category_id</th>\n",
       "    </tr>\n",
       "  </thead>\n",
       "  <tbody>\n",
       "    <tr>\n",
       "      <th>0</th>\n",
       "      <td>2</td>\n",
       "      <td>19</td>\n",
       "      <td>0</td>\n",
       "      <td>0.0</td>\n",
       "      <td>0</td>\n",
       "      <td>40</td>\n",
       "      <td>11</td>\n",
       "      <td>4</td>\n",
       "    </tr>\n",
       "    <tr>\n",
       "      <th>1</th>\n",
       "      <td>2</td>\n",
       "      <td>27</td>\n",
       "      <td>0</td>\n",
       "      <td>1.0</td>\n",
       "      <td>0</td>\n",
       "      <td>19</td>\n",
       "      <td>5</td>\n",
       "      <td>10</td>\n",
       "    </tr>\n",
       "    <tr>\n",
       "      <th>2</th>\n",
       "      <td>2</td>\n",
       "      <td>28</td>\n",
       "      <td>0</td>\n",
       "      <td>0.0</td>\n",
       "      <td>0</td>\n",
       "      <td>30</td>\n",
       "      <td>8</td>\n",
       "      <td>55</td>\n",
       "    </tr>\n",
       "    <tr>\n",
       "      <th>3</th>\n",
       "      <td>2</td>\n",
       "      <td>29</td>\n",
       "      <td>0</td>\n",
       "      <td>0.0</td>\n",
       "      <td>0</td>\n",
       "      <td>23</td>\n",
       "      <td>5</td>\n",
       "      <td>16</td>\n",
       "    </tr>\n",
       "    <tr>\n",
       "      <th>4</th>\n",
       "      <td>2</td>\n",
       "      <td>32</td>\n",
       "      <td>0</td>\n",
       "      <td>0.0</td>\n",
       "      <td>0</td>\n",
       "      <td>40</td>\n",
       "      <td>11</td>\n",
       "      <td>4</td>\n",
       "    </tr>\n",
       "  </tbody>\n",
       "</table>\n",
       "</div>"
      ],
      "text/plain": [
       "   shop_id  item_id  date_block_num  item_cnt_month  shop_city  \\\n",
       "0        2       19               0             0.0          0   \n",
       "1        2       27               0             1.0          0   \n",
       "2        2       28               0             0.0          0   \n",
       "3        2       29               0             0.0          0   \n",
       "4        2       32               0             0.0          0   \n",
       "\n",
       "   item_category_id  main_category_id  sub_category_id  \n",
       "0                40                11                4  \n",
       "1                19                 5               10  \n",
       "2                30                 8               55  \n",
       "3                23                 5               16  \n",
       "4                40                11                4  "
      ]
     },
     "execution_count": 76,
     "metadata": {},
     "output_type": "execute_result"
    }
   ],
   "source": [
    "#删除非数值的列\n",
    "new_train.drop(['main_category','sub_category'],axis=1,inplace=True)\n",
    "new_train.head()"
   ]
  },
  {
   "cell_type": "code",
   "execution_count": 77,
   "metadata": {
    "execution": {
     "iopub.execute_input": "2020-08-23T07:28:55.700061Z",
     "iopub.status.busy": "2020-08-23T07:28:55.699409Z",
     "iopub.status.idle": "2020-08-23T07:28:55.701950Z",
     "shell.execute_reply": "2020-08-23T07:28:55.702466Z"
    },
    "papermill": {
     "duration": 0.039582,
     "end_time": "2020-08-23T07:28:55.702625",
     "exception": false,
     "start_time": "2020-08-23T07:28:55.663043",
     "status": "completed"
    },
    "tags": []
   },
   "outputs": [],
   "source": [
    "#删除无用的数据，释放内存\n",
    "del items\n",
    "del item_cats\n",
    "del shops\n",
    "del test"
   ]
  },
  {
   "cell_type": "markdown",
   "metadata": {
    "papermill": {
     "duration": 0.030738,
     "end_time": "2020-08-23T07:28:55.765000",
     "exception": false,
     "start_time": "2020-08-23T07:28:55.734262",
     "status": "completed"
    },
    "tags": []
   },
   "source": [
    "##### 生成滞后的特征和平均编码"
   ]
  },
  {
   "cell_type": "code",
   "execution_count": 78,
   "metadata": {
    "execution": {
     "iopub.execute_input": "2020-08-23T07:28:55.834852Z",
     "iopub.status.busy": "2020-08-23T07:28:55.834199Z",
     "iopub.status.idle": "2020-08-23T07:28:55.837262Z",
     "shell.execute_reply": "2020-08-23T07:28:55.836590Z"
    },
    "papermill": {
     "duration": 0.041098,
     "end_time": "2020-08-23T07:28:55.837386",
     "exception": false,
     "start_time": "2020-08-23T07:28:55.796288",
     "status": "completed"
    },
    "tags": []
   },
   "outputs": [],
   "source": [
    "#定义滞后特征添加函数\n",
    "def generate_lag(train, months, lag_column):\n",
    "    for month in months:\n",
    "        # 创建滞后特征\n",
    "        train_shift = train[['date_block_num', 'shop_id', 'item_id', lag_column]].copy()\n",
    "        train_shift.columns = ['date_block_num', 'shop_id', 'item_id', lag_column+'_lag_'+ str(month)]\n",
    "        train_shift['date_block_num'] += month\n",
    "        #新列表连接到训练集中\n",
    "        train = pd.merge(train, train_shift, on=['date_block_num', 'shop_id', 'item_id'], how='left')\n",
    "    return train"
   ]
  },
  {
   "cell_type": "code",
   "execution_count": 79,
   "metadata": {
    "execution": {
     "iopub.execute_input": "2020-08-23T07:28:55.908557Z",
     "iopub.status.busy": "2020-08-23T07:28:55.907716Z",
     "iopub.status.idle": "2020-08-23T07:28:55.910762Z",
     "shell.execute_reply": "2020-08-23T07:28:55.910100Z"
    },
    "papermill": {
     "duration": 0.041775,
     "end_time": "2020-08-23T07:28:55.910878",
     "exception": false,
     "start_time": "2020-08-23T07:28:55.869103",
     "status": "completed"
    },
    "tags": []
   },
   "outputs": [],
   "source": [
    "#定义向下数据类型转变函数，作用是将float64类型转变成float16，将int64转变成int16（用于缩减内存量,否则后续无法运行）\n",
    "from tqdm import tqdm_notebook   # 进度读取条使用\n",
    "def downcast_dtypes(df):   \n",
    "    # 选择需要处理的列 \n",
    "    float_cols = [c for c in df if df[c].dtype == \"float64\"]\n",
    "    int_cols =   [c for c in df if df[c].dtype == \"int64\"]\n",
    "    \n",
    "    #开始数据转换\n",
    "    df[float_cols] = df[float_cols].astype(np.float16)\n",
    "    df[int_cols]   = df[int_cols].astype(np.int16)\n",
    "    \n",
    "    return df"
   ]
  },
  {
   "cell_type": "code",
   "execution_count": 80,
   "metadata": {
    "execution": {
     "iopub.execute_input": "2020-08-23T07:28:56.032927Z",
     "iopub.status.busy": "2020-08-23T07:28:56.032256Z",
     "iopub.status.idle": "2020-08-23T07:28:57.667514Z",
     "shell.execute_reply": "2020-08-23T07:28:57.666942Z"
    },
    "papermill": {
     "duration": 1.725068,
     "end_time": "2020-08-23T07:28:57.667650",
     "exception": false,
     "start_time": "2020-08-23T07:28:55.942582",
     "status": "completed"
    },
    "tags": []
   },
   "outputs": [],
   "source": [
    "#使用变换函数来更数据类型\n",
    "new_train = downcast_dtypes(new_train)  "
   ]
  },
  {
   "cell_type": "code",
   "execution_count": 81,
   "metadata": {
    "execution": {
     "iopub.execute_input": "2020-08-23T07:28:57.738258Z",
     "iopub.status.busy": "2020-08-23T07:28:57.737557Z",
     "iopub.status.idle": "2020-08-23T07:29:54.920683Z",
     "shell.execute_reply": "2020-08-23T07:29:54.921437Z"
    },
    "papermill": {
     "duration": 57.221648,
     "end_time": "2020-08-23T07:29:54.921610",
     "exception": false,
     "start_time": "2020-08-23T07:28:57.699962",
     "status": "completed"
    },
    "tags": []
   },
   "outputs": [
    {
     "name": "stdout",
     "output_type": "stream",
     "text": [
      "CPU times: user 44.6 s, sys: 12.6 s, total: 57.1 s\n",
      "Wall time: 57.1 s\n"
     ]
    }
   ],
   "source": [
    "%%time\n",
    "#添加目标变量（月销量属性）的滞后特征，添加部分的月销量数据\n",
    "new_train = generate_lag(new_train, [1,2,3,4,5,6,12], 'item_cnt_month')"
   ]
  },
  {
   "cell_type": "code",
   "execution_count": 82,
   "metadata": {
    "execution": {
     "iopub.execute_input": "2020-08-23T07:29:54.993459Z",
     "iopub.status.busy": "2020-08-23T07:29:54.992759Z",
     "iopub.status.idle": "2020-08-23T07:30:43.384102Z",
     "shell.execute_reply": "2020-08-23T07:30:43.384802Z"
    },
    "papermill": {
     "duration": 48.430748,
     "end_time": "2020-08-23T07:30:43.384999",
     "exception": false,
     "start_time": "2020-08-23T07:29:54.954251",
     "status": "completed"
    },
    "tags": []
   },
   "outputs": [
    {
     "name": "stdout",
     "output_type": "stream",
     "text": [
      "CPU times: user 37.1 s, sys: 11.3 s, total: 48.3 s\n",
      "Wall time: 48.4 s\n"
     ]
    }
   ],
   "source": [
    "%%time\n",
    "#添加商品-目标均值的滞后特征\n",
    "#按月份和商品id排序并取其月销量的均值\n",
    "group = new_train.groupby(['date_block_num', 'item_id'])['item_cnt_month'].mean().rename('item_month_mean').reset_index()\n",
    "#将新表添加到new_train的右侧，对应'date_block_num', 'item_id'属性\n",
    "new_train = pd.merge(new_train, group, on=['date_block_num', 'item_id'], how='left')\n",
    "#对[1,2,3,6,12]月进行月销量滞后添加（均值填充）\n",
    "new_train = generate_lag(new_train, [1,2,3,6,12], 'item_month_mean')\n",
    "#删除不需要的'item_month_mean'属性\n",
    "new_train.drop(['item_month_mean'], axis=1, inplace=True)"
   ]
  },
  {
   "cell_type": "code",
   "execution_count": 83,
   "metadata": {
    "execution": {
     "iopub.execute_input": "2020-08-23T07:30:43.460806Z",
     "iopub.status.busy": "2020-08-23T07:30:43.459815Z",
     "iopub.status.idle": "2020-08-23T07:31:35.268850Z",
     "shell.execute_reply": "2020-08-23T07:31:35.269459Z"
    },
    "papermill": {
     "duration": 51.852122,
     "end_time": "2020-08-23T07:31:35.269667",
     "exception": false,
     "start_time": "2020-08-23T07:30:43.417545",
     "status": "completed"
    },
    "tags": []
   },
   "outputs": [
    {
     "name": "stdout",
     "output_type": "stream",
     "text": [
      "CPU times: user 39.2 s, sys: 12.5 s, total: 51.8 s\n",
      "Wall time: 51.8 s\n"
     ]
    }
   ],
   "source": [
    "%%time\n",
    "#添加商店-目标均值的滞后特征\n",
    "group = new_train.groupby(['date_block_num', 'shop_id'])['item_cnt_month'].mean().rename('shop_month_mean').reset_index()\n",
    "new_train = pd.merge(new_train, group, on=['date_block_num', 'shop_id'], how='left')\n",
    "new_train = generate_lag(new_train, [1,2,3,6,12], 'shop_month_mean')\n",
    "new_train.drop(['shop_month_mean'], axis=1, inplace=True)"
   ]
  },
  {
   "cell_type": "code",
   "execution_count": 84,
   "metadata": {
    "execution": {
     "iopub.execute_input": "2020-08-23T07:31:35.341944Z",
     "iopub.status.busy": "2020-08-23T07:31:35.340756Z",
     "iopub.status.idle": "2020-08-23T07:32:00.296341Z",
     "shell.execute_reply": "2020-08-23T07:32:00.295584Z"
    },
    "papermill": {
     "duration": 24.994428,
     "end_time": "2020-08-23T07:32:00.296476",
     "exception": false,
     "start_time": "2020-08-23T07:31:35.302048",
     "status": "completed"
    },
    "tags": []
   },
   "outputs": [
    {
     "name": "stdout",
     "output_type": "stream",
     "text": [
      "CPU times: user 18.5 s, sys: 6.44 s, total: 24.9 s\n",
      "Wall time: 25 s\n"
     ]
    }
   ],
   "source": [
    "%%time\n",
    "#添加商店-商品种类-目标均值的滞后特征\n",
    "group = new_train.groupby(['date_block_num', 'shop_id', 'item_category_id'])['item_cnt_month'].mean().rename('shop_category_month_mean').reset_index()\n",
    "new_train = pd.merge(new_train, group, on=['date_block_num', 'shop_id', 'item_category_id'], how='left')\n",
    "new_train = generate_lag(new_train, [1, 2], 'shop_category_month_mean')\n",
    "new_train.drop(['shop_category_month_mean'], axis=1, inplace=True)"
   ]
  },
  {
   "cell_type": "code",
   "execution_count": 85,
   "metadata": {
    "execution": {
     "iopub.execute_input": "2020-08-23T07:32:00.370237Z",
     "iopub.status.busy": "2020-08-23T07:32:00.369548Z",
     "iopub.status.idle": "2020-08-23T07:32:15.299345Z",
     "shell.execute_reply": "2020-08-23T07:32:15.298818Z"
    },
    "papermill": {
     "duration": 14.969862,
     "end_time": "2020-08-23T07:32:15.299529",
     "exception": false,
     "start_time": "2020-08-23T07:32:00.329667",
     "status": "completed"
    },
    "tags": []
   },
   "outputs": [
    {
     "name": "stdout",
     "output_type": "stream",
     "text": [
      "CPU times: user 11 s, sys: 3.92 s, total: 14.9 s\n",
      "Wall time: 14.9 s\n"
     ]
    }
   ],
   "source": [
    "%%time\n",
    "#添加商品父类别-目标均值的滞后特征\n",
    "group = new_train.groupby(['date_block_num', 'main_category_id'])['item_cnt_month'].mean().rename('main_category_month_mean').reset_index()\n",
    "new_train = pd.merge(new_train, group, on=['date_block_num', 'main_category_id'], how='left')\n",
    "new_train = generate_lag(new_train, [1], 'main_category_month_mean')\n",
    "new_train.drop(['main_category_month_mean'], axis=1, inplace=True)"
   ]
  },
  {
   "cell_type": "code",
   "execution_count": 86,
   "metadata": {
    "execution": {
     "iopub.execute_input": "2020-08-23T07:32:15.371080Z",
     "iopub.status.busy": "2020-08-23T07:32:15.370431Z",
     "iopub.status.idle": "2020-08-23T07:32:38.783383Z",
     "shell.execute_reply": "2020-08-23T07:32:38.784003Z"
    },
    "papermill": {
     "duration": 23.452482,
     "end_time": "2020-08-23T07:32:38.784448",
     "exception": false,
     "start_time": "2020-08-23T07:32:15.331966",
     "status": "completed"
    },
    "tags": []
   },
   "outputs": [
    {
     "name": "stdout",
     "output_type": "stream",
     "text": [
      "CPU times: user 13.6 s, sys: 9.79 s, total: 23.4 s\n",
      "Wall time: 23.4 s\n"
     ]
    }
   ],
   "source": [
    "%%time\n",
    "#添加商品子类别-目标均值的滞后特征\n",
    "group = new_train.groupby(['date_block_num', 'sub_category_id'])['item_cnt_month'].mean().rename('sub_category_month_mean').reset_index()\n",
    "new_train = pd.merge(new_train, group, on=['date_block_num', 'sub_category_id'], how='left')\n",
    "new_train = generate_lag(new_train, [1], 'sub_category_month_mean')\n",
    "new_train.drop(['sub_category_month_mean'], axis=1, inplace=True)"
   ]
  },
  {
   "cell_type": "code",
   "execution_count": 87,
   "metadata": {
    "execution": {
     "iopub.execute_input": "2020-08-23T07:32:38.881085Z",
     "iopub.status.busy": "2020-08-23T07:32:38.880194Z",
     "iopub.status.idle": "2020-08-23T07:32:38.884903Z",
     "shell.execute_reply": "2020-08-23T07:32:38.884405Z"
    },
    "papermill": {
     "duration": 0.065359,
     "end_time": "2020-08-23T07:32:38.885023",
     "exception": false,
     "start_time": "2020-08-23T07:32:38.819664",
     "status": "completed"
    },
    "tags": []
   },
   "outputs": [
    {
     "data": {
      "text/html": [
       "<div>\n",
       "<style scoped>\n",
       "    .dataframe tbody tr th:only-of-type {\n",
       "        vertical-align: middle;\n",
       "    }\n",
       "\n",
       "    .dataframe tbody tr th {\n",
       "        vertical-align: top;\n",
       "    }\n",
       "\n",
       "    .dataframe thead th {\n",
       "        text-align: right;\n",
       "    }\n",
       "</style>\n",
       "<table border=\"1\" class=\"dataframe\">\n",
       "  <thead>\n",
       "    <tr style=\"text-align: right;\">\n",
       "      <th></th>\n",
       "      <th>shop_id</th>\n",
       "      <th>item_id</th>\n",
       "      <th>date_block_num</th>\n",
       "      <th>item_cnt_month</th>\n",
       "      <th>shop_city</th>\n",
       "      <th>item_category_id</th>\n",
       "      <th>main_category_id</th>\n",
       "      <th>sub_category_id</th>\n",
       "      <th>item_cnt_month_lag_1</th>\n",
       "      <th>item_cnt_month_lag_2</th>\n",
       "      <th>...</th>\n",
       "      <th>item_month_mean_lag_12</th>\n",
       "      <th>shop_month_mean_lag_1</th>\n",
       "      <th>shop_month_mean_lag_2</th>\n",
       "      <th>shop_month_mean_lag_3</th>\n",
       "      <th>shop_month_mean_lag_6</th>\n",
       "      <th>shop_month_mean_lag_12</th>\n",
       "      <th>shop_category_month_mean_lag_1</th>\n",
       "      <th>shop_category_month_mean_lag_2</th>\n",
       "      <th>main_category_month_mean_lag_1</th>\n",
       "      <th>sub_category_month_mean_lag_1</th>\n",
       "    </tr>\n",
       "  </thead>\n",
       "  <tbody>\n",
       "    <tr>\n",
       "      <th>11127999</th>\n",
       "      <td>45</td>\n",
       "      <td>18454</td>\n",
       "      <td>34</td>\n",
       "      <td>0.0</td>\n",
       "      <td>20</td>\n",
       "      <td>55</td>\n",
       "      <td>13</td>\n",
       "      <td>2</td>\n",
       "      <td>1.0</td>\n",
       "      <td>0.0</td>\n",
       "      <td>...</td>\n",
       "      <td>NaN</td>\n",
       "      <td>0.126709</td>\n",
       "      <td>0.128784</td>\n",
       "      <td>0.139038</td>\n",
       "      <td>0.137573</td>\n",
       "      <td>NaN</td>\n",
       "      <td>0.126831</td>\n",
       "      <td>0.074524</td>\n",
       "      <td>0.146973</td>\n",
       "      <td>0.196899</td>\n",
       "    </tr>\n",
       "    <tr>\n",
       "      <th>11128000</th>\n",
       "      <td>45</td>\n",
       "      <td>16188</td>\n",
       "      <td>34</td>\n",
       "      <td>0.0</td>\n",
       "      <td>20</td>\n",
       "      <td>64</td>\n",
       "      <td>14</td>\n",
       "      <td>42</td>\n",
       "      <td>0.0</td>\n",
       "      <td>0.0</td>\n",
       "      <td>...</td>\n",
       "      <td>NaN</td>\n",
       "      <td>0.126709</td>\n",
       "      <td>0.128784</td>\n",
       "      <td>NaN</td>\n",
       "      <td>NaN</td>\n",
       "      <td>NaN</td>\n",
       "      <td>0.094482</td>\n",
       "      <td>0.117126</td>\n",
       "      <td>0.237305</td>\n",
       "      <td>0.155884</td>\n",
       "    </tr>\n",
       "    <tr>\n",
       "      <th>11128001</th>\n",
       "      <td>45</td>\n",
       "      <td>15757</td>\n",
       "      <td>34</td>\n",
       "      <td>0.0</td>\n",
       "      <td>20</td>\n",
       "      <td>55</td>\n",
       "      <td>13</td>\n",
       "      <td>2</td>\n",
       "      <td>0.0</td>\n",
       "      <td>0.0</td>\n",
       "      <td>...</td>\n",
       "      <td>0.180054</td>\n",
       "      <td>0.126709</td>\n",
       "      <td>0.128784</td>\n",
       "      <td>0.139038</td>\n",
       "      <td>0.137573</td>\n",
       "      <td>0.181274</td>\n",
       "      <td>0.126831</td>\n",
       "      <td>0.074524</td>\n",
       "      <td>0.146973</td>\n",
       "      <td>0.196899</td>\n",
       "    </tr>\n",
       "    <tr>\n",
       "      <th>11128002</th>\n",
       "      <td>45</td>\n",
       "      <td>19648</td>\n",
       "      <td>34</td>\n",
       "      <td>0.0</td>\n",
       "      <td>20</td>\n",
       "      <td>40</td>\n",
       "      <td>11</td>\n",
       "      <td>4</td>\n",
       "      <td>0.0</td>\n",
       "      <td>0.0</td>\n",
       "      <td>...</td>\n",
       "      <td>NaN</td>\n",
       "      <td>0.126709</td>\n",
       "      <td>0.128784</td>\n",
       "      <td>0.139038</td>\n",
       "      <td>0.137573</td>\n",
       "      <td>NaN</td>\n",
       "      <td>0.083740</td>\n",
       "      <td>0.074097</td>\n",
       "      <td>0.224243</td>\n",
       "      <td>0.220825</td>\n",
       "    </tr>\n",
       "    <tr>\n",
       "      <th>11128003</th>\n",
       "      <td>45</td>\n",
       "      <td>969</td>\n",
       "      <td>34</td>\n",
       "      <td>0.0</td>\n",
       "      <td>20</td>\n",
       "      <td>37</td>\n",
       "      <td>11</td>\n",
       "      <td>1</td>\n",
       "      <td>0.0</td>\n",
       "      <td>0.0</td>\n",
       "      <td>...</td>\n",
       "      <td>0.119995</td>\n",
       "      <td>0.126709</td>\n",
       "      <td>0.128784</td>\n",
       "      <td>0.139038</td>\n",
       "      <td>0.137573</td>\n",
       "      <td>0.181274</td>\n",
       "      <td>0.128174</td>\n",
       "      <td>0.067444</td>\n",
       "      <td>0.224243</td>\n",
       "      <td>0.240967</td>\n",
       "    </tr>\n",
       "  </tbody>\n",
       "</table>\n",
       "<p>5 rows × 29 columns</p>\n",
       "</div>"
      ],
      "text/plain": [
       "          shop_id  item_id  date_block_num  item_cnt_month  shop_city  \\\n",
       "11127999       45    18454              34             0.0         20   \n",
       "11128000       45    16188              34             0.0         20   \n",
       "11128001       45    15757              34             0.0         20   \n",
       "11128002       45    19648              34             0.0         20   \n",
       "11128003       45      969              34             0.0         20   \n",
       "\n",
       "          item_category_id  main_category_id  sub_category_id  \\\n",
       "11127999                55                13                2   \n",
       "11128000                64                14               42   \n",
       "11128001                55                13                2   \n",
       "11128002                40                11                4   \n",
       "11128003                37                11                1   \n",
       "\n",
       "          item_cnt_month_lag_1  item_cnt_month_lag_2  ...  \\\n",
       "11127999                   1.0                   0.0  ...   \n",
       "11128000                   0.0                   0.0  ...   \n",
       "11128001                   0.0                   0.0  ...   \n",
       "11128002                   0.0                   0.0  ...   \n",
       "11128003                   0.0                   0.0  ...   \n",
       "\n",
       "          item_month_mean_lag_12  shop_month_mean_lag_1  \\\n",
       "11127999                     NaN               0.126709   \n",
       "11128000                     NaN               0.126709   \n",
       "11128001                0.180054               0.126709   \n",
       "11128002                     NaN               0.126709   \n",
       "11128003                0.119995               0.126709   \n",
       "\n",
       "          shop_month_mean_lag_2  shop_month_mean_lag_3  shop_month_mean_lag_6  \\\n",
       "11127999               0.128784               0.139038               0.137573   \n",
       "11128000               0.128784                    NaN                    NaN   \n",
       "11128001               0.128784               0.139038               0.137573   \n",
       "11128002               0.128784               0.139038               0.137573   \n",
       "11128003               0.128784               0.139038               0.137573   \n",
       "\n",
       "          shop_month_mean_lag_12  shop_category_month_mean_lag_1  \\\n",
       "11127999                     NaN                        0.126831   \n",
       "11128000                     NaN                        0.094482   \n",
       "11128001                0.181274                        0.126831   \n",
       "11128002                     NaN                        0.083740   \n",
       "11128003                0.181274                        0.128174   \n",
       "\n",
       "          shop_category_month_mean_lag_2  main_category_month_mean_lag_1  \\\n",
       "11127999                        0.074524                        0.146973   \n",
       "11128000                        0.117126                        0.237305   \n",
       "11128001                        0.074524                        0.146973   \n",
       "11128002                        0.074097                        0.224243   \n",
       "11128003                        0.067444                        0.224243   \n",
       "\n",
       "          sub_category_month_mean_lag_1  \n",
       "11127999                       0.196899  \n",
       "11128000                       0.155884  \n",
       "11128001                       0.196899  \n",
       "11128002                       0.220825  \n",
       "11128003                       0.240967  \n",
       "\n",
       "[5 rows x 29 columns]"
      ]
     },
     "execution_count": 87,
     "metadata": {},
     "output_type": "execute_result"
    }
   ],
   "source": [
    "#滞后特征添加后的数据集形貌\n",
    "new_train.tail()"
   ]
  },
  {
   "cell_type": "code",
   "execution_count": 88,
   "metadata": {
    "execution": {
     "iopub.execute_input": "2020-08-23T07:32:38.956899Z",
     "iopub.status.busy": "2020-08-23T07:32:38.956177Z",
     "iopub.status.idle": "2020-08-23T07:32:39.018639Z",
     "shell.execute_reply": "2020-08-23T07:32:39.017648Z"
    },
    "papermill": {
     "duration": 0.100451,
     "end_time": "2020-08-23T07:32:39.018821",
     "exception": false,
     "start_time": "2020-08-23T07:32:38.918370",
     "status": "completed"
    },
    "tags": []
   },
   "outputs": [],
   "source": [
    "#添加一个月属性的特征\n",
    "new_train['month'] = new_train['date_block_num'] % 12"
   ]
  },
  {
   "cell_type": "code",
   "execution_count": 89,
   "metadata": {
    "execution": {
     "iopub.execute_input": "2020-08-23T07:32:39.094025Z",
     "iopub.status.busy": "2020-08-23T07:32:39.092926Z",
     "iopub.status.idle": "2020-08-23T07:32:39.273294Z",
     "shell.execute_reply": "2020-08-23T07:32:39.272687Z"
    },
    "papermill": {
     "duration": 0.221114,
     "end_time": "2020-08-23T07:32:39.273423",
     "exception": false,
     "start_time": "2020-08-23T07:32:39.052309",
     "status": "completed"
    },
    "tags": []
   },
   "outputs": [],
   "source": [
    "#添加一个月份中休假日期特征\n",
    "#每一个月份对应的休息天数字典\n",
    "holiday_dict = {0: 6,\n",
    "                1: 3,\n",
    "                2: 2,\n",
    "                3: 8,\n",
    "                4: 3,\n",
    "                5: 3,\n",
    "                6: 2,\n",
    "                7: 8,\n",
    "                8: 4,\n",
    "                9: 8,\n",
    "                10: 5,\n",
    "                11: 4}\n",
    "\n",
    "new_train['holidays_in_month'] = new_train['month'].map(holiday_dict)"
   ]
  },
  {
   "cell_type": "code",
   "execution_count": 90,
   "metadata": {
    "execution": {
     "iopub.execute_input": "2020-08-23T07:32:39.349956Z",
     "iopub.status.busy": "2020-08-23T07:32:39.348446Z",
     "iopub.status.idle": "2020-08-23T07:32:39.531244Z",
     "shell.execute_reply": "2020-08-23T07:32:39.530643Z"
    },
    "papermill": {
     "duration": 0.225009,
     "end_time": "2020-08-23T07:32:39.531375",
     "exception": false,
     "start_time": "2020-08-23T07:32:39.306366",
     "status": "completed"
    },
    "tags": []
   },
   "outputs": [],
   "source": [
    "#添加已知的第二年开始俄罗斯证券交易所交易数据(万亿)特征\n",
    "moex = {12: 659, \n",
    "        13: 640, \n",
    "        14: 1231,\n",
    "        15: 881,\n",
    "        16: 764, \n",
    "        17: 663,\n",
    "        18: 743, \n",
    "        19: 627, \n",
    "        20: 692,\n",
    "        21: 736, \n",
    "        22: 680, \n",
    "        23: 1092,\n",
    "        24: 657, \n",
    "        25: 863, \n",
    "        26: 720,\n",
    "        27: 819, \n",
    "        28: 574, \n",
    "        29: 568,\n",
    "        30: 633, \n",
    "        31: 658, \n",
    "        32: 611,\n",
    "        33: 770, \n",
    "        34: 723}\n",
    "\n",
    "new_train['moex'] = new_train.date_block_num.map(moex)"
   ]
  },
  {
   "cell_type": "code",
   "execution_count": 91,
   "metadata": {
    "execution": {
     "iopub.execute_input": "2020-08-23T07:32:39.607098Z",
     "iopub.status.busy": "2020-08-23T07:32:39.606444Z",
     "iopub.status.idle": "2020-08-23T07:32:40.362511Z",
     "shell.execute_reply": "2020-08-23T07:32:40.361864Z"
    },
    "papermill": {
     "duration": 0.798149,
     "end_time": "2020-08-23T07:32:40.362632",
     "exception": false,
     "start_time": "2020-08-23T07:32:39.564483",
     "status": "completed"
    },
    "tags": []
   },
   "outputs": [
    {
     "data": {
      "text/html": [
       "<div>\n",
       "<style scoped>\n",
       "    .dataframe tbody tr th:only-of-type {\n",
       "        vertical-align: middle;\n",
       "    }\n",
       "\n",
       "    .dataframe tbody tr th {\n",
       "        vertical-align: top;\n",
       "    }\n",
       "\n",
       "    .dataframe thead th {\n",
       "        text-align: right;\n",
       "    }\n",
       "</style>\n",
       "<table border=\"1\" class=\"dataframe\">\n",
       "  <thead>\n",
       "    <tr style=\"text-align: right;\">\n",
       "      <th></th>\n",
       "      <th>shop_id</th>\n",
       "      <th>item_id</th>\n",
       "      <th>date_block_num</th>\n",
       "      <th>item_cnt_month</th>\n",
       "      <th>shop_city</th>\n",
       "      <th>item_category_id</th>\n",
       "      <th>main_category_id</th>\n",
       "      <th>sub_category_id</th>\n",
       "      <th>item_cnt_month_lag_1</th>\n",
       "      <th>item_cnt_month_lag_2</th>\n",
       "      <th>...</th>\n",
       "      <th>shop_month_mean_lag_3</th>\n",
       "      <th>shop_month_mean_lag_6</th>\n",
       "      <th>shop_month_mean_lag_12</th>\n",
       "      <th>shop_category_month_mean_lag_1</th>\n",
       "      <th>shop_category_month_mean_lag_2</th>\n",
       "      <th>main_category_month_mean_lag_1</th>\n",
       "      <th>sub_category_month_mean_lag_1</th>\n",
       "      <th>month</th>\n",
       "      <th>holidays_in_month</th>\n",
       "      <th>moex</th>\n",
       "    </tr>\n",
       "  </thead>\n",
       "  <tbody>\n",
       "    <tr>\n",
       "      <th>0</th>\n",
       "      <td>2</td>\n",
       "      <td>19</td>\n",
       "      <td>0</td>\n",
       "      <td>0.0</td>\n",
       "      <td>0</td>\n",
       "      <td>40</td>\n",
       "      <td>11</td>\n",
       "      <td>4</td>\n",
       "      <td>NaN</td>\n",
       "      <td>NaN</td>\n",
       "      <td>...</td>\n",
       "      <td>NaN</td>\n",
       "      <td>NaN</td>\n",
       "      <td>NaN</td>\n",
       "      <td>NaN</td>\n",
       "      <td>NaN</td>\n",
       "      <td>NaN</td>\n",
       "      <td>NaN</td>\n",
       "      <td>0</td>\n",
       "      <td>6</td>\n",
       "      <td>NaN</td>\n",
       "    </tr>\n",
       "    <tr>\n",
       "      <th>1</th>\n",
       "      <td>2</td>\n",
       "      <td>27</td>\n",
       "      <td>0</td>\n",
       "      <td>1.0</td>\n",
       "      <td>0</td>\n",
       "      <td>19</td>\n",
       "      <td>5</td>\n",
       "      <td>10</td>\n",
       "      <td>NaN</td>\n",
       "      <td>NaN</td>\n",
       "      <td>...</td>\n",
       "      <td>NaN</td>\n",
       "      <td>NaN</td>\n",
       "      <td>NaN</td>\n",
       "      <td>NaN</td>\n",
       "      <td>NaN</td>\n",
       "      <td>NaN</td>\n",
       "      <td>NaN</td>\n",
       "      <td>0</td>\n",
       "      <td>6</td>\n",
       "      <td>NaN</td>\n",
       "    </tr>\n",
       "    <tr>\n",
       "      <th>2</th>\n",
       "      <td>2</td>\n",
       "      <td>28</td>\n",
       "      <td>0</td>\n",
       "      <td>0.0</td>\n",
       "      <td>0</td>\n",
       "      <td>30</td>\n",
       "      <td>8</td>\n",
       "      <td>55</td>\n",
       "      <td>NaN</td>\n",
       "      <td>NaN</td>\n",
       "      <td>...</td>\n",
       "      <td>NaN</td>\n",
       "      <td>NaN</td>\n",
       "      <td>NaN</td>\n",
       "      <td>NaN</td>\n",
       "      <td>NaN</td>\n",
       "      <td>NaN</td>\n",
       "      <td>NaN</td>\n",
       "      <td>0</td>\n",
       "      <td>6</td>\n",
       "      <td>NaN</td>\n",
       "    </tr>\n",
       "    <tr>\n",
       "      <th>3</th>\n",
       "      <td>2</td>\n",
       "      <td>29</td>\n",
       "      <td>0</td>\n",
       "      <td>0.0</td>\n",
       "      <td>0</td>\n",
       "      <td>23</td>\n",
       "      <td>5</td>\n",
       "      <td>16</td>\n",
       "      <td>NaN</td>\n",
       "      <td>NaN</td>\n",
       "      <td>...</td>\n",
       "      <td>NaN</td>\n",
       "      <td>NaN</td>\n",
       "      <td>NaN</td>\n",
       "      <td>NaN</td>\n",
       "      <td>NaN</td>\n",
       "      <td>NaN</td>\n",
       "      <td>NaN</td>\n",
       "      <td>0</td>\n",
       "      <td>6</td>\n",
       "      <td>NaN</td>\n",
       "    </tr>\n",
       "    <tr>\n",
       "      <th>4</th>\n",
       "      <td>2</td>\n",
       "      <td>32</td>\n",
       "      <td>0</td>\n",
       "      <td>0.0</td>\n",
       "      <td>0</td>\n",
       "      <td>40</td>\n",
       "      <td>11</td>\n",
       "      <td>4</td>\n",
       "      <td>NaN</td>\n",
       "      <td>NaN</td>\n",
       "      <td>...</td>\n",
       "      <td>NaN</td>\n",
       "      <td>NaN</td>\n",
       "      <td>NaN</td>\n",
       "      <td>NaN</td>\n",
       "      <td>NaN</td>\n",
       "      <td>NaN</td>\n",
       "      <td>NaN</td>\n",
       "      <td>0</td>\n",
       "      <td>6</td>\n",
       "      <td>NaN</td>\n",
       "    </tr>\n",
       "    <tr>\n",
       "      <th>11127999</th>\n",
       "      <td>45</td>\n",
       "      <td>18454</td>\n",
       "      <td>34</td>\n",
       "      <td>0.0</td>\n",
       "      <td>20</td>\n",
       "      <td>55</td>\n",
       "      <td>13</td>\n",
       "      <td>2</td>\n",
       "      <td>1.0</td>\n",
       "      <td>0.0</td>\n",
       "      <td>...</td>\n",
       "      <td>0.139038</td>\n",
       "      <td>0.137573</td>\n",
       "      <td>NaN</td>\n",
       "      <td>0.126831</td>\n",
       "      <td>0.074524</td>\n",
       "      <td>0.146973</td>\n",
       "      <td>0.196899</td>\n",
       "      <td>10</td>\n",
       "      <td>5</td>\n",
       "      <td>723.0</td>\n",
       "    </tr>\n",
       "    <tr>\n",
       "      <th>11128000</th>\n",
       "      <td>45</td>\n",
       "      <td>16188</td>\n",
       "      <td>34</td>\n",
       "      <td>0.0</td>\n",
       "      <td>20</td>\n",
       "      <td>64</td>\n",
       "      <td>14</td>\n",
       "      <td>42</td>\n",
       "      <td>0.0</td>\n",
       "      <td>0.0</td>\n",
       "      <td>...</td>\n",
       "      <td>NaN</td>\n",
       "      <td>NaN</td>\n",
       "      <td>NaN</td>\n",
       "      <td>0.094482</td>\n",
       "      <td>0.117126</td>\n",
       "      <td>0.237305</td>\n",
       "      <td>0.155884</td>\n",
       "      <td>10</td>\n",
       "      <td>5</td>\n",
       "      <td>723.0</td>\n",
       "    </tr>\n",
       "    <tr>\n",
       "      <th>11128001</th>\n",
       "      <td>45</td>\n",
       "      <td>15757</td>\n",
       "      <td>34</td>\n",
       "      <td>0.0</td>\n",
       "      <td>20</td>\n",
       "      <td>55</td>\n",
       "      <td>13</td>\n",
       "      <td>2</td>\n",
       "      <td>0.0</td>\n",
       "      <td>0.0</td>\n",
       "      <td>...</td>\n",
       "      <td>0.139038</td>\n",
       "      <td>0.137573</td>\n",
       "      <td>0.181274</td>\n",
       "      <td>0.126831</td>\n",
       "      <td>0.074524</td>\n",
       "      <td>0.146973</td>\n",
       "      <td>0.196899</td>\n",
       "      <td>10</td>\n",
       "      <td>5</td>\n",
       "      <td>723.0</td>\n",
       "    </tr>\n",
       "    <tr>\n",
       "      <th>11128002</th>\n",
       "      <td>45</td>\n",
       "      <td>19648</td>\n",
       "      <td>34</td>\n",
       "      <td>0.0</td>\n",
       "      <td>20</td>\n",
       "      <td>40</td>\n",
       "      <td>11</td>\n",
       "      <td>4</td>\n",
       "      <td>0.0</td>\n",
       "      <td>0.0</td>\n",
       "      <td>...</td>\n",
       "      <td>0.139038</td>\n",
       "      <td>0.137573</td>\n",
       "      <td>NaN</td>\n",
       "      <td>0.083740</td>\n",
       "      <td>0.074097</td>\n",
       "      <td>0.224243</td>\n",
       "      <td>0.220825</td>\n",
       "      <td>10</td>\n",
       "      <td>5</td>\n",
       "      <td>723.0</td>\n",
       "    </tr>\n",
       "    <tr>\n",
       "      <th>11128003</th>\n",
       "      <td>45</td>\n",
       "      <td>969</td>\n",
       "      <td>34</td>\n",
       "      <td>0.0</td>\n",
       "      <td>20</td>\n",
       "      <td>37</td>\n",
       "      <td>11</td>\n",
       "      <td>1</td>\n",
       "      <td>0.0</td>\n",
       "      <td>0.0</td>\n",
       "      <td>...</td>\n",
       "      <td>0.139038</td>\n",
       "      <td>0.137573</td>\n",
       "      <td>0.181274</td>\n",
       "      <td>0.128174</td>\n",
       "      <td>0.067444</td>\n",
       "      <td>0.224243</td>\n",
       "      <td>0.240967</td>\n",
       "      <td>10</td>\n",
       "      <td>5</td>\n",
       "      <td>723.0</td>\n",
       "    </tr>\n",
       "  </tbody>\n",
       "</table>\n",
       "<p>10 rows × 32 columns</p>\n",
       "</div>"
      ],
      "text/plain": [
       "          shop_id  item_id  date_block_num  item_cnt_month  shop_city  \\\n",
       "0               2       19               0             0.0          0   \n",
       "1               2       27               0             1.0          0   \n",
       "2               2       28               0             0.0          0   \n",
       "3               2       29               0             0.0          0   \n",
       "4               2       32               0             0.0          0   \n",
       "11127999       45    18454              34             0.0         20   \n",
       "11128000       45    16188              34             0.0         20   \n",
       "11128001       45    15757              34             0.0         20   \n",
       "11128002       45    19648              34             0.0         20   \n",
       "11128003       45      969              34             0.0         20   \n",
       "\n",
       "          item_category_id  main_category_id  sub_category_id  \\\n",
       "0                       40                11                4   \n",
       "1                       19                 5               10   \n",
       "2                       30                 8               55   \n",
       "3                       23                 5               16   \n",
       "4                       40                11                4   \n",
       "11127999                55                13                2   \n",
       "11128000                64                14               42   \n",
       "11128001                55                13                2   \n",
       "11128002                40                11                4   \n",
       "11128003                37                11                1   \n",
       "\n",
       "          item_cnt_month_lag_1  item_cnt_month_lag_2  ...  \\\n",
       "0                          NaN                   NaN  ...   \n",
       "1                          NaN                   NaN  ...   \n",
       "2                          NaN                   NaN  ...   \n",
       "3                          NaN                   NaN  ...   \n",
       "4                          NaN                   NaN  ...   \n",
       "11127999                   1.0                   0.0  ...   \n",
       "11128000                   0.0                   0.0  ...   \n",
       "11128001                   0.0                   0.0  ...   \n",
       "11128002                   0.0                   0.0  ...   \n",
       "11128003                   0.0                   0.0  ...   \n",
       "\n",
       "          shop_month_mean_lag_3  shop_month_mean_lag_6  \\\n",
       "0                           NaN                    NaN   \n",
       "1                           NaN                    NaN   \n",
       "2                           NaN                    NaN   \n",
       "3                           NaN                    NaN   \n",
       "4                           NaN                    NaN   \n",
       "11127999               0.139038               0.137573   \n",
       "11128000                    NaN                    NaN   \n",
       "11128001               0.139038               0.137573   \n",
       "11128002               0.139038               0.137573   \n",
       "11128003               0.139038               0.137573   \n",
       "\n",
       "          shop_month_mean_lag_12  shop_category_month_mean_lag_1  \\\n",
       "0                            NaN                             NaN   \n",
       "1                            NaN                             NaN   \n",
       "2                            NaN                             NaN   \n",
       "3                            NaN                             NaN   \n",
       "4                            NaN                             NaN   \n",
       "11127999                     NaN                        0.126831   \n",
       "11128000                     NaN                        0.094482   \n",
       "11128001                0.181274                        0.126831   \n",
       "11128002                     NaN                        0.083740   \n",
       "11128003                0.181274                        0.128174   \n",
       "\n",
       "          shop_category_month_mean_lag_2  main_category_month_mean_lag_1  \\\n",
       "0                                    NaN                             NaN   \n",
       "1                                    NaN                             NaN   \n",
       "2                                    NaN                             NaN   \n",
       "3                                    NaN                             NaN   \n",
       "4                                    NaN                             NaN   \n",
       "11127999                        0.074524                        0.146973   \n",
       "11128000                        0.117126                        0.237305   \n",
       "11128001                        0.074524                        0.146973   \n",
       "11128002                        0.074097                        0.224243   \n",
       "11128003                        0.067444                        0.224243   \n",
       "\n",
       "          sub_category_month_mean_lag_1  month  holidays_in_month   moex  \n",
       "0                                   NaN      0                  6    NaN  \n",
       "1                                   NaN      0                  6    NaN  \n",
       "2                                   NaN      0                  6    NaN  \n",
       "3                                   NaN      0                  6    NaN  \n",
       "4                                   NaN      0                  6    NaN  \n",
       "11127999                       0.196899     10                  5  723.0  \n",
       "11128000                       0.155884     10                  5  723.0  \n",
       "11128001                       0.196899     10                  5  723.0  \n",
       "11128002                       0.220825     10                  5  723.0  \n",
       "11128003                       0.240967     10                  5  723.0  \n",
       "\n",
       "[10 rows x 32 columns]"
      ]
     },
     "execution_count": 91,
     "metadata": {},
     "output_type": "execute_result"
    }
   ],
   "source": [
    "#再一次数据类型转换\n",
    "new_train = downcast_dtypes(new_train)\n",
    "new_train.head().append(new_train.tail())"
   ]
  },
  {
   "cell_type": "markdown",
   "metadata": {
    "papermill": {
     "duration": 0.03278,
     "end_time": "2020-08-23T07:32:40.522432",
     "exception": false,
     "start_time": "2020-08-23T07:32:40.489652",
     "status": "completed"
    },
    "tags": []
   },
   "source": [
    "#### 数据集切分"
   ]
  },
  {
   "cell_type": "code",
   "execution_count": 92,
   "metadata": {
    "execution": {
     "iopub.execute_input": "2020-08-23T07:32:40.594639Z",
     "iopub.status.busy": "2020-08-23T07:32:40.593892Z",
     "iopub.status.idle": "2020-08-23T07:32:41.431132Z",
     "shell.execute_reply": "2020-08-23T07:32:41.432142Z"
    },
    "papermill": {
     "duration": 0.876648,
     "end_time": "2020-08-23T07:32:41.432370",
     "exception": false,
     "start_time": "2020-08-23T07:32:40.555722",
     "status": "completed"
    },
    "tags": []
   },
   "outputs": [],
   "source": [
    "#因为第一年没有俄罗斯证券交易的数据特征，因此从第二年开始作为输入\n",
    "new_train = new_train[new_train.date_block_num > 11]"
   ]
  },
  {
   "cell_type": "code",
   "execution_count": 93,
   "metadata": {
    "execution": {
     "iopub.execute_input": "2020-08-23T07:32:41.507293Z",
     "iopub.status.busy": "2020-08-23T07:32:41.506602Z",
     "iopub.status.idle": "2020-08-23T07:32:43.064093Z",
     "shell.execute_reply": "2020-08-23T07:32:43.063352Z"
    },
    "papermill": {
     "duration": 1.597959,
     "end_time": "2020-08-23T07:32:43.064253",
     "exception": false,
     "start_time": "2020-08-23T07:32:41.466294",
     "status": "completed"
    },
    "tags": []
   },
   "outputs": [],
   "source": [
    "#使用0来填补，表示没有数据的样本\n",
    "def fill_nan(df):\n",
    "    for col in df.columns:\n",
    "        if ('_lag_' in col) & (df[col].isna().any()):\n",
    "            df[col].fillna(0, inplace=True)         \n",
    "    return df\n",
    "\n",
    "new_train =  fill_nan(new_train)"
   ]
  },
  {
   "cell_type": "markdown",
   "metadata": {
    "papermill": {
     "duration": 0.033207,
     "end_time": "2020-08-23T07:32:43.131339",
     "exception": false,
     "start_time": "2020-08-23T07:32:43.098132",
     "status": "completed"
    },
    "tags": []
   },
   "source": [
    "##### 训练集"
   ]
  },
  {
   "cell_type": "code",
   "execution_count": 94,
   "metadata": {
    "execution": {
     "iopub.execute_input": "2020-08-23T07:32:43.204900Z",
     "iopub.status.busy": "2020-08-23T07:32:43.204126Z",
     "iopub.status.idle": "2020-08-23T07:32:44.822488Z",
     "shell.execute_reply": "2020-08-23T07:32:44.821744Z"
    },
    "papermill": {
     "duration": 1.657089,
     "end_time": "2020-08-23T07:32:44.822619",
     "exception": false,
     "start_time": "2020-08-23T07:32:43.165530",
     "status": "completed"
    },
    "tags": []
   },
   "outputs": [],
   "source": [
    "#训练数据的特征提取\n",
    "train_feature = new_train[new_train.date_block_num < 33].drop(['item_cnt_month'], axis=1)\n",
    "#训练数据的标签提取\n",
    "train_label = new_train[new_train.date_block_num < 33]['item_cnt_month']"
   ]
  },
  {
   "cell_type": "markdown",
   "metadata": {
    "papermill": {
     "duration": 0.034155,
     "end_time": "2020-08-23T07:32:44.891136",
     "exception": false,
     "start_time": "2020-08-23T07:32:44.856981",
     "status": "completed"
    },
    "tags": []
   },
   "source": [
    "##### 验证集"
   ]
  },
  {
   "cell_type": "code",
   "execution_count": 95,
   "metadata": {
    "execution": {
     "iopub.execute_input": "2020-08-23T07:32:44.965645Z",
     "iopub.status.busy": "2020-08-23T07:32:44.964890Z",
     "iopub.status.idle": "2020-08-23T07:32:45.022952Z",
     "shell.execute_reply": "2020-08-23T07:32:45.022350Z"
    },
    "papermill": {
     "duration": 0.097795,
     "end_time": "2020-08-23T07:32:45.023075",
     "exception": false,
     "start_time": "2020-08-23T07:32:44.925280",
     "status": "completed"
    },
    "tags": []
   },
   "outputs": [],
   "source": [
    "#验证数据的特征提取\n",
    "val_feature = new_train[new_train.date_block_num == 33].drop(['item_cnt_month'], axis=1)\n",
    "#验证数据的标签提取\n",
    "val_label = new_train[new_train.date_block_num == 33]['item_cnt_month']"
   ]
  },
  {
   "cell_type": "markdown",
   "metadata": {
    "papermill": {
     "duration": 0.033587,
     "end_time": "2020-08-23T07:32:45.090543",
     "exception": false,
     "start_time": "2020-08-23T07:32:45.056956",
     "status": "completed"
    },
    "tags": []
   },
   "source": [
    "##### 测试集（待预测）"
   ]
  },
  {
   "cell_type": "code",
   "execution_count": 96,
   "metadata": {
    "execution": {
     "iopub.execute_input": "2020-08-23T07:32:45.163347Z",
     "iopub.status.busy": "2020-08-23T07:32:45.162661Z",
     "iopub.status.idle": "2020-08-23T07:32:45.194686Z",
     "shell.execute_reply": "2020-08-23T07:32:45.194029Z"
    },
    "papermill": {
     "duration": 0.070695,
     "end_time": "2020-08-23T07:32:45.194814",
     "exception": false,
     "start_time": "2020-08-23T07:32:45.124119",
     "status": "completed"
    },
    "tags": []
   },
   "outputs": [],
   "source": [
    "test_feature = new_train[new_train.date_block_num == 34].drop(['item_cnt_month'], axis=1)"
   ]
  },
  {
   "cell_type": "code",
   "execution_count": 97,
   "metadata": {
    "execution": {
     "iopub.execute_input": "2020-08-23T07:32:45.268881Z",
     "iopub.status.busy": "2020-08-23T07:32:45.267989Z",
     "iopub.status.idle": "2020-08-23T07:32:45.272222Z",
     "shell.execute_reply": "2020-08-23T07:32:45.271692Z"
    },
    "papermill": {
     "duration": 0.043879,
     "end_time": "2020-08-23T07:32:45.272341",
     "exception": false,
     "start_time": "2020-08-23T07:32:45.228462",
     "status": "completed"
    },
    "tags": []
   },
   "outputs": [
    {
     "data": {
      "text/plain": [
       "((6186922, 31), (6186922,), (238172, 31), (238172,))"
      ]
     },
     "execution_count": 97,
     "metadata": {},
     "output_type": "execute_result"
    }
   ],
   "source": [
    "train_feature.shape,train_label.shape,val_feature.shape,val_label.shape"
   ]
  },
  {
   "cell_type": "code",
   "execution_count": 98,
   "metadata": {
    "execution": {
     "iopub.execute_input": "2020-08-23T07:32:45.359829Z",
     "iopub.status.busy": "2020-08-23T07:32:45.359096Z",
     "iopub.status.idle": "2020-08-23T07:32:45.370816Z",
     "shell.execute_reply": "2020-08-23T07:32:45.371309Z"
    },
    "papermill": {
     "duration": 0.065236,
     "end_time": "2020-08-23T07:32:45.371463",
     "exception": false,
     "start_time": "2020-08-23T07:32:45.306227",
     "status": "completed"
    },
    "tags": []
   },
   "outputs": [
    {
     "data": {
      "text/html": [
       "<div>\n",
       "<style scoped>\n",
       "    .dataframe tbody tr th:only-of-type {\n",
       "        vertical-align: middle;\n",
       "    }\n",
       "\n",
       "    .dataframe tbody tr th {\n",
       "        vertical-align: top;\n",
       "    }\n",
       "\n",
       "    .dataframe thead th {\n",
       "        text-align: right;\n",
       "    }\n",
       "</style>\n",
       "<table border=\"1\" class=\"dataframe\">\n",
       "  <thead>\n",
       "    <tr style=\"text-align: right;\">\n",
       "      <th></th>\n",
       "      <th>shop_id</th>\n",
       "      <th>item_id</th>\n",
       "      <th>date_block_num</th>\n",
       "      <th>shop_city</th>\n",
       "      <th>item_category_id</th>\n",
       "      <th>main_category_id</th>\n",
       "      <th>sub_category_id</th>\n",
       "      <th>item_cnt_month_lag_1</th>\n",
       "      <th>item_cnt_month_lag_2</th>\n",
       "      <th>item_cnt_month_lag_3</th>\n",
       "      <th>...</th>\n",
       "      <th>shop_month_mean_lag_3</th>\n",
       "      <th>shop_month_mean_lag_6</th>\n",
       "      <th>shop_month_mean_lag_12</th>\n",
       "      <th>shop_category_month_mean_lag_1</th>\n",
       "      <th>shop_category_month_mean_lag_2</th>\n",
       "      <th>main_category_month_mean_lag_1</th>\n",
       "      <th>sub_category_month_mean_lag_1</th>\n",
       "      <th>month</th>\n",
       "      <th>holidays_in_month</th>\n",
       "      <th>moex</th>\n",
       "    </tr>\n",
       "  </thead>\n",
       "  <tbody>\n",
       "    <tr>\n",
       "      <th>4488710</th>\n",
       "      <td>2</td>\n",
       "      <td>27</td>\n",
       "      <td>12</td>\n",
       "      <td>0</td>\n",
       "      <td>19</td>\n",
       "      <td>5</td>\n",
       "      <td>10</td>\n",
       "      <td>0.0</td>\n",
       "      <td>0.0</td>\n",
       "      <td>0.0</td>\n",
       "      <td>...</td>\n",
       "      <td>0.08905</td>\n",
       "      <td>0.096008</td>\n",
       "      <td>0.141235</td>\n",
       "      <td>0.955566</td>\n",
       "      <td>0.571289</td>\n",
       "      <td>1.03418</td>\n",
       "      <td>1.075195</td>\n",
       "      <td>0</td>\n",
       "      <td>6</td>\n",
       "      <td>659.0</td>\n",
       "    </tr>\n",
       "    <tr>\n",
       "      <th>4488711</th>\n",
       "      <td>2</td>\n",
       "      <td>30</td>\n",
       "      <td>12</td>\n",
       "      <td>0</td>\n",
       "      <td>40</td>\n",
       "      <td>11</td>\n",
       "      <td>4</td>\n",
       "      <td>0.0</td>\n",
       "      <td>0.0</td>\n",
       "      <td>0.0</td>\n",
       "      <td>...</td>\n",
       "      <td>0.08905</td>\n",
       "      <td>0.096008</td>\n",
       "      <td>0.000000</td>\n",
       "      <td>0.046234</td>\n",
       "      <td>0.022934</td>\n",
       "      <td>0.27002</td>\n",
       "      <td>0.291504</td>\n",
       "      <td>0</td>\n",
       "      <td>6</td>\n",
       "      <td>659.0</td>\n",
       "    </tr>\n",
       "    <tr>\n",
       "      <th>4488712</th>\n",
       "      <td>2</td>\n",
       "      <td>31</td>\n",
       "      <td>12</td>\n",
       "      <td>0</td>\n",
       "      <td>37</td>\n",
       "      <td>11</td>\n",
       "      <td>1</td>\n",
       "      <td>0.0</td>\n",
       "      <td>0.0</td>\n",
       "      <td>0.0</td>\n",
       "      <td>...</td>\n",
       "      <td>0.08905</td>\n",
       "      <td>0.096008</td>\n",
       "      <td>0.000000</td>\n",
       "      <td>0.059448</td>\n",
       "      <td>0.046814</td>\n",
       "      <td>0.27002</td>\n",
       "      <td>0.234009</td>\n",
       "      <td>0</td>\n",
       "      <td>6</td>\n",
       "      <td>659.0</td>\n",
       "    </tr>\n",
       "    <tr>\n",
       "      <th>4488713</th>\n",
       "      <td>2</td>\n",
       "      <td>32</td>\n",
       "      <td>12</td>\n",
       "      <td>0</td>\n",
       "      <td>40</td>\n",
       "      <td>11</td>\n",
       "      <td>4</td>\n",
       "      <td>0.0</td>\n",
       "      <td>0.0</td>\n",
       "      <td>0.0</td>\n",
       "      <td>...</td>\n",
       "      <td>0.08905</td>\n",
       "      <td>0.096008</td>\n",
       "      <td>0.141235</td>\n",
       "      <td>0.046234</td>\n",
       "      <td>0.022934</td>\n",
       "      <td>0.27002</td>\n",
       "      <td>0.291504</td>\n",
       "      <td>0</td>\n",
       "      <td>6</td>\n",
       "      <td>659.0</td>\n",
       "    </tr>\n",
       "    <tr>\n",
       "      <th>4488714</th>\n",
       "      <td>2</td>\n",
       "      <td>33</td>\n",
       "      <td>12</td>\n",
       "      <td>0</td>\n",
       "      <td>37</td>\n",
       "      <td>11</td>\n",
       "      <td>1</td>\n",
       "      <td>1.0</td>\n",
       "      <td>2.0</td>\n",
       "      <td>0.0</td>\n",
       "      <td>...</td>\n",
       "      <td>0.08905</td>\n",
       "      <td>0.096008</td>\n",
       "      <td>0.141235</td>\n",
       "      <td>0.059448</td>\n",
       "      <td>0.046814</td>\n",
       "      <td>0.27002</td>\n",
       "      <td>0.234009</td>\n",
       "      <td>0</td>\n",
       "      <td>6</td>\n",
       "      <td>659.0</td>\n",
       "    </tr>\n",
       "  </tbody>\n",
       "</table>\n",
       "<p>5 rows × 31 columns</p>\n",
       "</div>"
      ],
      "text/plain": [
       "         shop_id  item_id  date_block_num  shop_city  item_category_id  \\\n",
       "4488710        2       27              12          0                19   \n",
       "4488711        2       30              12          0                40   \n",
       "4488712        2       31              12          0                37   \n",
       "4488713        2       32              12          0                40   \n",
       "4488714        2       33              12          0                37   \n",
       "\n",
       "         main_category_id  sub_category_id  item_cnt_month_lag_1  \\\n",
       "4488710                 5               10                   0.0   \n",
       "4488711                11                4                   0.0   \n",
       "4488712                11                1                   0.0   \n",
       "4488713                11                4                   0.0   \n",
       "4488714                11                1                   1.0   \n",
       "\n",
       "         item_cnt_month_lag_2  item_cnt_month_lag_3  ...  \\\n",
       "4488710                   0.0                   0.0  ...   \n",
       "4488711                   0.0                   0.0  ...   \n",
       "4488712                   0.0                   0.0  ...   \n",
       "4488713                   0.0                   0.0  ...   \n",
       "4488714                   2.0                   0.0  ...   \n",
       "\n",
       "         shop_month_mean_lag_3  shop_month_mean_lag_6  shop_month_mean_lag_12  \\\n",
       "4488710                0.08905               0.096008                0.141235   \n",
       "4488711                0.08905               0.096008                0.000000   \n",
       "4488712                0.08905               0.096008                0.000000   \n",
       "4488713                0.08905               0.096008                0.141235   \n",
       "4488714                0.08905               0.096008                0.141235   \n",
       "\n",
       "         shop_category_month_mean_lag_1  shop_category_month_mean_lag_2  \\\n",
       "4488710                        0.955566                        0.571289   \n",
       "4488711                        0.046234                        0.022934   \n",
       "4488712                        0.059448                        0.046814   \n",
       "4488713                        0.046234                        0.022934   \n",
       "4488714                        0.059448                        0.046814   \n",
       "\n",
       "         main_category_month_mean_lag_1  sub_category_month_mean_lag_1  month  \\\n",
       "4488710                         1.03418                       1.075195      0   \n",
       "4488711                         0.27002                       0.291504      0   \n",
       "4488712                         0.27002                       0.234009      0   \n",
       "4488713                         0.27002                       0.291504      0   \n",
       "4488714                         0.27002                       0.234009      0   \n",
       "\n",
       "         holidays_in_month   moex  \n",
       "4488710                  6  659.0  \n",
       "4488711                  6  659.0  \n",
       "4488712                  6  659.0  \n",
       "4488713                  6  659.0  \n",
       "4488714                  6  659.0  \n",
       "\n",
       "[5 rows x 31 columns]"
      ]
     },
     "execution_count": 98,
     "metadata": {},
     "output_type": "execute_result"
    }
   ],
   "source": [
    "train_feature.head()"
   ]
  },
  {
   "cell_type": "code",
   "execution_count": 99,
   "metadata": {
    "execution": {
     "iopub.execute_input": "2020-08-23T07:32:45.616494Z",
     "iopub.status.busy": "2020-08-23T07:32:45.615732Z",
     "iopub.status.idle": "2020-08-23T07:32:45.621242Z",
     "shell.execute_reply": "2020-08-23T07:32:45.620637Z"
    },
    "papermill": {
     "duration": 0.214948,
     "end_time": "2020-08-23T07:32:45.621363",
     "exception": false,
     "start_time": "2020-08-23T07:32:45.406415",
     "status": "completed"
    },
    "tags": []
   },
   "outputs": [
    {
     "data": {
      "text/plain": [
       "23052"
      ]
     },
     "execution_count": 99,
     "metadata": {},
     "output_type": "execute_result"
    }
   ],
   "source": [
    "import gc\n",
    "gc.collect()"
   ]
  },
  {
   "cell_type": "markdown",
   "metadata": {
    "papermill": {
     "duration": 0.034036,
     "end_time": "2020-08-23T07:32:45.689955",
     "exception": false,
     "start_time": "2020-08-23T07:32:45.655919",
     "status": "completed"
    },
    "tags": []
   },
   "source": [
    "### 模型搭建与优化"
   ]
  },
  {
   "cell_type": "markdown",
   "metadata": {
    "papermill": {
     "duration": 0.034366,
     "end_time": "2020-08-23T07:32:45.758742",
     "exception": false,
     "start_time": "2020-08-23T07:32:45.724376",
     "status": "completed"
    },
    "tags": []
   },
   "source": [
    "#### 使用XGBOOST模型进行预测"
   ]
  },
  {
   "cell_type": "code",
   "execution_count": 100,
   "metadata": {
    "execution": {
     "iopub.execute_input": "2020-08-23T07:32:45.840894Z",
     "iopub.status.busy": "2020-08-23T07:32:45.840268Z",
     "iopub.status.idle": "2020-08-23T07:32:46.703420Z",
     "shell.execute_reply": "2020-08-23T07:32:46.702262Z"
    },
    "papermill": {
     "duration": 0.910029,
     "end_time": "2020-08-23T07:32:46.703567",
     "exception": false,
     "start_time": "2020-08-23T07:32:45.793538",
     "status": "completed"
    },
    "tags": []
   },
   "outputs": [],
   "source": [
    "from xgboost import XGBRegressor"
   ]
  },
  {
   "cell_type": "code",
   "execution_count": 101,
   "metadata": {
    "execution": {
     "iopub.execute_input": "2020-08-23T07:32:46.779234Z",
     "iopub.status.busy": "2020-08-23T07:32:46.778546Z",
     "iopub.status.idle": "2020-08-23T07:32:46.781825Z",
     "shell.execute_reply": "2020-08-23T07:32:46.781120Z"
    },
    "papermill": {
     "duration": 0.043287,
     "end_time": "2020-08-23T07:32:46.781952",
     "exception": false,
     "start_time": "2020-08-23T07:32:46.738665",
     "status": "completed"
    },
    "tags": []
   },
   "outputs": [],
   "source": [
    "#设定模型参数\n",
    "model = XGBRegressor(n_estimators=3000,\n",
    "                     max_depth=10,\n",
    "                     colsample_bytree=0.5, \n",
    "                     subsample=0.5, \n",
    "                     learning_rate = 0.01\n",
    "                    )"
   ]
  },
  {
   "cell_type": "code",
   "execution_count": 102,
   "metadata": {
    "execution": {
     "iopub.execute_input": "2020-08-23T07:32:46.858244Z",
     "iopub.status.busy": "2020-08-23T07:32:46.857531Z",
     "iopub.status.idle": "2020-08-23T08:46:47.733438Z",
     "shell.execute_reply": "2020-08-23T08:46:47.732860Z"
    },
    "papermill": {
     "duration": 4440.916112,
     "end_time": "2020-08-23T08:46:47.733582",
     "exception": false,
     "start_time": "2020-08-23T07:32:46.817470",
     "status": "completed"
    },
    "tags": []
   },
   "outputs": [
    {
     "name": "stdout",
     "output_type": "stream",
     "text": [
      "[07:33:04] WARNING: /workspace/src/gbm/gbtree.cc:139: Tree method is automatically selected to be 'approx' for faster speed. To use old behavior (exact greedy algorithm on single machine), set tree_method to 'exact'.\n",
      "[0]\tvalidation_0-rmse:1.20341\tvalidation_1-rmse:1.15790\n",
      "Multiple eval metrics have been passed: 'validation_1-rmse' will be used for early stopping.\n",
      "\n",
      "Will train until validation_1-rmse hasn't improved in 50 rounds.\n",
      "[1]\tvalidation_0-rmse:1.19964\tvalidation_1-rmse:1.15431\n",
      "[2]\tvalidation_0-rmse:1.19618\tvalidation_1-rmse:1.15051\n",
      "[3]\tvalidation_0-rmse:1.19220\tvalidation_1-rmse:1.14701\n",
      "[4]\tvalidation_0-rmse:1.18785\tvalidation_1-rmse:1.14315\n",
      "[5]\tvalidation_0-rmse:1.18371\tvalidation_1-rmse:1.13949\n",
      "[6]\tvalidation_0-rmse:1.17886\tvalidation_1-rmse:1.13612\n",
      "[7]\tvalidation_0-rmse:1.17300\tvalidation_1-rmse:1.13222\n",
      "[8]\tvalidation_0-rmse:1.16833\tvalidation_1-rmse:1.12895\n",
      "[9]\tvalidation_0-rmse:1.16363\tvalidation_1-rmse:1.12522\n",
      "[10]\tvalidation_0-rmse:1.15895\tvalidation_1-rmse:1.12146\n",
      "[11]\tvalidation_0-rmse:1.15491\tvalidation_1-rmse:1.11835\n",
      "[12]\tvalidation_0-rmse:1.15091\tvalidation_1-rmse:1.11482\n",
      "[13]\tvalidation_0-rmse:1.14696\tvalidation_1-rmse:1.11145\n",
      "[14]\tvalidation_0-rmse:1.14106\tvalidation_1-rmse:1.10810\n",
      "[15]\tvalidation_0-rmse:1.13423\tvalidation_1-rmse:1.10524\n",
      "[16]\tvalidation_0-rmse:1.12835\tvalidation_1-rmse:1.10205\n",
      "[17]\tvalidation_0-rmse:1.12338\tvalidation_1-rmse:1.09888\n",
      "[18]\tvalidation_0-rmse:1.11956\tvalidation_1-rmse:1.09612\n",
      "[19]\tvalidation_0-rmse:1.11468\tvalidation_1-rmse:1.09292\n",
      "[20]\tvalidation_0-rmse:1.11021\tvalidation_1-rmse:1.08982\n",
      "[21]\tvalidation_0-rmse:1.10573\tvalidation_1-rmse:1.08662\n",
      "[22]\tvalidation_0-rmse:1.10167\tvalidation_1-rmse:1.08350\n",
      "[23]\tvalidation_0-rmse:1.09762\tvalidation_1-rmse:1.08056\n",
      "[24]\tvalidation_0-rmse:1.09277\tvalidation_1-rmse:1.07758\n",
      "[25]\tvalidation_0-rmse:1.08938\tvalidation_1-rmse:1.07537\n",
      "[26]\tvalidation_0-rmse:1.08508\tvalidation_1-rmse:1.07264\n",
      "[27]\tvalidation_0-rmse:1.08159\tvalidation_1-rmse:1.07039\n",
      "[28]\tvalidation_0-rmse:1.07790\tvalidation_1-rmse:1.06769\n",
      "[29]\tvalidation_0-rmse:1.07411\tvalidation_1-rmse:1.06506\n",
      "[30]\tvalidation_0-rmse:1.07030\tvalidation_1-rmse:1.06232\n",
      "[31]\tvalidation_0-rmse:1.06666\tvalidation_1-rmse:1.05957\n",
      "[32]\tvalidation_0-rmse:1.06318\tvalidation_1-rmse:1.05705\n",
      "[33]\tvalidation_0-rmse:1.06008\tvalidation_1-rmse:1.05471\n",
      "[34]\tvalidation_0-rmse:1.05691\tvalidation_1-rmse:1.05224\n",
      "[35]\tvalidation_0-rmse:1.05392\tvalidation_1-rmse:1.04996\n",
      "[36]\tvalidation_0-rmse:1.05170\tvalidation_1-rmse:1.04802\n",
      "[37]\tvalidation_0-rmse:1.04948\tvalidation_1-rmse:1.04604\n",
      "[38]\tvalidation_0-rmse:1.04733\tvalidation_1-rmse:1.04423\n",
      "[39]\tvalidation_0-rmse:1.04469\tvalidation_1-rmse:1.04208\n",
      "[40]\tvalidation_0-rmse:1.04217\tvalidation_1-rmse:1.04002\n",
      "[41]\tvalidation_0-rmse:1.03933\tvalidation_1-rmse:1.03771\n",
      "[42]\tvalidation_0-rmse:1.03713\tvalidation_1-rmse:1.03608\n",
      "[43]\tvalidation_0-rmse:1.03451\tvalidation_1-rmse:1.03412\n",
      "[44]\tvalidation_0-rmse:1.03181\tvalidation_1-rmse:1.03205\n",
      "[45]\tvalidation_0-rmse:1.03000\tvalidation_1-rmse:1.03047\n",
      "[46]\tvalidation_0-rmse:1.02733\tvalidation_1-rmse:1.02829\n",
      "[47]\tvalidation_0-rmse:1.02466\tvalidation_1-rmse:1.02620\n",
      "[48]\tvalidation_0-rmse:1.02209\tvalidation_1-rmse:1.02438\n",
      "[49]\tvalidation_0-rmse:1.01943\tvalidation_1-rmse:1.02252\n",
      "[50]\tvalidation_0-rmse:1.01651\tvalidation_1-rmse:1.02061\n",
      "[51]\tvalidation_0-rmse:1.01376\tvalidation_1-rmse:1.01891\n",
      "[52]\tvalidation_0-rmse:1.01092\tvalidation_1-rmse:1.01706\n",
      "[53]\tvalidation_0-rmse:1.00809\tvalidation_1-rmse:1.01503\n",
      "[54]\tvalidation_0-rmse:1.00557\tvalidation_1-rmse:1.01339\n",
      "[55]\tvalidation_0-rmse:1.00331\tvalidation_1-rmse:1.01185\n",
      "[56]\tvalidation_0-rmse:1.00082\tvalidation_1-rmse:1.01019\n",
      "[57]\tvalidation_0-rmse:0.99825\tvalidation_1-rmse:1.00849\n",
      "[58]\tvalidation_0-rmse:0.99587\tvalidation_1-rmse:1.00684\n",
      "[59]\tvalidation_0-rmse:0.99340\tvalidation_1-rmse:1.00537\n",
      "[60]\tvalidation_0-rmse:0.99099\tvalidation_1-rmse:1.00378\n",
      "[61]\tvalidation_0-rmse:0.98860\tvalidation_1-rmse:1.00215\n",
      "[62]\tvalidation_0-rmse:0.98690\tvalidation_1-rmse:1.00086\n",
      "[63]\tvalidation_0-rmse:0.98463\tvalidation_1-rmse:0.99951\n",
      "[64]\tvalidation_0-rmse:0.98259\tvalidation_1-rmse:0.99811\n",
      "[65]\tvalidation_0-rmse:0.98043\tvalidation_1-rmse:0.99658\n",
      "[66]\tvalidation_0-rmse:0.97882\tvalidation_1-rmse:0.99548\n",
      "[67]\tvalidation_0-rmse:0.97691\tvalidation_1-rmse:0.99415\n",
      "[68]\tvalidation_0-rmse:0.97483\tvalidation_1-rmse:0.99283\n",
      "[69]\tvalidation_0-rmse:0.97279\tvalidation_1-rmse:0.99157\n",
      "[70]\tvalidation_0-rmse:0.97006\tvalidation_1-rmse:0.99012\n",
      "[71]\tvalidation_0-rmse:0.96792\tvalidation_1-rmse:0.98895\n",
      "[72]\tvalidation_0-rmse:0.96586\tvalidation_1-rmse:0.98775\n",
      "[73]\tvalidation_0-rmse:0.96374\tvalidation_1-rmse:0.98643\n",
      "[74]\tvalidation_0-rmse:0.96179\tvalidation_1-rmse:0.98530\n",
      "[75]\tvalidation_0-rmse:0.95985\tvalidation_1-rmse:0.98417\n",
      "[76]\tvalidation_0-rmse:0.95797\tvalidation_1-rmse:0.98309\n",
      "[77]\tvalidation_0-rmse:0.95578\tvalidation_1-rmse:0.98183\n",
      "[78]\tvalidation_0-rmse:0.95417\tvalidation_1-rmse:0.98088\n",
      "[79]\tvalidation_0-rmse:0.95222\tvalidation_1-rmse:0.97966\n",
      "[80]\tvalidation_0-rmse:0.95066\tvalidation_1-rmse:0.97877\n",
      "[81]\tvalidation_0-rmse:0.94873\tvalidation_1-rmse:0.97758\n",
      "[82]\tvalidation_0-rmse:0.94692\tvalidation_1-rmse:0.97647\n",
      "[83]\tvalidation_0-rmse:0.94504\tvalidation_1-rmse:0.97532\n",
      "[84]\tvalidation_0-rmse:0.94330\tvalidation_1-rmse:0.97440\n",
      "[85]\tvalidation_0-rmse:0.94183\tvalidation_1-rmse:0.97358\n",
      "[86]\tvalidation_0-rmse:0.94031\tvalidation_1-rmse:0.97264\n",
      "[87]\tvalidation_0-rmse:0.93863\tvalidation_1-rmse:0.97170\n",
      "[88]\tvalidation_0-rmse:0.93693\tvalidation_1-rmse:0.97069\n",
      "[89]\tvalidation_0-rmse:0.93547\tvalidation_1-rmse:0.96968\n",
      "[90]\tvalidation_0-rmse:0.93391\tvalidation_1-rmse:0.96875\n",
      "[91]\tvalidation_0-rmse:0.93277\tvalidation_1-rmse:0.96798\n",
      "[92]\tvalidation_0-rmse:0.93122\tvalidation_1-rmse:0.96712\n",
      "[93]\tvalidation_0-rmse:0.92975\tvalidation_1-rmse:0.96625\n",
      "[94]\tvalidation_0-rmse:0.92820\tvalidation_1-rmse:0.96530\n",
      "[95]\tvalidation_0-rmse:0.92668\tvalidation_1-rmse:0.96454\n",
      "[96]\tvalidation_0-rmse:0.92547\tvalidation_1-rmse:0.96378\n",
      "[97]\tvalidation_0-rmse:0.92396\tvalidation_1-rmse:0.96283\n",
      "[98]\tvalidation_0-rmse:0.92250\tvalidation_1-rmse:0.96192\n",
      "[99]\tvalidation_0-rmse:0.92128\tvalidation_1-rmse:0.96116\n",
      "[100]\tvalidation_0-rmse:0.92023\tvalidation_1-rmse:0.96049\n",
      "[101]\tvalidation_0-rmse:0.91895\tvalidation_1-rmse:0.95967\n",
      "[102]\tvalidation_0-rmse:0.91768\tvalidation_1-rmse:0.95883\n",
      "[103]\tvalidation_0-rmse:0.91642\tvalidation_1-rmse:0.95805\n",
      "[104]\tvalidation_0-rmse:0.91501\tvalidation_1-rmse:0.95736\n",
      "[105]\tvalidation_0-rmse:0.91360\tvalidation_1-rmse:0.95660\n",
      "[106]\tvalidation_0-rmse:0.91199\tvalidation_1-rmse:0.95578\n",
      "[107]\tvalidation_0-rmse:0.91045\tvalidation_1-rmse:0.95496\n",
      "[108]\tvalidation_0-rmse:0.90894\tvalidation_1-rmse:0.95418\n",
      "[109]\tvalidation_0-rmse:0.90755\tvalidation_1-rmse:0.95349\n",
      "[110]\tvalidation_0-rmse:0.90619\tvalidation_1-rmse:0.95280\n",
      "[111]\tvalidation_0-rmse:0.90515\tvalidation_1-rmse:0.95225\n",
      "[112]\tvalidation_0-rmse:0.90397\tvalidation_1-rmse:0.95163\n",
      "[113]\tvalidation_0-rmse:0.90292\tvalidation_1-rmse:0.95107\n",
      "[114]\tvalidation_0-rmse:0.90178\tvalidation_1-rmse:0.95053\n",
      "[115]\tvalidation_0-rmse:0.90045\tvalidation_1-rmse:0.94985\n",
      "[116]\tvalidation_0-rmse:0.89912\tvalidation_1-rmse:0.94928\n",
      "[117]\tvalidation_0-rmse:0.89784\tvalidation_1-rmse:0.94872\n",
      "[118]\tvalidation_0-rmse:0.89659\tvalidation_1-rmse:0.94816\n",
      "[119]\tvalidation_0-rmse:0.89546\tvalidation_1-rmse:0.94762\n",
      "[120]\tvalidation_0-rmse:0.89428\tvalidation_1-rmse:0.94712\n",
      "[121]\tvalidation_0-rmse:0.89310\tvalidation_1-rmse:0.94654\n",
      "[122]\tvalidation_0-rmse:0.89201\tvalidation_1-rmse:0.94596\n",
      "[123]\tvalidation_0-rmse:0.89123\tvalidation_1-rmse:0.94551\n",
      "[124]\tvalidation_0-rmse:0.89038\tvalidation_1-rmse:0.94500\n",
      "[125]\tvalidation_0-rmse:0.88929\tvalidation_1-rmse:0.94443\n",
      "[126]\tvalidation_0-rmse:0.88821\tvalidation_1-rmse:0.94395\n",
      "[127]\tvalidation_0-rmse:0.88724\tvalidation_1-rmse:0.94356\n",
      "[128]\tvalidation_0-rmse:0.88625\tvalidation_1-rmse:0.94306\n",
      "[129]\tvalidation_0-rmse:0.88523\tvalidation_1-rmse:0.94264\n",
      "[130]\tvalidation_0-rmse:0.88425\tvalidation_1-rmse:0.94217\n",
      "[131]\tvalidation_0-rmse:0.88341\tvalidation_1-rmse:0.94175\n",
      "[132]\tvalidation_0-rmse:0.88245\tvalidation_1-rmse:0.94128\n",
      "[133]\tvalidation_0-rmse:0.88163\tvalidation_1-rmse:0.94079\n",
      "[134]\tvalidation_0-rmse:0.88077\tvalidation_1-rmse:0.94029\n",
      "[135]\tvalidation_0-rmse:0.87989\tvalidation_1-rmse:0.93991\n",
      "[136]\tvalidation_0-rmse:0.87897\tvalidation_1-rmse:0.93950\n",
      "[137]\tvalidation_0-rmse:0.87805\tvalidation_1-rmse:0.93909\n",
      "[138]\tvalidation_0-rmse:0.87717\tvalidation_1-rmse:0.93867\n",
      "[139]\tvalidation_0-rmse:0.87630\tvalidation_1-rmse:0.93829\n",
      "[140]\tvalidation_0-rmse:0.87551\tvalidation_1-rmse:0.93801\n",
      "[141]\tvalidation_0-rmse:0.87457\tvalidation_1-rmse:0.93766\n",
      "[142]\tvalidation_0-rmse:0.87377\tvalidation_1-rmse:0.93729\n",
      "[143]\tvalidation_0-rmse:0.87291\tvalidation_1-rmse:0.93689\n",
      "[144]\tvalidation_0-rmse:0.87210\tvalidation_1-rmse:0.93654\n",
      "[145]\tvalidation_0-rmse:0.87142\tvalidation_1-rmse:0.93627\n",
      "[146]\tvalidation_0-rmse:0.87087\tvalidation_1-rmse:0.93597\n",
      "[147]\tvalidation_0-rmse:0.87005\tvalidation_1-rmse:0.93561\n",
      "[148]\tvalidation_0-rmse:0.86927\tvalidation_1-rmse:0.93517\n",
      "[149]\tvalidation_0-rmse:0.86846\tvalidation_1-rmse:0.93488\n",
      "[150]\tvalidation_0-rmse:0.86767\tvalidation_1-rmse:0.93450\n",
      "[151]\tvalidation_0-rmse:0.86710\tvalidation_1-rmse:0.93421\n",
      "[152]\tvalidation_0-rmse:0.86627\tvalidation_1-rmse:0.93393\n",
      "[153]\tvalidation_0-rmse:0.86554\tvalidation_1-rmse:0.93357\n",
      "[154]\tvalidation_0-rmse:0.86491\tvalidation_1-rmse:0.93334\n",
      "[155]\tvalidation_0-rmse:0.86418\tvalidation_1-rmse:0.93297\n",
      "[156]\tvalidation_0-rmse:0.86357\tvalidation_1-rmse:0.93270\n",
      "[157]\tvalidation_0-rmse:0.86294\tvalidation_1-rmse:0.93237\n",
      "[158]\tvalidation_0-rmse:0.86219\tvalidation_1-rmse:0.93213\n",
      "[159]\tvalidation_0-rmse:0.86156\tvalidation_1-rmse:0.93196\n",
      "[160]\tvalidation_0-rmse:0.86086\tvalidation_1-rmse:0.93168\n",
      "[161]\tvalidation_0-rmse:0.86021\tvalidation_1-rmse:0.93147\n",
      "[162]\tvalidation_0-rmse:0.85963\tvalidation_1-rmse:0.93117\n",
      "[163]\tvalidation_0-rmse:0.85893\tvalidation_1-rmse:0.93088\n",
      "[164]\tvalidation_0-rmse:0.85828\tvalidation_1-rmse:0.93063\n",
      "[165]\tvalidation_0-rmse:0.85769\tvalidation_1-rmse:0.93032\n",
      "[166]\tvalidation_0-rmse:0.85713\tvalidation_1-rmse:0.93011\n",
      "[167]\tvalidation_0-rmse:0.85654\tvalidation_1-rmse:0.92983\n",
      "[168]\tvalidation_0-rmse:0.85590\tvalidation_1-rmse:0.92962\n",
      "[169]\tvalidation_0-rmse:0.85525\tvalidation_1-rmse:0.92938\n",
      "[170]\tvalidation_0-rmse:0.85479\tvalidation_1-rmse:0.92915\n",
      "[171]\tvalidation_0-rmse:0.85416\tvalidation_1-rmse:0.92897\n",
      "[172]\tvalidation_0-rmse:0.85358\tvalidation_1-rmse:0.92879\n",
      "[173]\tvalidation_0-rmse:0.85297\tvalidation_1-rmse:0.92862\n",
      "[174]\tvalidation_0-rmse:0.85239\tvalidation_1-rmse:0.92834\n",
      "[175]\tvalidation_0-rmse:0.85184\tvalidation_1-rmse:0.92819\n",
      "[176]\tvalidation_0-rmse:0.85143\tvalidation_1-rmse:0.92799\n",
      "[177]\tvalidation_0-rmse:0.85093\tvalidation_1-rmse:0.92780\n",
      "[178]\tvalidation_0-rmse:0.85044\tvalidation_1-rmse:0.92758\n",
      "[179]\tvalidation_0-rmse:0.84990\tvalidation_1-rmse:0.92734\n",
      "[180]\tvalidation_0-rmse:0.84950\tvalidation_1-rmse:0.92715\n",
      "[181]\tvalidation_0-rmse:0.84902\tvalidation_1-rmse:0.92698\n",
      "[182]\tvalidation_0-rmse:0.84856\tvalidation_1-rmse:0.92678\n",
      "[183]\tvalidation_0-rmse:0.84802\tvalidation_1-rmse:0.92660\n",
      "[184]\tvalidation_0-rmse:0.84769\tvalidation_1-rmse:0.92648\n",
      "[185]\tvalidation_0-rmse:0.84735\tvalidation_1-rmse:0.92634\n",
      "[186]\tvalidation_0-rmse:0.84703\tvalidation_1-rmse:0.92623\n",
      "[187]\tvalidation_0-rmse:0.84652\tvalidation_1-rmse:0.92604\n",
      "[188]\tvalidation_0-rmse:0.84597\tvalidation_1-rmse:0.92588\n",
      "[189]\tvalidation_0-rmse:0.84556\tvalidation_1-rmse:0.92568\n",
      "[190]\tvalidation_0-rmse:0.84515\tvalidation_1-rmse:0.92553\n",
      "[191]\tvalidation_0-rmse:0.84458\tvalidation_1-rmse:0.92545\n",
      "[192]\tvalidation_0-rmse:0.84413\tvalidation_1-rmse:0.92535\n",
      "[193]\tvalidation_0-rmse:0.84366\tvalidation_1-rmse:0.92520\n",
      "[194]\tvalidation_0-rmse:0.84325\tvalidation_1-rmse:0.92505\n",
      "[195]\tvalidation_0-rmse:0.84271\tvalidation_1-rmse:0.92489\n",
      "[196]\tvalidation_0-rmse:0.84225\tvalidation_1-rmse:0.92475\n",
      "[197]\tvalidation_0-rmse:0.84184\tvalidation_1-rmse:0.92466\n",
      "[198]\tvalidation_0-rmse:0.84138\tvalidation_1-rmse:0.92455\n",
      "[199]\tvalidation_0-rmse:0.84096\tvalidation_1-rmse:0.92437\n",
      "[200]\tvalidation_0-rmse:0.84057\tvalidation_1-rmse:0.92421\n",
      "[201]\tvalidation_0-rmse:0.84012\tvalidation_1-rmse:0.92408\n",
      "[202]\tvalidation_0-rmse:0.83974\tvalidation_1-rmse:0.92393\n",
      "[203]\tvalidation_0-rmse:0.83929\tvalidation_1-rmse:0.92379\n",
      "[204]\tvalidation_0-rmse:0.83890\tvalidation_1-rmse:0.92364\n",
      "[205]\tvalidation_0-rmse:0.83846\tvalidation_1-rmse:0.92355\n",
      "[206]\tvalidation_0-rmse:0.83795\tvalidation_1-rmse:0.92345\n",
      "[207]\tvalidation_0-rmse:0.83752\tvalidation_1-rmse:0.92325\n",
      "[208]\tvalidation_0-rmse:0.83714\tvalidation_1-rmse:0.92319\n",
      "[209]\tvalidation_0-rmse:0.83665\tvalidation_1-rmse:0.92309\n",
      "[210]\tvalidation_0-rmse:0.83626\tvalidation_1-rmse:0.92302\n",
      "[211]\tvalidation_0-rmse:0.83601\tvalidation_1-rmse:0.92288\n",
      "[212]\tvalidation_0-rmse:0.83559\tvalidation_1-rmse:0.92271\n",
      "[213]\tvalidation_0-rmse:0.83519\tvalidation_1-rmse:0.92268\n",
      "[214]\tvalidation_0-rmse:0.83495\tvalidation_1-rmse:0.92254\n",
      "[215]\tvalidation_0-rmse:0.83465\tvalidation_1-rmse:0.92245\n",
      "[216]\tvalidation_0-rmse:0.83427\tvalidation_1-rmse:0.92236\n",
      "[217]\tvalidation_0-rmse:0.83392\tvalidation_1-rmse:0.92233\n",
      "[218]\tvalidation_0-rmse:0.83358\tvalidation_1-rmse:0.92224\n",
      "[219]\tvalidation_0-rmse:0.83323\tvalidation_1-rmse:0.92217\n",
      "[220]\tvalidation_0-rmse:0.83296\tvalidation_1-rmse:0.92211\n",
      "[221]\tvalidation_0-rmse:0.83269\tvalidation_1-rmse:0.92206\n",
      "[222]\tvalidation_0-rmse:0.83235\tvalidation_1-rmse:0.92198\n",
      "[223]\tvalidation_0-rmse:0.83210\tvalidation_1-rmse:0.92183\n",
      "[224]\tvalidation_0-rmse:0.83181\tvalidation_1-rmse:0.92169\n",
      "[225]\tvalidation_0-rmse:0.83144\tvalidation_1-rmse:0.92165\n",
      "[226]\tvalidation_0-rmse:0.83112\tvalidation_1-rmse:0.92158\n",
      "[227]\tvalidation_0-rmse:0.83088\tvalidation_1-rmse:0.92148\n",
      "[228]\tvalidation_0-rmse:0.83057\tvalidation_1-rmse:0.92141\n",
      "[229]\tvalidation_0-rmse:0.83020\tvalidation_1-rmse:0.92134\n",
      "[230]\tvalidation_0-rmse:0.82983\tvalidation_1-rmse:0.92125\n",
      "[231]\tvalidation_0-rmse:0.82952\tvalidation_1-rmse:0.92119\n",
      "[232]\tvalidation_0-rmse:0.82916\tvalidation_1-rmse:0.92118\n",
      "[233]\tvalidation_0-rmse:0.82889\tvalidation_1-rmse:0.92116\n",
      "[234]\tvalidation_0-rmse:0.82861\tvalidation_1-rmse:0.92110\n",
      "[235]\tvalidation_0-rmse:0.82830\tvalidation_1-rmse:0.92103\n",
      "[236]\tvalidation_0-rmse:0.82799\tvalidation_1-rmse:0.92094\n",
      "[237]\tvalidation_0-rmse:0.82773\tvalidation_1-rmse:0.92091\n",
      "[238]\tvalidation_0-rmse:0.82741\tvalidation_1-rmse:0.92085\n",
      "[239]\tvalidation_0-rmse:0.82709\tvalidation_1-rmse:0.92070\n",
      "[240]\tvalidation_0-rmse:0.82679\tvalidation_1-rmse:0.92067\n",
      "[241]\tvalidation_0-rmse:0.82656\tvalidation_1-rmse:0.92062\n",
      "[242]\tvalidation_0-rmse:0.82630\tvalidation_1-rmse:0.92055\n",
      "[243]\tvalidation_0-rmse:0.82594\tvalidation_1-rmse:0.92058\n",
      "[244]\tvalidation_0-rmse:0.82559\tvalidation_1-rmse:0.92055\n",
      "[245]\tvalidation_0-rmse:0.82533\tvalidation_1-rmse:0.92049\n",
      "[246]\tvalidation_0-rmse:0.82509\tvalidation_1-rmse:0.92044\n",
      "[247]\tvalidation_0-rmse:0.82482\tvalidation_1-rmse:0.92033\n",
      "[248]\tvalidation_0-rmse:0.82456\tvalidation_1-rmse:0.92029\n",
      "[249]\tvalidation_0-rmse:0.82423\tvalidation_1-rmse:0.92030\n",
      "[250]\tvalidation_0-rmse:0.82393\tvalidation_1-rmse:0.92031\n",
      "[251]\tvalidation_0-rmse:0.82363\tvalidation_1-rmse:0.92029\n",
      "[252]\tvalidation_0-rmse:0.82334\tvalidation_1-rmse:0.92031\n",
      "[253]\tvalidation_0-rmse:0.82305\tvalidation_1-rmse:0.92024\n",
      "[254]\tvalidation_0-rmse:0.82274\tvalidation_1-rmse:0.92022\n",
      "[255]\tvalidation_0-rmse:0.82253\tvalidation_1-rmse:0.92013\n",
      "[256]\tvalidation_0-rmse:0.82232\tvalidation_1-rmse:0.92010\n",
      "[257]\tvalidation_0-rmse:0.82205\tvalidation_1-rmse:0.92005\n",
      "[258]\tvalidation_0-rmse:0.82168\tvalidation_1-rmse:0.92009\n",
      "[259]\tvalidation_0-rmse:0.82145\tvalidation_1-rmse:0.92004\n",
      "[260]\tvalidation_0-rmse:0.82118\tvalidation_1-rmse:0.91998\n",
      "[261]\tvalidation_0-rmse:0.82092\tvalidation_1-rmse:0.91995\n",
      "[262]\tvalidation_0-rmse:0.82070\tvalidation_1-rmse:0.91990\n",
      "[263]\tvalidation_0-rmse:0.82047\tvalidation_1-rmse:0.91990\n",
      "[264]\tvalidation_0-rmse:0.82024\tvalidation_1-rmse:0.91989\n",
      "[265]\tvalidation_0-rmse:0.82001\tvalidation_1-rmse:0.91984\n",
      "[266]\tvalidation_0-rmse:0.81976\tvalidation_1-rmse:0.91980\n",
      "[267]\tvalidation_0-rmse:0.81951\tvalidation_1-rmse:0.91979\n",
      "[268]\tvalidation_0-rmse:0.81926\tvalidation_1-rmse:0.91976\n",
      "[269]\tvalidation_0-rmse:0.81899\tvalidation_1-rmse:0.91979\n",
      "[270]\tvalidation_0-rmse:0.81881\tvalidation_1-rmse:0.91976\n",
      "[271]\tvalidation_0-rmse:0.81863\tvalidation_1-rmse:0.91972\n",
      "[272]\tvalidation_0-rmse:0.81839\tvalidation_1-rmse:0.91968\n",
      "[273]\tvalidation_0-rmse:0.81812\tvalidation_1-rmse:0.91963\n",
      "[274]\tvalidation_0-rmse:0.81782\tvalidation_1-rmse:0.91957\n",
      "[275]\tvalidation_0-rmse:0.81758\tvalidation_1-rmse:0.91957\n",
      "[276]\tvalidation_0-rmse:0.81740\tvalidation_1-rmse:0.91953\n",
      "[277]\tvalidation_0-rmse:0.81720\tvalidation_1-rmse:0.91951\n",
      "[278]\tvalidation_0-rmse:0.81697\tvalidation_1-rmse:0.91951\n",
      "[279]\tvalidation_0-rmse:0.81681\tvalidation_1-rmse:0.91945\n",
      "[280]\tvalidation_0-rmse:0.81661\tvalidation_1-rmse:0.91939\n",
      "[281]\tvalidation_0-rmse:0.81643\tvalidation_1-rmse:0.91933\n",
      "[282]\tvalidation_0-rmse:0.81619\tvalidation_1-rmse:0.91933\n",
      "[283]\tvalidation_0-rmse:0.81589\tvalidation_1-rmse:0.91924\n",
      "[284]\tvalidation_0-rmse:0.81569\tvalidation_1-rmse:0.91918\n",
      "[285]\tvalidation_0-rmse:0.81552\tvalidation_1-rmse:0.91909\n",
      "[286]\tvalidation_0-rmse:0.81530\tvalidation_1-rmse:0.91910\n",
      "[287]\tvalidation_0-rmse:0.81502\tvalidation_1-rmse:0.91922\n",
      "[288]\tvalidation_0-rmse:0.81486\tvalidation_1-rmse:0.91920\n",
      "[289]\tvalidation_0-rmse:0.81459\tvalidation_1-rmse:0.91914\n",
      "[290]\tvalidation_0-rmse:0.81442\tvalidation_1-rmse:0.91910\n",
      "[291]\tvalidation_0-rmse:0.81420\tvalidation_1-rmse:0.91900\n",
      "[292]\tvalidation_0-rmse:0.81403\tvalidation_1-rmse:0.91900\n",
      "[293]\tvalidation_0-rmse:0.81381\tvalidation_1-rmse:0.91897\n",
      "[294]\tvalidation_0-rmse:0.81360\tvalidation_1-rmse:0.91896\n",
      "[295]\tvalidation_0-rmse:0.81337\tvalidation_1-rmse:0.91892\n",
      "[296]\tvalidation_0-rmse:0.81312\tvalidation_1-rmse:0.91895\n",
      "[297]\tvalidation_0-rmse:0.81292\tvalidation_1-rmse:0.91892\n",
      "[298]\tvalidation_0-rmse:0.81270\tvalidation_1-rmse:0.91889\n",
      "[299]\tvalidation_0-rmse:0.81252\tvalidation_1-rmse:0.91884\n",
      "[300]\tvalidation_0-rmse:0.81236\tvalidation_1-rmse:0.91882\n",
      "[301]\tvalidation_0-rmse:0.81217\tvalidation_1-rmse:0.91879\n",
      "[302]\tvalidation_0-rmse:0.81192\tvalidation_1-rmse:0.91873\n",
      "[303]\tvalidation_0-rmse:0.81173\tvalidation_1-rmse:0.91869\n",
      "[304]\tvalidation_0-rmse:0.81156\tvalidation_1-rmse:0.91865\n",
      "[305]\tvalidation_0-rmse:0.81139\tvalidation_1-rmse:0.91864\n",
      "[306]\tvalidation_0-rmse:0.81115\tvalidation_1-rmse:0.91871\n",
      "[307]\tvalidation_0-rmse:0.81094\tvalidation_1-rmse:0.91869\n",
      "[308]\tvalidation_0-rmse:0.81060\tvalidation_1-rmse:0.91871\n",
      "[309]\tvalidation_0-rmse:0.81039\tvalidation_1-rmse:0.91872\n",
      "[310]\tvalidation_0-rmse:0.81019\tvalidation_1-rmse:0.91876\n",
      "[311]\tvalidation_0-rmse:0.80995\tvalidation_1-rmse:0.91875\n",
      "[312]\tvalidation_0-rmse:0.80982\tvalidation_1-rmse:0.91871\n",
      "[313]\tvalidation_0-rmse:0.80965\tvalidation_1-rmse:0.91865\n",
      "[314]\tvalidation_0-rmse:0.80951\tvalidation_1-rmse:0.91868\n",
      "[315]\tvalidation_0-rmse:0.80933\tvalidation_1-rmse:0.91873\n",
      "[316]\tvalidation_0-rmse:0.80913\tvalidation_1-rmse:0.91861\n",
      "[317]\tvalidation_0-rmse:0.80890\tvalidation_1-rmse:0.91873\n",
      "[318]\tvalidation_0-rmse:0.80879\tvalidation_1-rmse:0.91872\n",
      "[319]\tvalidation_0-rmse:0.80860\tvalidation_1-rmse:0.91868\n",
      "[320]\tvalidation_0-rmse:0.80843\tvalidation_1-rmse:0.91871\n",
      "[321]\tvalidation_0-rmse:0.80827\tvalidation_1-rmse:0.91869\n",
      "[322]\tvalidation_0-rmse:0.80813\tvalidation_1-rmse:0.91868\n",
      "[323]\tvalidation_0-rmse:0.80796\tvalidation_1-rmse:0.91867\n",
      "[324]\tvalidation_0-rmse:0.80780\tvalidation_1-rmse:0.91861\n",
      "[325]\tvalidation_0-rmse:0.80763\tvalidation_1-rmse:0.91857\n",
      "[326]\tvalidation_0-rmse:0.80751\tvalidation_1-rmse:0.91854\n",
      "[327]\tvalidation_0-rmse:0.80732\tvalidation_1-rmse:0.91858\n",
      "[328]\tvalidation_0-rmse:0.80717\tvalidation_1-rmse:0.91857\n",
      "[329]\tvalidation_0-rmse:0.80702\tvalidation_1-rmse:0.91856\n",
      "[330]\tvalidation_0-rmse:0.80687\tvalidation_1-rmse:0.91856\n",
      "[331]\tvalidation_0-rmse:0.80671\tvalidation_1-rmse:0.91861\n",
      "[332]\tvalidation_0-rmse:0.80660\tvalidation_1-rmse:0.91858\n",
      "[333]\tvalidation_0-rmse:0.80644\tvalidation_1-rmse:0.91859\n",
      "[334]\tvalidation_0-rmse:0.80632\tvalidation_1-rmse:0.91859\n",
      "[335]\tvalidation_0-rmse:0.80619\tvalidation_1-rmse:0.91861\n",
      "[336]\tvalidation_0-rmse:0.80582\tvalidation_1-rmse:0.91872\n",
      "[337]\tvalidation_0-rmse:0.80566\tvalidation_1-rmse:0.91874\n",
      "[338]\tvalidation_0-rmse:0.80547\tvalidation_1-rmse:0.91869\n",
      "[339]\tvalidation_0-rmse:0.80528\tvalidation_1-rmse:0.91860\n",
      "[340]\tvalidation_0-rmse:0.80511\tvalidation_1-rmse:0.91856\n",
      "[341]\tvalidation_0-rmse:0.80498\tvalidation_1-rmse:0.91858\n",
      "[342]\tvalidation_0-rmse:0.80480\tvalidation_1-rmse:0.91856\n",
      "[343]\tvalidation_0-rmse:0.80464\tvalidation_1-rmse:0.91856\n",
      "[344]\tvalidation_0-rmse:0.80440\tvalidation_1-rmse:0.91855\n",
      "[345]\tvalidation_0-rmse:0.80430\tvalidation_1-rmse:0.91858\n",
      "[346]\tvalidation_0-rmse:0.80418\tvalidation_1-rmse:0.91855\n",
      "[347]\tvalidation_0-rmse:0.80392\tvalidation_1-rmse:0.91860\n",
      "[348]\tvalidation_0-rmse:0.80378\tvalidation_1-rmse:0.91863\n",
      "[349]\tvalidation_0-rmse:0.80365\tvalidation_1-rmse:0.91862\n",
      "[350]\tvalidation_0-rmse:0.80350\tvalidation_1-rmse:0.91861\n",
      "[351]\tvalidation_0-rmse:0.80334\tvalidation_1-rmse:0.91863\n",
      "[352]\tvalidation_0-rmse:0.80320\tvalidation_1-rmse:0.91863\n",
      "[353]\tvalidation_0-rmse:0.80302\tvalidation_1-rmse:0.91865\n",
      "[354]\tvalidation_0-rmse:0.80290\tvalidation_1-rmse:0.91866\n",
      "[355]\tvalidation_0-rmse:0.80275\tvalidation_1-rmse:0.91867\n",
      "[356]\tvalidation_0-rmse:0.80251\tvalidation_1-rmse:0.91889\n",
      "[357]\tvalidation_0-rmse:0.80234\tvalidation_1-rmse:0.91884\n",
      "[358]\tvalidation_0-rmse:0.80212\tvalidation_1-rmse:0.91878\n",
      "[359]\tvalidation_0-rmse:0.80192\tvalidation_1-rmse:0.91872\n",
      "[360]\tvalidation_0-rmse:0.80173\tvalidation_1-rmse:0.91871\n",
      "[361]\tvalidation_0-rmse:0.80164\tvalidation_1-rmse:0.91871\n",
      "[362]\tvalidation_0-rmse:0.80152\tvalidation_1-rmse:0.91870\n",
      "[363]\tvalidation_0-rmse:0.80140\tvalidation_1-rmse:0.91869\n",
      "[364]\tvalidation_0-rmse:0.80131\tvalidation_1-rmse:0.91869\n",
      "[365]\tvalidation_0-rmse:0.80109\tvalidation_1-rmse:0.91866\n",
      "[366]\tvalidation_0-rmse:0.80100\tvalidation_1-rmse:0.91865\n",
      "[367]\tvalidation_0-rmse:0.80088\tvalidation_1-rmse:0.91858\n",
      "[368]\tvalidation_0-rmse:0.80072\tvalidation_1-rmse:0.91857\n",
      "[369]\tvalidation_0-rmse:0.80063\tvalidation_1-rmse:0.91857\n",
      "[370]\tvalidation_0-rmse:0.80048\tvalidation_1-rmse:0.91860\n",
      "[371]\tvalidation_0-rmse:0.80034\tvalidation_1-rmse:0.91867\n",
      "[372]\tvalidation_0-rmse:0.79999\tvalidation_1-rmse:0.91889\n",
      "[373]\tvalidation_0-rmse:0.79989\tvalidation_1-rmse:0.91888\n",
      "[374]\tvalidation_0-rmse:0.79979\tvalidation_1-rmse:0.91892\n",
      "[375]\tvalidation_0-rmse:0.79970\tvalidation_1-rmse:0.91892\n",
      "[376]\tvalidation_0-rmse:0.79957\tvalidation_1-rmse:0.91890\n",
      "Stopping. Best iteration:\n",
      "[326]\tvalidation_0-rmse:0.80751\tvalidation_1-rmse:0.91854\n",
      "\n",
      "CPU times: user 4h 44min 44s, sys: 2min 46s, total: 4h 47min 31s\n",
      "Wall time: 1h 14min\n"
     ]
    },
    {
     "data": {
      "text/plain": [
       "XGBRegressor(base_score=0.5, booster='gbtree', colsample_bylevel=1,\n",
       "             colsample_bynode=1, colsample_bytree=0.5, gamma=0, gpu_id=-1,\n",
       "             importance_type='gain', interaction_constraints='',\n",
       "             learning_rate=0.01, max_delta_step=0, max_depth=10,\n",
       "             min_child_weight=1, missing=nan, monotone_constraints='()',\n",
       "             n_estimators=3000, n_jobs=0, num_parallel_tree=1, random_state=0,\n",
       "             reg_alpha=0, reg_lambda=1, scale_pos_weight=1, subsample=0.5,\n",
       "             tree_method='approx', validate_parameters=1, verbosity=None)"
      ]
     },
     "execution_count": 102,
     "metadata": {},
     "output_type": "execute_result"
    }
   ],
   "source": [
    "%%time\n",
    "#进行模型训练，并设置早停函数(建议在kaggle端进行)\n",
    "model.fit(train_feature.values, train_label.values, \n",
    "          eval_metric=\"rmse\", \n",
    "          eval_set=[(train_feature.values, train_label.values), (val_feature.values, val_label.values)], \n",
    "          verbose=True, \n",
    "          early_stopping_rounds = 50)"
   ]
  },
  {
   "cell_type": "markdown",
   "metadata": {
    "papermill": {
     "duration": 0.051177,
     "end_time": "2020-08-23T08:46:47.837457",
     "exception": false,
     "start_time": "2020-08-23T08:46:47.786280",
     "status": "completed"
    },
    "tags": []
   },
   "source": [
    "#### 结果预测"
   ]
  },
  {
   "cell_type": "code",
   "execution_count": 103,
   "metadata": {
    "execution": {
     "iopub.execute_input": "2020-08-23T08:46:47.949737Z",
     "iopub.status.busy": "2020-08-23T08:46:47.948714Z",
     "iopub.status.idle": "2020-08-23T08:46:51.061819Z",
     "shell.execute_reply": "2020-08-23T08:46:51.062540Z"
    },
    "papermill": {
     "duration": 3.173104,
     "end_time": "2020-08-23T08:46:51.062737",
     "exception": false,
     "start_time": "2020-08-23T08:46:47.889633",
     "status": "completed"
    },
    "tags": []
   },
   "outputs": [],
   "source": [
    "#导出预测结果\n",
    "y_pred = model.predict(test_feature.values)"
   ]
  },
  {
   "cell_type": "code",
   "execution_count": 104,
   "metadata": {
    "execution": {
     "iopub.execute_input": "2020-08-23T08:46:51.216123Z",
     "iopub.status.busy": "2020-08-23T08:46:51.215341Z",
     "iopub.status.idle": "2020-08-23T08:46:57.306693Z",
     "shell.execute_reply": "2020-08-23T08:46:57.305999Z"
    },
    "papermill": {
     "duration": 6.17312,
     "end_time": "2020-08-23T08:46:57.306828",
     "exception": false,
     "start_time": "2020-08-23T08:46:51.133708",
     "status": "completed"
    },
    "tags": []
   },
   "outputs": [
    {
     "data": {
      "text/plain": [
       "<matplotlib.axes._subplots.AxesSubplot at 0x7fdb4d5e7c90>"
      ]
     },
     "execution_count": 104,
     "metadata": {},
     "output_type": "execute_result"
    },
    {
     "data": {
      "image/png": "[encoded data removed]",
      "text/plain": [
       "<Figure size 576x432 with 1 Axes>"
      ]
     },
     "metadata": {},
     "output_type": "display_data"
    }
   ],
   "source": [
    "#特征重要性查看\n",
    "importances = pd.DataFrame({'feature':new_train.drop('item_cnt_month', axis = 1).columns,'importance':np.round(model.feature_importances_,3)}) \n",
    "importances = importances.sort_values('importance',ascending=False).set_index('feature') \n",
    "importances = importances[importances['importance'] > 0.01]\n",
    "\n",
    "importances.plot(kind='bar',\n",
    "                 title = 'Feature Importance',\n",
    "                 figsize = (8,6),\n",
    "                 grid= 'both')"
   ]
  },
  {
   "cell_type": "markdown",
   "metadata": {
    "papermill": {
     "duration": 0.052196,
     "end_time": "2020-08-23T08:46:57.411541",
     "exception": false,
     "start_time": "2020-08-23T08:46:57.359345",
     "status": "completed"
    },
    "tags": []
   },
   "source": [
    "#### 提交结果"
   ]
  },
  {
   "cell_type": "code",
   "execution_count": 105,
   "metadata": {
    "execution": {
     "iopub.execute_input": "2020-08-23T08:46:57.520663Z",
     "iopub.status.busy": "2020-08-23T08:46:57.519892Z",
     "iopub.status.idle": "2020-08-23T08:46:58.040351Z",
     "shell.execute_reply": "2020-08-23T08:46:58.039664Z"
    },
    "papermill": {
     "duration": 0.57679,
     "end_time": "2020-08-23T08:46:58.040497",
     "exception": false,
     "start_time": "2020-08-23T08:46:57.463707",
     "status": "completed"
    },
    "tags": []
   },
   "outputs": [],
   "source": [
    "submission['item_cnt_month'] = y_pred\n",
    "submission.to_csv('future_sales_pred.csv', index=False)"
   ]
  }
 ],
 "metadata": {
  "kernelspec": {
   "display_name": "Python 3",
   "language": "python",
   "name": "python3"
  },
  "language_info": {
   "codemirror_mode": {
    "name": "ipython",
    "version": 3
   },
   "file_extension": ".py",
   "mimetype": "text/x-python",
   "name": "python",
   "nbconvert_exporter": "python",
   "pygments_lexer": "ipython3",
   "version": "3.12.4"
  },
  "papermill": {
   "duration": 4733.810162,
   "end_time": "2020-08-23T08:46:59.179457",
   "environment_variables": {},
   "exception": null,
   "input_path": "__notebook__.ipynb",
   "output_path": "__notebook__.ipynb",
   "parameters": {},
   "start_time": "2020-08-23T07:28:05.369295",
   "version": "2.1.0"
  }
 },
 "nbformat": 4,
 "nbformat_minor": 4
}
